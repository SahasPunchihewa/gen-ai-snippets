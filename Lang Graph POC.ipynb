{
 "cells": [
  {
   "metadata": {},
   "cell_type": "markdown",
   "source": "# Install Dependencies",
   "id": "81e8b43184469679"
  },
  {
   "metadata": {
    "ExecuteTime": {
     "end_time": "2025-02-19T05:02:30.937549Z",
     "start_time": "2025-02-19T05:02:30.369017Z"
    }
   },
   "cell_type": "code",
   "source": "%pip install langchain_openai==0.3.2 langgraph==0.2.68 langchain-community==0.3.16 langchain-experimental==0.3.4 langchain-core==0.3.32 ipython==8.31.0 httpx==0.28.1",
   "id": "a260dc72e40d2b8",
   "outputs": [
    {
     "name": "stdout",
     "output_type": "stream",
     "text": [
      "Requirement already satisfied: langchain_openai==0.3.2 in ./venv/lib/python3.12/site-packages (0.3.2)\r\n",
      "Requirement already satisfied: langgraph==0.2.68 in ./venv/lib/python3.12/site-packages (0.2.68)\r\n",
      "Requirement already satisfied: langchain-community==0.3.16 in ./venv/lib/python3.12/site-packages (0.3.16)\r\n",
      "Requirement already satisfied: langchain-experimental==0.3.4 in ./venv/lib/python3.12/site-packages (0.3.4)\r\n",
      "Requirement already satisfied: langchain-core==0.3.32 in ./venv/lib/python3.12/site-packages (0.3.32)\r\n",
      "Requirement already satisfied: ipython==8.31.0 in ./venv/lib/python3.12/site-packages (8.31.0)\r\n",
      "Requirement already satisfied: httpx==0.28.1 in ./venv/lib/python3.12/site-packages (0.28.1)\r\n",
      "Requirement already satisfied: openai<2.0.0,>=1.58.1 in ./venv/lib/python3.12/site-packages (from langchain_openai==0.3.2) (1.60.0)\r\n",
      "Requirement already satisfied: tiktoken<1,>=0.7 in ./venv/lib/python3.12/site-packages (from langchain_openai==0.3.2) (0.8.0)\r\n",
      "Requirement already satisfied: langgraph-checkpoint<3.0.0,>=2.0.10 in ./venv/lib/python3.12/site-packages (from langgraph==0.2.68) (2.0.10)\r\n",
      "Requirement already satisfied: langgraph-sdk<0.2.0,>=0.1.42 in ./venv/lib/python3.12/site-packages (from langgraph==0.2.68) (0.1.51)\r\n",
      "Requirement already satisfied: PyYAML>=5.3 in ./venv/lib/python3.12/site-packages (from langchain-community==0.3.16) (6.0.2)\r\n",
      "Requirement already satisfied: SQLAlchemy<3,>=1.4 in ./venv/lib/python3.12/site-packages (from langchain-community==0.3.16) (2.0.37)\r\n",
      "Requirement already satisfied: aiohttp<4.0.0,>=3.8.3 in ./venv/lib/python3.12/site-packages (from langchain-community==0.3.16) (3.11.11)\r\n",
      "Requirement already satisfied: dataclasses-json<0.7,>=0.5.7 in ./venv/lib/python3.12/site-packages (from langchain-community==0.3.16) (0.6.7)\r\n",
      "Requirement already satisfied: httpx-sse<0.5.0,>=0.4.0 in ./venv/lib/python3.12/site-packages (from langchain-community==0.3.16) (0.4.0)\r\n",
      "Requirement already satisfied: langchain<0.4.0,>=0.3.16 in ./venv/lib/python3.12/site-packages (from langchain-community==0.3.16) (0.3.16)\r\n",
      "Requirement already satisfied: langsmith<0.4,>=0.1.125 in ./venv/lib/python3.12/site-packages (from langchain-community==0.3.16) (0.3.0)\r\n",
      "Requirement already satisfied: numpy<3,>=1.26.2 in ./venv/lib/python3.12/site-packages (from langchain-community==0.3.16) (1.26.4)\r\n",
      "Requirement already satisfied: pydantic-settings<3.0.0,>=2.4.0 in ./venv/lib/python3.12/site-packages (from langchain-community==0.3.16) (2.7.1)\r\n",
      "Requirement already satisfied: requests<3,>=2 in ./venv/lib/python3.12/site-packages (from langchain-community==0.3.16) (2.32.3)\r\n",
      "Requirement already satisfied: tenacity!=8.4.0,<10,>=8.1.0 in ./venv/lib/python3.12/site-packages (from langchain-community==0.3.16) (9.0.0)\r\n",
      "Requirement already satisfied: jsonpatch<2.0,>=1.33 in ./venv/lib/python3.12/site-packages (from langchain-core==0.3.32) (1.33)\r\n",
      "Requirement already satisfied: packaging<25,>=23.2 in ./venv/lib/python3.12/site-packages (from langchain-core==0.3.32) (24.2)\r\n",
      "Requirement already satisfied: pydantic<3.0.0,>=2.7.4 in ./venv/lib/python3.12/site-packages (from langchain-core==0.3.32) (2.10.5)\r\n",
      "Requirement already satisfied: typing-extensions>=4.7 in ./venv/lib/python3.12/site-packages (from langchain-core==0.3.32) (4.12.2)\r\n",
      "Requirement already satisfied: decorator in ./venv/lib/python3.12/site-packages (from ipython==8.31.0) (5.1.1)\r\n",
      "Requirement already satisfied: jedi>=0.16 in ./venv/lib/python3.12/site-packages (from ipython==8.31.0) (0.19.2)\r\n",
      "Requirement already satisfied: matplotlib-inline in ./venv/lib/python3.12/site-packages (from ipython==8.31.0) (0.1.7)\r\n",
      "Requirement already satisfied: pexpect>4.3 in ./venv/lib/python3.12/site-packages (from ipython==8.31.0) (4.9.0)\r\n",
      "Requirement already satisfied: prompt_toolkit<3.1.0,>=3.0.41 in ./venv/lib/python3.12/site-packages (from ipython==8.31.0) (3.0.50)\r\n",
      "Requirement already satisfied: pygments>=2.4.0 in ./venv/lib/python3.12/site-packages (from ipython==8.31.0) (2.19.1)\r\n",
      "Requirement already satisfied: stack_data in ./venv/lib/python3.12/site-packages (from ipython==8.31.0) (0.6.3)\r\n",
      "Requirement already satisfied: traitlets>=5.13.0 in ./venv/lib/python3.12/site-packages (from ipython==8.31.0) (5.14.3)\r\n",
      "Requirement already satisfied: anyio in ./venv/lib/python3.12/site-packages (from httpx==0.28.1) (4.8.0)\r\n",
      "Requirement already satisfied: certifi in ./venv/lib/python3.12/site-packages (from httpx==0.28.1) (2024.12.14)\r\n",
      "Requirement already satisfied: httpcore==1.* in ./venv/lib/python3.12/site-packages (from httpx==0.28.1) (1.0.7)\r\n",
      "Requirement already satisfied: idna in ./venv/lib/python3.12/site-packages (from httpx==0.28.1) (3.10)\r\n",
      "Requirement already satisfied: h11<0.15,>=0.13 in ./venv/lib/python3.12/site-packages (from httpcore==1.*->httpx==0.28.1) (0.14.0)\r\n",
      "Requirement already satisfied: aiohappyeyeballs>=2.3.0 in ./venv/lib/python3.12/site-packages (from aiohttp<4.0.0,>=3.8.3->langchain-community==0.3.16) (2.4.4)\r\n",
      "Requirement already satisfied: aiosignal>=1.1.2 in ./venv/lib/python3.12/site-packages (from aiohttp<4.0.0,>=3.8.3->langchain-community==0.3.16) (1.3.2)\r\n",
      "Requirement already satisfied: attrs>=17.3.0 in ./venv/lib/python3.12/site-packages (from aiohttp<4.0.0,>=3.8.3->langchain-community==0.3.16) (24.3.0)\r\n",
      "Requirement already satisfied: frozenlist>=1.1.1 in ./venv/lib/python3.12/site-packages (from aiohttp<4.0.0,>=3.8.3->langchain-community==0.3.16) (1.5.0)\r\n",
      "Requirement already satisfied: multidict<7.0,>=4.5 in ./venv/lib/python3.12/site-packages (from aiohttp<4.0.0,>=3.8.3->langchain-community==0.3.16) (6.1.0)\r\n",
      "Requirement already satisfied: propcache>=0.2.0 in ./venv/lib/python3.12/site-packages (from aiohttp<4.0.0,>=3.8.3->langchain-community==0.3.16) (0.2.1)\r\n",
      "Requirement already satisfied: yarl<2.0,>=1.17.0 in ./venv/lib/python3.12/site-packages (from aiohttp<4.0.0,>=3.8.3->langchain-community==0.3.16) (1.18.3)\r\n",
      "Requirement already satisfied: marshmallow<4.0.0,>=3.18.0 in ./venv/lib/python3.12/site-packages (from dataclasses-json<0.7,>=0.5.7->langchain-community==0.3.16) (3.25.1)\r\n",
      "Requirement already satisfied: typing-inspect<1,>=0.4.0 in ./venv/lib/python3.12/site-packages (from dataclasses-json<0.7,>=0.5.7->langchain-community==0.3.16) (0.9.0)\r\n",
      "Requirement already satisfied: parso<0.9.0,>=0.8.4 in ./venv/lib/python3.12/site-packages (from jedi>=0.16->ipython==8.31.0) (0.8.4)\r\n",
      "Requirement already satisfied: jsonpointer>=1.9 in ./venv/lib/python3.12/site-packages (from jsonpatch<2.0,>=1.33->langchain-core==0.3.32) (3.0.0)\r\n",
      "Requirement already satisfied: langchain-text-splitters<0.4.0,>=0.3.3 in ./venv/lib/python3.12/site-packages (from langchain<0.4.0,>=0.3.16->langchain-community==0.3.16) (0.3.5)\r\n",
      "Requirement already satisfied: msgpack<2.0.0,>=1.1.0 in ./venv/lib/python3.12/site-packages (from langgraph-checkpoint<3.0.0,>=2.0.10->langgraph==0.2.68) (1.1.0)\r\n",
      "Requirement already satisfied: orjson>=3.10.1 in ./venv/lib/python3.12/site-packages (from langgraph-sdk<0.2.0,>=0.1.42->langgraph==0.2.68) (3.10.15)\r\n",
      "Requirement already satisfied: requests-toolbelt<2.0.0,>=1.0.0 in ./venv/lib/python3.12/site-packages (from langsmith<0.4,>=0.1.125->langchain-community==0.3.16) (1.0.0)\r\n",
      "Requirement already satisfied: zstandard<0.24.0,>=0.23.0 in ./venv/lib/python3.12/site-packages (from langsmith<0.4,>=0.1.125->langchain-community==0.3.16) (0.23.0)\r\n",
      "Requirement already satisfied: distro<2,>=1.7.0 in ./venv/lib/python3.12/site-packages (from openai<2.0.0,>=1.58.1->langchain_openai==0.3.2) (1.9.0)\r\n",
      "Requirement already satisfied: jiter<1,>=0.4.0 in ./venv/lib/python3.12/site-packages (from openai<2.0.0,>=1.58.1->langchain_openai==0.3.2) (0.8.2)\r\n",
      "Requirement already satisfied: sniffio in ./venv/lib/python3.12/site-packages (from openai<2.0.0,>=1.58.1->langchain_openai==0.3.2) (1.3.1)\r\n",
      "Requirement already satisfied: tqdm>4 in ./venv/lib/python3.12/site-packages (from openai<2.0.0,>=1.58.1->langchain_openai==0.3.2) (4.67.1)\r\n",
      "Requirement already satisfied: ptyprocess>=0.5 in ./venv/lib/python3.12/site-packages (from pexpect>4.3->ipython==8.31.0) (0.7.0)\r\n",
      "Requirement already satisfied: wcwidth in ./venv/lib/python3.12/site-packages (from prompt_toolkit<3.1.0,>=3.0.41->ipython==8.31.0) (0.2.13)\r\n",
      "Requirement already satisfied: annotated-types>=0.6.0 in ./venv/lib/python3.12/site-packages (from pydantic<3.0.0,>=2.7.4->langchain-core==0.3.32) (0.7.0)\r\n",
      "Requirement already satisfied: pydantic-core==2.27.2 in ./venv/lib/python3.12/site-packages (from pydantic<3.0.0,>=2.7.4->langchain-core==0.3.32) (2.27.2)\r\n",
      "Requirement already satisfied: python-dotenv>=0.21.0 in ./venv/lib/python3.12/site-packages (from pydantic-settings<3.0.0,>=2.4.0->langchain-community==0.3.16) (1.0.1)\r\n",
      "Requirement already satisfied: charset-normalizer<4,>=2 in ./venv/lib/python3.12/site-packages (from requests<3,>=2->langchain-community==0.3.16) (3.4.1)\r\n",
      "Requirement already satisfied: urllib3<3,>=1.21.1 in ./venv/lib/python3.12/site-packages (from requests<3,>=2->langchain-community==0.3.16) (2.3.0)\r\n",
      "Requirement already satisfied: regex>=2022.1.18 in ./venv/lib/python3.12/site-packages (from tiktoken<1,>=0.7->langchain_openai==0.3.2) (2024.11.6)\r\n",
      "Requirement already satisfied: executing>=1.2.0 in ./venv/lib/python3.12/site-packages (from stack_data->ipython==8.31.0) (2.2.0)\r\n",
      "Requirement already satisfied: asttokens>=2.1.0 in ./venv/lib/python3.12/site-packages (from stack_data->ipython==8.31.0) (3.0.0)\r\n",
      "Requirement already satisfied: pure-eval in ./venv/lib/python3.12/site-packages (from stack_data->ipython==8.31.0) (0.2.3)\r\n",
      "Requirement already satisfied: mypy-extensions>=0.3.0 in ./venv/lib/python3.12/site-packages (from typing-inspect<1,>=0.4.0->dataclasses-json<0.7,>=0.5.7->langchain-community==0.3.16) (1.0.0)\r\n",
      "\r\n",
      "\u001B[1m[\u001B[0m\u001B[34;49mnotice\u001B[0m\u001B[1;39;49m]\u001B[0m\u001B[39;49m A new release of pip is available: \u001B[0m\u001B[31;49m25.0\u001B[0m\u001B[39;49m -> \u001B[0m\u001B[32;49m25.0.1\u001B[0m\r\n",
      "\u001B[1m[\u001B[0m\u001B[34;49mnotice\u001B[0m\u001B[1;39;49m]\u001B[0m\u001B[39;49m To update, run: \u001B[0m\u001B[32;49mpip install --upgrade pip\u001B[0m\r\n",
      "Note: you may need to restart the kernel to use updated packages.\n"
     ]
    }
   ],
   "execution_count": 2
  },
  {
   "metadata": {},
   "cell_type": "markdown",
   "source": "# Setup Environment",
   "id": "7acb23f01c6d233e"
  },
  {
   "metadata": {
    "ExecuteTime": {
     "end_time": "2025-02-19T05:02:33.280817Z",
     "start_time": "2025-02-19T05:02:33.278584Z"
    }
   },
   "cell_type": "code",
   "source": [
    "import os\n",
    "\n",
    "os.environ['OPENAI_API_KEY'] = os.getenv('OPENAI_API_KEY')\n",
    "os.environ['TAVILY_API_KEY'] = os.getenv('TAVILY_API_KEY')"
   ],
   "id": "f03fc2623cd28ab8",
   "outputs": [],
   "execution_count": 3
  },
  {
   "metadata": {},
   "cell_type": "markdown",
   "source": "# Create Tools",
   "id": "fb10f3abbfc8077c"
  },
  {
   "metadata": {
    "ExecuteTime": {
     "end_time": "2025-02-19T05:02:35.258112Z",
     "start_time": "2025-02-19T05:02:34.931884Z"
    }
   },
   "cell_type": "code",
   "source": [
    "import json\n",
    "import httpx\n",
    "\n",
    "from langchain_core.tools import tool\n",
    "\n",
    "\n",
    "@tool\n",
    "def get_players() -> str:\n",
    "    \"\"\"Use this to fetch real time details of players, team, country, salary etc.\"\"\"\n",
    "\n",
    "    result = httpx.Client().get('http://localhost:8081/players')\n",
    "    return json.dumps(result.json())\n",
    "\n",
    "\n",
    "@tool\n",
    "def get_landmarks() -> str:\n",
    "    \"\"\"Use this to fetch real time details of places, landmarks etc.\"\"\"\n",
    "\n",
    "    result = httpx.Client().get('http://localhost:8081/landmarks')\n",
    "    return json.dumps(result.json())\n",
    "\n",
    "\n",
    "@tool\n",
    "def get_trains() -> str:\n",
    "    \"\"\"Use this to fetch real time details of trains, locomotives classified from class M1 - M11.\"\"\"\n",
    "\n",
    "    result = httpx.Client().get('http://localhost:8081/trains')\n",
    "    return json.dumps(result.json())"
   ],
   "id": "91a75ffcdb156bf1",
   "outputs": [],
   "execution_count": 4
  },
  {
   "metadata": {},
   "cell_type": "markdown",
   "source": "# Create Agents",
   "id": "d155289b46c6a043"
  },
  {
   "metadata": {
    "ExecuteTime": {
     "end_time": "2025-02-19T06:57:38.507010Z",
     "start_time": "2025-02-19T06:57:38.469096Z"
    }
   },
   "cell_type": "code",
   "source": [
    "from langchain_openai import ChatOpenAI\n",
    "from typing import Literal\n",
    "from typing_extensions import TypedDict\n",
    "from langgraph.graph import MessagesState\n",
    "from langgraph.types import Command\n",
    "from langgraph.prebuilt import create_react_agent\n",
    "\n",
    "members = ['sport_agent', 'place_agent', 'train_agent']\n",
    "# Our team supervisor is an LLM node. It just picks the next agent to process\n",
    "# and decides when the work is completed\n",
    "options = members + ['FINISH']\n",
    "\n",
    "system_prompt = (\n",
    "    f'''\n",
    "    You are a supervisor tasked with You are a supervisor tasked with managing a conversation between the\n",
    "    following workers: {members}. respond with the worker to act next. Each worker will perform a\n",
    "    task and respond with their results and status. When finished, respond with FINISH.\n",
    "    - If the question is about sports, players, or teams, route to `sport_agent`.\n",
    "    - If the question is about places or landmarks, route to `place_agent`.\n",
    "    - If the question is about trains, locomotives, or railway engines, route to `train_agent`.\n",
    "    - If none of these apply, route to `FINISH`.\n",
    "    '''\n",
    ")\n",
    "\n",
    "\n",
    "class Router(TypedDict):\n",
    "    \"\"\"Worker to route to next. If no workers needed, route to FINISH.\"\"\"\n",
    "\n",
    "    next: Literal[*options]\n",
    "\n",
    "\n",
    "llm = ChatOpenAI(model='gpt-4o-mini')\n",
    "\n",
    "\n",
    "class State(MessagesState):\n",
    "    next: str\n",
    "\n",
    "\n",
    "sport_agent = create_react_agent(\n",
    "    llm, tools=[get_players], prompt='You are a sport agent. ONLY ANSWER SPORTS, PLAYERS, TEAMS RELATED QUESTIONS.'\n",
    ")\n",
    "\n",
    "place_agent = create_react_agent(\n",
    "    llm, tools=[get_landmarks], prompt='You are a place agent. Answer questions related to places, landmarks etc.'\n",
    ")\n",
    "\n",
    "train_agent = create_react_agent(\n",
    "    llm, tools=[get_trains],\n",
    "    prompt='You are a train agent. answer question related to trains, engines, locomotives classified from M1 - M11).'\n",
    ")\n",
    "\n",
    "\n",
    "def supervisor_node(state: State) -> Command[Literal[*members, '__end__']]:\n",
    "    messages = [\n",
    "                   {'role': 'system', 'content': system_prompt},\n",
    "               ] + state['messages']\n",
    "    response = llm.with_structured_output(Router).invoke(messages)\n",
    "    goto = response['next']\n",
    "    if goto == 'FINISH':\n",
    "        goto = END\n",
    "\n",
    "    return Command(goto=goto, update={'next': goto})\n",
    "\n",
    "\n",
    "def sport_node(state: State) -> Command[Literal['supervisor']]:\n",
    "    result = sport_agent.invoke(state)\n",
    "    return Command(\n",
    "        update={\n",
    "            'messages': [\n",
    "                HumanMessage(content=result['messages'][-1].content, name='sport_agent')\n",
    "            ]\n",
    "        },\n",
    "        goto='supervisor',\n",
    "    )\n",
    "\n",
    "\n",
    "def place_node(state: State) -> Command[Literal['supervisor']]:\n",
    "    result = place_agent.invoke(state)\n",
    "    return Command(\n",
    "        update={\n",
    "            'messages': [\n",
    "                HumanMessage(content=result['messages'][-1].content, name='place_agent')\n",
    "            ]\n",
    "        },\n",
    "        goto='supervisor',\n",
    "    )\n",
    "\n",
    "\n",
    "def train_node(state: State) -> Command[Literal['supervisor']]:\n",
    "    result = train_agent.invoke(state)\n",
    "    return Command(\n",
    "        update={\n",
    "            'messages': [\n",
    "                HumanMessage(content=result['messages'][-1].content, name='train_agent')\n",
    "            ]\n",
    "        },\n",
    "        goto='supervisor',\n",
    "    )"
   ],
   "id": "e34f6a83d4e8044d",
   "outputs": [],
   "execution_count": 60
  },
  {
   "metadata": {},
   "cell_type": "markdown",
   "source": "# Build Graph",
   "id": "18e75aaea099ce21"
  },
  {
   "metadata": {
    "ExecuteTime": {
     "end_time": "2025-02-19T06:57:42.726856Z",
     "start_time": "2025-02-19T06:57:42.723254Z"
    }
   },
   "cell_type": "code",
   "source": [
    "from langchain_core.messages import HumanMessage\n",
    "from langgraph.graph import StateGraph, START, END\n",
    "\n",
    "builder = StateGraph(State)\n",
    "builder.add_edge(START, 'supervisor')\n",
    "builder.add_node('supervisor', supervisor_node)\n",
    "builder.add_node('sport_agent', sport_node)\n",
    "builder.add_node('place_agent', place_node)\n",
    "builder.add_node('train_agent', train_node)\n",
    "graph = builder.compile()"
   ],
   "id": "127d1a7632a922ab",
   "outputs": [],
   "execution_count": 61
  },
  {
   "metadata": {},
   "cell_type": "markdown",
   "source": "# Graph",
   "id": "a515ad59762cf8fe"
  },
  {
   "metadata": {
    "ExecuteTime": {
     "end_time": "2025-02-19T05:05:22.805368Z",
     "start_time": "2025-02-19T05:05:21.741677Z"
    }
   },
   "cell_type": "code",
   "source": [
    "from IPython.display import display, Image\n",
    "\n",
    "display(Image(graph.get_graph().draw_mermaid_png()))"
   ],
   "id": "eabda5690021426",
   "outputs": [
    {
     "data": {
      "image/png": "[encoded data removed]",
      "text/plain": [
       "<IPython.core.display.Image object>"
      ]
     },
     "metadata": {},
     "output_type": "display_data"
    }
   ],
   "execution_count": 27
  },
  {
   "metadata": {},
   "cell_type": "markdown",
   "source": "# Test",
   "id": "56c3316be4cd8b54"
  },
  {
   "metadata": {
    "ExecuteTime": {
     "end_time": "2025-02-19T06:58:04.768368Z",
     "start_time": "2025-02-19T06:58:01.845803Z"
    }
   },
   "cell_type": "code",
   "source": [
    "for s in graph.stream({\"messages\": [(\"user\", 'What\\'s the age of Sean Manaea?')]}, subgraphs=True):\n",
    "    print(s)\n",
    "    print(\"----\")"
   ],
   "id": "e91c512fb1b9e57d",
   "outputs": [
    {
     "name": "stdout",
     "output_type": "stream",
     "text": [
      "((), {'supervisor': {'next': 'sport_agent'}})\n",
      "----\n",
      "(('sport_agent:95a81489-32c5-48e9-d8fe-c920d2073b96',), {'agent': {'messages': [AIMessage(content='', additional_kwargs={'tool_calls': [{'id': 'call_OfUXzrA5aMEsfvLN23olcAt9', 'function': {'arguments': '{}', 'name': 'get_players'}, 'type': 'function'}], 'refusal': None}, response_metadata={'token_usage': {'completion_tokens': 11, 'prompt_tokens': 75, 'total_tokens': 86, 'completion_tokens_details': {'accepted_prediction_tokens': 0, 'audio_tokens': 0, 'reasoning_tokens': 0, 'rejected_prediction_tokens': 0}, 'prompt_tokens_details': {'audio_tokens': 0, 'cached_tokens': 0}}, 'model_name': 'gpt-4o-mini-2024-07-18', 'system_fingerprint': 'fp_00428b782a', 'finish_reason': 'tool_calls', 'logprobs': None}, id='run-a48fe906-c02b-4105-90c5-06edd22177d6-0', tool_calls=[{'name': 'get_players', 'args': {}, 'id': 'call_OfUXzrA5aMEsfvLN23olcAt9', 'type': 'tool_call'}], usage_metadata={'input_tokens': 75, 'output_tokens': 11, 'total_tokens': 86, 'input_token_details': {'audio': 0, 'cache_read': 0}, 'output_token_details': {'audio': 0, 'reasoning': 0}})]}})\n",
      "----\n",
      "(('sport_agent:95a81489-32c5-48e9-d8fe-c920d2073b96',), {'tools': {'messages': [ToolMessage(content='[{\"id\": 1, \"name\": \"Juan Soto\", \"age\": 26, \"contract_start_date\": \"2024-12-11\", \"contract_end_date\": \"2039-12-10\", \"team\": \"New York Mets\", \"country\": \"Dominican Republic\", \"salary\": \"51 million per year\"}, {\"id\": 2, \"name\": \"Brent Rooker\", \"age\": 30, \"contract_start_date\": \"2025-01-07\", \"contract_end_date\": \"2030-01-06\", \"team\": \"Oakland Athletics\", \"country\": \"United States\", \"salary\": \"12 million per year\"}, {\"id\": 3, \"name\": \"Blake Snell\", \"age\": 32, \"contract_start_date\": \"2025-01-01\", \"contract_end_date\": \"2029-12-31\", \"team\": \"Los Angeles Dodgers\", \"country\": \"United States\", \"salary\": \"36.4 million per year\"}, {\"id\": 4, \"name\": \"Paul Goldschmidt\", \"age\": 37, \"contract_start_date\": \"2024-12-30\", \"contract_end_date\": \"2025-12-29\", \"team\": \"New York Yankees\", \"country\": \"United States\", \"salary\": \"12.5 million per year\"}, {\"id\": 5, \"name\": \"Reynaldo L\\\\u00f3pez\", \"age\": 31, \"contract_start_date\": \"2023-11-20\", \"contract_end_date\": \"2026-11-19\", \"team\": \"Atlanta Braves\", \"country\": \"Dominican Republic\", \"salary\": \"8 million in 2025, 14 million in 2026\"}, {\"id\": 6, \"name\": \"Max Fried\", \"age\": 30, \"contract_start_date\": \"2024-12-17\", \"contract_end_date\": \"2032-12-16\", \"team\": \"New York Yankees\", \"country\": \"United States\", \"salary\": \"27.25 million per year\"}, {\"id\": 7, \"name\": \"Teoscar Hern\\\\u00e1ndez\", \"age\": 32, \"contract_start_date\": \"2025-01-01\", \"contract_end_date\": \"2028-12-31\", \"team\": \"Los Angeles Dodgers\", \"country\": \"Dominican Republic\", \"salary\": \"22 million per year\"}, {\"id\": 8, \"name\": \"Luis Severino\", \"age\": 30, \"contract_start_date\": \"2025-01-01\", \"contract_end_date\": \"2027-12-31\", \"team\": \"Oakland Athletics\", \"country\": \"Dominican Republic\", \"salary\": \"22.33 million per year\"}, {\"id\": 9, \"name\": \"Sean Manaea\", \"age\": 32, \"contract_start_date\": \"2024-12-27\", \"contract_end_date\": \"2027-12-26\", \"team\": \"New York Mets\", \"country\": \"United States\", \"salary\": \"25 million per year\"}, {\"id\": 10, \"name\": \"Nathan Eovaldi\", \"age\": 34, \"contract_start_date\": \"2024-12-12\", \"contract_end_date\": \"2027-12-11\", \"team\": \"Texas Rangers\", \"country\": \"United States\", \"salary\": \"25 million per year\"}]', name='get_players', id='4a17e184-560f-445e-a483-aaa88a6aff58', tool_call_id='call_OfUXzrA5aMEsfvLN23olcAt9')]}})\n",
      "----\n",
      "(('sport_agent:95a81489-32c5-48e9-d8fe-c920d2073b96',), {'agent': {'messages': [AIMessage(content='Sean Manaea is 32 years old.', additional_kwargs={'refusal': None}, response_metadata={'token_usage': {'completion_tokens': 11, 'prompt_tokens': 830, 'total_tokens': 841, 'completion_tokens_details': {'accepted_prediction_tokens': 0, 'audio_tokens': 0, 'reasoning_tokens': 0, 'rejected_prediction_tokens': 0}, 'prompt_tokens_details': {'audio_tokens': 0, 'cached_tokens': 0}}, 'model_name': 'gpt-4o-mini-2024-07-18', 'system_fingerprint': 'fp_13eed4fce1', 'finish_reason': 'stop', 'logprobs': None}, id='run-c2dd6002-a4db-46d9-94fb-9b25b5321fbf-0', usage_metadata={'input_tokens': 830, 'output_tokens': 11, 'total_tokens': 841, 'input_token_details': {'audio': 0, 'cache_read': 0}, 'output_token_details': {'audio': 0, 'reasoning': 0}})]}})\n",
      "----\n",
      "((), {'sport_agent': {'messages': [HumanMessage(content='Sean Manaea is 32 years old.', additional_kwargs={}, response_metadata={}, name='sport_agent')]}})\n",
      "----\n",
      "((), {'supervisor': {'next': '__end__'}})\n",
      "----\n"
     ]
    }
   ],
   "execution_count": 63
  },
  {
   "metadata": {
    "ExecuteTime": {
     "end_time": "2025-02-19T06:58:43.691679Z",
     "start_time": "2025-02-19T06:58:40.972154Z"
    }
   },
   "cell_type": "code",
   "source": [
    "for s in graph.stream({\"messages\": [(\"user\", 'What\\'s the completion year of Pyramids of Giza')]}, subgraphs=True):\n",
    "    print(s)\n",
    "    print(\"----\")"
   ],
   "id": "381baaae0b0716a2",
   "outputs": [
    {
     "name": "stdout",
     "output_type": "stream",
     "text": [
      "((), {'supervisor': {'next': 'place_agent'}})\n",
      "----\n",
      "(('place_agent:d84d9eeb-2641-46dc-a836-b6f173e1a02e',), {'agent': {'messages': [AIMessage(content='The Pyramids of Giza were completed around 2560 BC. The Great Pyramid, which is the largest of the three pyramids, is believed to have taken about 20 years to construct, finishing during the reign of Pharaoh Khufu (also known as Cheops).', additional_kwargs={'refusal': None}, response_metadata={'token_usage': {'completion_tokens': 58, 'prompt_tokens': 71, 'total_tokens': 129, 'completion_tokens_details': {'accepted_prediction_tokens': 0, 'audio_tokens': 0, 'reasoning_tokens': 0, 'rejected_prediction_tokens': 0}, 'prompt_tokens_details': {'audio_tokens': 0, 'cached_tokens': 0}}, 'model_name': 'gpt-4o-mini-2024-07-18', 'system_fingerprint': 'fp_13eed4fce1', 'finish_reason': 'stop', 'logprobs': None}, id='run-a090f8c3-276a-4fb7-a3c7-b56d82198823-0', usage_metadata={'input_tokens': 71, 'output_tokens': 58, 'total_tokens': 129, 'input_token_details': {'audio': 0, 'cache_read': 0}, 'output_token_details': {'audio': 0, 'reasoning': 0}})]}})\n",
      "----\n",
      "((), {'place_agent': {'messages': [HumanMessage(content='The Pyramids of Giza were completed around 2560 BC. The Great Pyramid, which is the largest of the three pyramids, is believed to have taken about 20 years to construct, finishing during the reign of Pharaoh Khufu (also known as Cheops).', additional_kwargs={}, response_metadata={}, name='place_agent')]}})\n",
      "----\n",
      "((), {'supervisor': {'next': '__end__'}})\n",
      "----\n"
     ]
    }
   ],
   "execution_count": 65
  },
  {
   "metadata": {
    "ExecuteTime": {
     "end_time": "2025-02-19T06:58:20.065797Z",
     "start_time": "2025-02-19T06:58:16.224225Z"
    }
   },
   "cell_type": "code",
   "source": [
    "for s in graph.stream({\"messages\": [(\"user\", 'What\\'s the the engine used in locomotive M9?')]}, subgraphs=True):\n",
    "    print(s)\n",
    "    print(\"----\")"
   ],
   "id": "a50ad373266129cf",
   "outputs": [
    {
     "name": "stdout",
     "output_type": "stream",
     "text": [
      "((), {'supervisor': {'next': 'train_agent'}})\n",
      "----\n",
      "(('train_agent:804cfdbd-a9e7-0077-7f07-526076d20973',), {'agent': {'messages': [AIMessage(content='', additional_kwargs={'tool_calls': [{'id': 'call_C9GwC9RfQvrI3Ni0V24AJ2bJ', 'function': {'arguments': '{}', 'name': 'get_trains'}, 'type': 'function'}], 'refusal': None}, response_metadata={'token_usage': {'completion_tokens': 12, 'prompt_tokens': 89, 'total_tokens': 101, 'completion_tokens_details': {'accepted_prediction_tokens': 0, 'audio_tokens': 0, 'reasoning_tokens': 0, 'rejected_prediction_tokens': 0}, 'prompt_tokens_details': {'audio_tokens': 0, 'cached_tokens': 0}}, 'model_name': 'gpt-4o-mini-2024-07-18', 'system_fingerprint': 'fp_00428b782a', 'finish_reason': 'tool_calls', 'logprobs': None}, id='run-03f58f1e-8f74-4bfc-8fb4-a1813cf49b7e-0', tool_calls=[{'name': 'get_trains', 'args': {}, 'id': 'call_C9GwC9RfQvrI3Ni0V24AJ2bJ', 'type': 'tool_call'}], usage_metadata={'input_tokens': 89, 'output_tokens': 12, 'total_tokens': 101, 'input_token_details': {'audio': 0, 'cache_read': 0}, 'output_token_details': {'audio': 0, 'reasoning': 0}})]}})\n",
      "----\n",
      "(('train_agent:804cfdbd-a9e7-0077-7f07-526076d20973',), {'tools': {'messages': [ToolMessage(content='[{\"class\": \"M1\", \"model_number\": null, \"manufacture_year\": \"1952\", \"manufacturer\": \"Brush Bagnall Traction\", \"engine_model\": \"Mirlees JS12VT\", \"engine_country\": \"UK\", \"axle_arrangement\": \"A1A-A1A\", \"max_power_hp\": 1000, \"weight_tons\": 88, \"height_mm\": null, \"length_mm\": null}, {\"class\": \"M2\", \"model_number\": \"G12\", \"manufacture_year\": \"1954\\\\u20131966\", \"manufacturer\": \"General Motors Diesel (Canada) and Electro-Motive Division (USA)\", \"engine_model\": \"EMD 567C\", \"engine_country\": \"USA\", \"axle_arrangement\": \"A1A-A1A\", \"max_power_hp\": 1400, \"weight_tons\": null, \"height_mm\": null, \"length_mm\": null}, {\"class\": \"M3\", \"model_number\": null, \"manufacture_year\": \"1956\\\\u20131958\", \"manufacturer\": \"Sri Lanka Railways\", \"engine_model\": \"English Electric Willans H6\", \"engine_country\": \"UK\", \"axle_arrangement\": \"Bo-Bo\", \"max_power_hp\": 360, \"weight_tons\": 47, \"height_mm\": null, \"length_mm\": null}, {\"class\": \"M4\", \"model_number\": \"MX-620\", \"manufacture_year\": 1975, \"manufacturer\": \"Montreal Locomotive Works\", \"engine_model\": null, \"engine_country\": \"Canada\", \"axle_arrangement\": \"Co-Co\", \"max_power_hp\": 1750, \"weight_tons\": null, \"height_mm\": null, \"length_mm\": null}, {\"class\": \"M5\", \"model_number\": null, \"manufacture_year\": \"1979\", \"manufacturer\": \"Hitachi\", \"engine_model\": null, \"engine_country\": \"Japan\", \"axle_arrangement\": \"Bo-Bo\", \"max_power_hp\": 1640, \"weight_tons\": null, \"height_mm\": null, \"length_mm\": null}, {\"class\": \"M6\", \"model_number\": \"G22CW\", \"manufacture_year\": \"1979\\\\u20131980\", \"manufacturer\": \"Thyssen-Henschel\", \"engine_model\": \"EMD 645E\", \"engine_country\": \"USA\", \"axle_arrangement\": \"A1A-A1A\", \"max_power_hp\": 1650, \"weight_tons\": 87, \"height_mm\": 4113, \"length_mm\": 16459}, {\"class\": \"M7\", \"model_number\": null, \"manufacture_year\": \"1981\", \"manufacturer\": \"Brush Traction\", \"engine_model\": \"GM 8-645E\", \"engine_country\": \"USA\", \"axle_arrangement\": \"Bo-Bo\", \"max_power_hp\": 994, \"weight_tons\": 66, \"height_mm\": null, \"length_mm\": 12800}, {\"class\": \"M8\", \"model_number\": \"WDM-2\", \"manufacture_year\": \"1995\", \"manufacturer\": \"Banaras Locomotive Works\", \"engine_model\": \"ALCO 251-B\", \"engine_country\": \"USA\", \"axle_arrangement\": \"Co-Co\", \"max_power_hp\": 2800, \"weight_tons\": 112.8, \"height_mm\": 4185, \"length_mm\": 17120}, {\"class\": \"M9\", \"model_number\": null, \"manufacture_year\": \"2000\", \"manufacturer\": \"Alstom\", \"engine_model\": \"AD32C\", \"engine_country\": \"France\", \"axle_arrangement\": \"Co-Co\", \"max_power_hp\": 1800, \"weight_tons\": null, \"height_mm\": null, \"length_mm\": null}, {\"class\": \"M10\", \"model_number\": \"WDM-3D\", \"manufacture_year\": \"2012\", \"manufacturer\": \"Banaras Locomotive Works\", \"engine_model\": \"ALCO 251 B-16\", \"engine_country\": \"USA\", \"axle_arrangement\": \"Co-Co\", \"max_power_hp\": 2300, \"weight_tons\": 117, \"height_mm\": 4077, \"length_mm\": 18650}, {\"class\": \"M11\", \"model_number\": null, \"manufacture_year\": \"2018\\\\u20132019\", \"manufacturer\": \"Banaras Locomotive Works\", \"engine_model\": \"EMD 12-710G3B-ES\", \"engine_country\": \"USA\", \"axle_arrangement\": \"Co-Co\", \"max_power_hp\": 3200, \"weight_tons\": 120, \"height_mm\": 4165, \"length_mm\": 21000}]', name='get_trains', id='328823dc-1a2b-4816-bf42-5d1f2ea48479', tool_call_id='call_C9GwC9RfQvrI3Ni0V24AJ2bJ')]}})\n",
      "----\n",
      "(('train_agent:804cfdbd-a9e7-0077-7f07-526076d20973',), {'agent': {'messages': [AIMessage(content='The engine used in locomotive M9 is the **AD32C**, manufactured by **Alstom** in **France**. It has a maximum power output of **1800 HP** and features a **Co-Co** axle arrangement.', additional_kwargs={'refusal': None}, response_metadata={'token_usage': {'completion_tokens': 50, 'prompt_tokens': 1152, 'total_tokens': 1202, 'completion_tokens_details': {'accepted_prediction_tokens': 0, 'audio_tokens': 0, 'reasoning_tokens': 0, 'rejected_prediction_tokens': 0}, 'prompt_tokens_details': {'audio_tokens': 0, 'cached_tokens': 0}}, 'model_name': 'gpt-4o-mini-2024-07-18', 'system_fingerprint': 'fp_13eed4fce1', 'finish_reason': 'stop', 'logprobs': None}, id='run-ecf0995f-48f7-4922-bcb3-a76215b54eb5-0', usage_metadata={'input_tokens': 1152, 'output_tokens': 50, 'total_tokens': 1202, 'input_token_details': {'audio': 0, 'cache_read': 0}, 'output_token_details': {'audio': 0, 'reasoning': 0}})]}})\n",
      "----\n",
      "((), {'train_agent': {'messages': [HumanMessage(content='The engine used in locomotive M9 is the **AD32C**, manufactured by **Alstom** in **France**. It has a maximum power output of **1800 HP** and features a **Co-Co** axle arrangement.', additional_kwargs={}, response_metadata={}, name='train_agent')]}})\n",
      "----\n",
      "((), {'supervisor': {'next': '__end__'}})\n",
      "----\n"
     ]
    }
   ],
   "execution_count": 64
  }
 ],
 "metadata": {
  "kernelspec": {
   "display_name": "Python 3",
   "language": "python",
   "name": "python3"
  },
  "language_info": {
   "codemirror_mode": {
    "name": "ipython",
    "version": 2
   },
   "file_extension": ".py",
   "mimetype": "text/x-python",
   "name": "python",
   "nbconvert_exporter": "python",
   "pygments_lexer": "ipython2",
   "version": "2.7.6"
  }
 },
 "nbformat": 4,
 "nbformat_minor": 5
}
