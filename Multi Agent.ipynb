{
 "cells": [
  {
   "metadata": {},
   "cell_type": "markdown",
   "source": "# Install Dependencies",
   "id": "81e8b43184469679"
  },
  {
   "metadata": {
    "ExecuteTime": {
     "end_time": "2025-01-29T01:43:27.189446Z",
     "start_time": "2025-01-29T01:43:26.615371Z"
    }
   },
   "cell_type": "code",
   "source": "%pip install langchain_openai==0.3.2 langgraph==0.2.68 langchain-community==0.3.16 langchain-experimental==0.3.4 langchain-core==0.3.32 ipython==8.31.0",
   "id": "a260dc72e40d2b8",
   "outputs": [
    {
     "name": "stdout",
     "output_type": "stream",
     "text": [
      "Requirement already satisfied: langchain_openai==0.3.2 in ./venv/lib/python3.12/site-packages (0.3.2)\r\n",
      "Requirement already satisfied: langgraph==0.2.68 in ./venv/lib/python3.12/site-packages (0.2.68)\r\n",
      "Requirement already satisfied: langchain-community==0.3.16 in ./venv/lib/python3.12/site-packages (0.3.16)\r\n",
      "Requirement already satisfied: langchain-experimental==0.3.4 in ./venv/lib/python3.12/site-packages (0.3.4)\r\n",
      "Requirement already satisfied: langchain-core==0.3.32 in ./venv/lib/python3.12/site-packages (0.3.32)\r\n",
      "Requirement already satisfied: ipython==8.31.0 in ./venv/lib/python3.12/site-packages (8.31.0)\r\n",
      "Requirement already satisfied: openai<2.0.0,>=1.58.1 in ./venv/lib/python3.12/site-packages (from langchain_openai==0.3.2) (1.60.0)\r\n",
      "Requirement already satisfied: tiktoken<1,>=0.7 in ./venv/lib/python3.12/site-packages (from langchain_openai==0.3.2) (0.8.0)\r\n",
      "Requirement already satisfied: langgraph-checkpoint<3.0.0,>=2.0.10 in ./venv/lib/python3.12/site-packages (from langgraph==0.2.68) (2.0.10)\r\n",
      "Requirement already satisfied: langgraph-sdk<0.2.0,>=0.1.42 in ./venv/lib/python3.12/site-packages (from langgraph==0.2.68) (0.1.51)\r\n",
      "Requirement already satisfied: PyYAML>=5.3 in ./venv/lib/python3.12/site-packages (from langchain-community==0.3.16) (6.0.2)\r\n",
      "Requirement already satisfied: SQLAlchemy<3,>=1.4 in ./venv/lib/python3.12/site-packages (from langchain-community==0.3.16) (2.0.37)\r\n",
      "Requirement already satisfied: aiohttp<4.0.0,>=3.8.3 in ./venv/lib/python3.12/site-packages (from langchain-community==0.3.16) (3.11.11)\r\n",
      "Requirement already satisfied: dataclasses-json<0.7,>=0.5.7 in ./venv/lib/python3.12/site-packages (from langchain-community==0.3.16) (0.6.7)\r\n",
      "Requirement already satisfied: httpx-sse<0.5.0,>=0.4.0 in ./venv/lib/python3.12/site-packages (from langchain-community==0.3.16) (0.4.0)\r\n",
      "Requirement already satisfied: langchain<0.4.0,>=0.3.16 in ./venv/lib/python3.12/site-packages (from langchain-community==0.3.16) (0.3.16)\r\n",
      "Requirement already satisfied: langsmith<0.4,>=0.1.125 in ./venv/lib/python3.12/site-packages (from langchain-community==0.3.16) (0.3.0)\r\n",
      "Requirement already satisfied: numpy<3,>=1.26.2 in ./venv/lib/python3.12/site-packages (from langchain-community==0.3.16) (2.2.2)\r\n",
      "Requirement already satisfied: pydantic-settings<3.0.0,>=2.4.0 in ./venv/lib/python3.12/site-packages (from langchain-community==0.3.16) (2.7.1)\r\n",
      "Requirement already satisfied: requests<3,>=2 in ./venv/lib/python3.12/site-packages (from langchain-community==0.3.16) (2.32.3)\r\n",
      "Requirement already satisfied: tenacity!=8.4.0,<10,>=8.1.0 in ./venv/lib/python3.12/site-packages (from langchain-community==0.3.16) (9.0.0)\r\n",
      "Requirement already satisfied: jsonpatch<2.0,>=1.33 in ./venv/lib/python3.12/site-packages (from langchain-core==0.3.32) (1.33)\r\n",
      "Requirement already satisfied: packaging<25,>=23.2 in ./venv/lib/python3.12/site-packages (from langchain-core==0.3.32) (24.2)\r\n",
      "Requirement already satisfied: pydantic<3.0.0,>=2.7.4 in ./venv/lib/python3.12/site-packages (from langchain-core==0.3.32) (2.10.5)\r\n",
      "Requirement already satisfied: typing-extensions>=4.7 in ./venv/lib/python3.12/site-packages (from langchain-core==0.3.32) (4.12.2)\r\n",
      "Requirement already satisfied: decorator in ./venv/lib/python3.12/site-packages (from ipython==8.31.0) (5.1.1)\r\n",
      "Requirement already satisfied: jedi>=0.16 in ./venv/lib/python3.12/site-packages (from ipython==8.31.0) (0.19.2)\r\n",
      "Requirement already satisfied: matplotlib-inline in ./venv/lib/python3.12/site-packages (from ipython==8.31.0) (0.1.7)\r\n",
      "Requirement already satisfied: pexpect>4.3 in ./venv/lib/python3.12/site-packages (from ipython==8.31.0) (4.9.0)\r\n",
      "Requirement already satisfied: prompt_toolkit<3.1.0,>=3.0.41 in ./venv/lib/python3.12/site-packages (from ipython==8.31.0) (3.0.50)\r\n",
      "Requirement already satisfied: pygments>=2.4.0 in ./venv/lib/python3.12/site-packages (from ipython==8.31.0) (2.19.1)\r\n",
      "Requirement already satisfied: stack_data in ./venv/lib/python3.12/site-packages (from ipython==8.31.0) (0.6.3)\r\n",
      "Requirement already satisfied: traitlets>=5.13.0 in ./venv/lib/python3.12/site-packages (from ipython==8.31.0) (5.14.3)\r\n",
      "Requirement already satisfied: aiohappyeyeballs>=2.3.0 in ./venv/lib/python3.12/site-packages (from aiohttp<4.0.0,>=3.8.3->langchain-community==0.3.16) (2.4.4)\r\n",
      "Requirement already satisfied: aiosignal>=1.1.2 in ./venv/lib/python3.12/site-packages (from aiohttp<4.0.0,>=3.8.3->langchain-community==0.3.16) (1.3.2)\r\n",
      "Requirement already satisfied: attrs>=17.3.0 in ./venv/lib/python3.12/site-packages (from aiohttp<4.0.0,>=3.8.3->langchain-community==0.3.16) (24.3.0)\r\n",
      "Requirement already satisfied: frozenlist>=1.1.1 in ./venv/lib/python3.12/site-packages (from aiohttp<4.0.0,>=3.8.3->langchain-community==0.3.16) (1.5.0)\r\n",
      "Requirement already satisfied: multidict<7.0,>=4.5 in ./venv/lib/python3.12/site-packages (from aiohttp<4.0.0,>=3.8.3->langchain-community==0.3.16) (6.1.0)\r\n",
      "Requirement already satisfied: propcache>=0.2.0 in ./venv/lib/python3.12/site-packages (from aiohttp<4.0.0,>=3.8.3->langchain-community==0.3.16) (0.2.1)\r\n",
      "Requirement already satisfied: yarl<2.0,>=1.17.0 in ./venv/lib/python3.12/site-packages (from aiohttp<4.0.0,>=3.8.3->langchain-community==0.3.16) (1.18.3)\r\n",
      "Requirement already satisfied: marshmallow<4.0.0,>=3.18.0 in ./venv/lib/python3.12/site-packages (from dataclasses-json<0.7,>=0.5.7->langchain-community==0.3.16) (3.25.1)\r\n",
      "Requirement already satisfied: typing-inspect<1,>=0.4.0 in ./venv/lib/python3.12/site-packages (from dataclasses-json<0.7,>=0.5.7->langchain-community==0.3.16) (0.9.0)\r\n",
      "Requirement already satisfied: parso<0.9.0,>=0.8.4 in ./venv/lib/python3.12/site-packages (from jedi>=0.16->ipython==8.31.0) (0.8.4)\r\n",
      "Requirement already satisfied: jsonpointer>=1.9 in ./venv/lib/python3.12/site-packages (from jsonpatch<2.0,>=1.33->langchain-core==0.3.32) (3.0.0)\r\n",
      "Requirement already satisfied: langchain-text-splitters<0.4.0,>=0.3.3 in ./venv/lib/python3.12/site-packages (from langchain<0.4.0,>=0.3.16->langchain-community==0.3.16) (0.3.5)\r\n",
      "Requirement already satisfied: msgpack<2.0.0,>=1.1.0 in ./venv/lib/python3.12/site-packages (from langgraph-checkpoint<3.0.0,>=2.0.10->langgraph==0.2.68) (1.1.0)\r\n",
      "Requirement already satisfied: httpx>=0.25.2 in ./venv/lib/python3.12/site-packages (from langgraph-sdk<0.2.0,>=0.1.42->langgraph==0.2.68) (0.28.1)\r\n",
      "Requirement already satisfied: orjson>=3.10.1 in ./venv/lib/python3.12/site-packages (from langgraph-sdk<0.2.0,>=0.1.42->langgraph==0.2.68) (3.10.15)\r\n",
      "Requirement already satisfied: requests-toolbelt<2.0.0,>=1.0.0 in ./venv/lib/python3.12/site-packages (from langsmith<0.4,>=0.1.125->langchain-community==0.3.16) (1.0.0)\r\n",
      "Requirement already satisfied: zstandard<0.24.0,>=0.23.0 in ./venv/lib/python3.12/site-packages (from langsmith<0.4,>=0.1.125->langchain-community==0.3.16) (0.23.0)\r\n",
      "Requirement already satisfied: anyio<5,>=3.5.0 in ./venv/lib/python3.12/site-packages (from openai<2.0.0,>=1.58.1->langchain_openai==0.3.2) (4.8.0)\r\n",
      "Requirement already satisfied: distro<2,>=1.7.0 in ./venv/lib/python3.12/site-packages (from openai<2.0.0,>=1.58.1->langchain_openai==0.3.2) (1.9.0)\r\n",
      "Requirement already satisfied: jiter<1,>=0.4.0 in ./venv/lib/python3.12/site-packages (from openai<2.0.0,>=1.58.1->langchain_openai==0.3.2) (0.8.2)\r\n",
      "Requirement already satisfied: sniffio in ./venv/lib/python3.12/site-packages (from openai<2.0.0,>=1.58.1->langchain_openai==0.3.2) (1.3.1)\r\n",
      "Requirement already satisfied: tqdm>4 in ./venv/lib/python3.12/site-packages (from openai<2.0.0,>=1.58.1->langchain_openai==0.3.2) (4.67.1)\r\n",
      "Requirement already satisfied: ptyprocess>=0.5 in ./venv/lib/python3.12/site-packages (from pexpect>4.3->ipython==8.31.0) (0.7.0)\r\n",
      "Requirement already satisfied: wcwidth in ./venv/lib/python3.12/site-packages (from prompt_toolkit<3.1.0,>=3.0.41->ipython==8.31.0) (0.2.13)\r\n",
      "Requirement already satisfied: annotated-types>=0.6.0 in ./venv/lib/python3.12/site-packages (from pydantic<3.0.0,>=2.7.4->langchain-core==0.3.32) (0.7.0)\r\n",
      "Requirement already satisfied: pydantic-core==2.27.2 in ./venv/lib/python3.12/site-packages (from pydantic<3.0.0,>=2.7.4->langchain-core==0.3.32) (2.27.2)\r\n",
      "Requirement already satisfied: python-dotenv>=0.21.0 in ./venv/lib/python3.12/site-packages (from pydantic-settings<3.0.0,>=2.4.0->langchain-community==0.3.16) (1.0.1)\r\n",
      "Requirement already satisfied: charset-normalizer<4,>=2 in ./venv/lib/python3.12/site-packages (from requests<3,>=2->langchain-community==0.3.16) (3.4.1)\r\n",
      "Requirement already satisfied: idna<4,>=2.5 in ./venv/lib/python3.12/site-packages (from requests<3,>=2->langchain-community==0.3.16) (3.10)\r\n",
      "Requirement already satisfied: urllib3<3,>=1.21.1 in ./venv/lib/python3.12/site-packages (from requests<3,>=2->langchain-community==0.3.16) (2.3.0)\r\n",
      "Requirement already satisfied: certifi>=2017.4.17 in ./venv/lib/python3.12/site-packages (from requests<3,>=2->langchain-community==0.3.16) (2024.12.14)\r\n",
      "Requirement already satisfied: regex>=2022.1.18 in ./venv/lib/python3.12/site-packages (from tiktoken<1,>=0.7->langchain_openai==0.3.2) (2024.11.6)\r\n",
      "Requirement already satisfied: executing>=1.2.0 in ./venv/lib/python3.12/site-packages (from stack_data->ipython==8.31.0) (2.2.0)\r\n",
      "Requirement already satisfied: asttokens>=2.1.0 in ./venv/lib/python3.12/site-packages (from stack_data->ipython==8.31.0) (3.0.0)\r\n",
      "Requirement already satisfied: pure-eval in ./venv/lib/python3.12/site-packages (from stack_data->ipython==8.31.0) (0.2.3)\r\n",
      "Requirement already satisfied: httpcore==1.* in ./venv/lib/python3.12/site-packages (from httpx>=0.25.2->langgraph-sdk<0.2.0,>=0.1.42->langgraph==0.2.68) (1.0.7)\r\n",
      "Requirement already satisfied: h11<0.15,>=0.13 in ./venv/lib/python3.12/site-packages (from httpcore==1.*->httpx>=0.25.2->langgraph-sdk<0.2.0,>=0.1.42->langgraph==0.2.68) (0.14.0)\r\n",
      "Requirement already satisfied: mypy-extensions>=0.3.0 in ./venv/lib/python3.12/site-packages (from typing-inspect<1,>=0.4.0->dataclasses-json<0.7,>=0.5.7->langchain-community==0.3.16) (1.0.0)\r\n",
      "Note: you may need to restart the kernel to use updated packages.\n"
     ]
    }
   ],
   "execution_count": 2
  },
  {
   "metadata": {},
   "cell_type": "markdown",
   "source": "# Setup Environment",
   "id": "7acb23f01c6d233e"
  },
  {
   "metadata": {
    "ExecuteTime": {
     "end_time": "2025-01-29T01:43:29.765524Z",
     "start_time": "2025-01-29T01:43:29.762869Z"
    }
   },
   "cell_type": "code",
   "source": [
    "import os\n",
    "\n",
    "os.environ['OPENAI_API_KEY'] = os.getenv('OPENAI_API_KEY')\n",
    "os.environ['TAVILY_API_KEY'] = os.getenv('TAVILY_API_KEY')"
   ],
   "id": "f03fc2623cd28ab8",
   "outputs": [],
   "execution_count": 3
  },
  {
   "metadata": {},
   "cell_type": "markdown",
   "source": "# Create Tools",
   "id": "fb10f3abbfc8077c"
  },
  {
   "metadata": {
    "ExecuteTime": {
     "end_time": "2025-01-29T01:43:32.033374Z",
     "start_time": "2025-01-29T01:43:31.629621Z"
    }
   },
   "cell_type": "code",
   "source": [
    "from typing import Annotated\n",
    "\n",
    "from langchain_community.tools.tavily_search import TavilySearchResults\n",
    "from langchain_core.tools import tool\n",
    "from langchain_experimental.utilities import PythonREPL\n",
    "\n",
    "tavily_tool = TavilySearchResults(max_results=5)\n",
    "\n",
    "# This executes code locally, which can be unsafe\n",
    "repl = PythonREPL()\n",
    "\n",
    "\n",
    "@tool\n",
    "def python_repl_tool(\n",
    "        code: Annotated[str, 'The python code to execute to generate your chart.'],\n",
    "):\n",
    "    '''Use this to execute python code and do math. If you want to see the output of a value,\n",
    "    you should print it out with `print(...)`. This is visible to the user.'''\n",
    "    try:\n",
    "        result = repl.run(code)\n",
    "    except BaseException as e:\n",
    "        return f'Failed to execute. Error: {repr(e)}'\n",
    "    result_str = f'Successfully executed:\\n```python\\n{code}\\n```\\nStdout: {result}'\n",
    "    return result_str"
   ],
   "id": "91a75ffcdb156bf1",
   "outputs": [],
   "execution_count": 4
  },
  {
   "metadata": {},
   "cell_type": "markdown",
   "source": "# Create Agents",
   "id": "d155289b46c6a043"
  },
  {
   "metadata": {
    "ExecuteTime": {
     "end_time": "2025-01-29T01:47:03.085724Z",
     "start_time": "2025-01-29T01:47:03.053983Z"
    }
   },
   "cell_type": "code",
   "source": [
    "from langchain_openai import ChatOpenAI\n",
    "from typing import Literal\n",
    "from typing_extensions import TypedDict\n",
    "from langgraph.graph import MessagesState, END\n",
    "from langgraph.types import Command\n",
    "\n",
    "members = ['researcher', 'coder']\n",
    "# Our team supervisor is an LLM node. It just picks the next agent to process\n",
    "# and decides when the work is completed\n",
    "options = members + ['FINISH']\n",
    "\n",
    "system_prompt = (\n",
    "    'You are a supervisor tasked with managing a conversation between the'\n",
    "    f' following workers: {members}. Given the following user request,'\n",
    "    ' respond with the worker to act next. Each worker will perform a'\n",
    "    ' task and respond with their results and status. When finished,'\n",
    "    ' respond with FINISH.'\n",
    ")\n",
    "\n",
    "\n",
    "class Router(TypedDict):\n",
    "    '''Worker to route to next. If no workers needed, route to FINISH.'''\n",
    "\n",
    "    next: Literal[*options]\n",
    "\n",
    "\n",
    "llm = ChatOpenAI(model='gpt-4o-mini')\n",
    "\n",
    "\n",
    "class State(MessagesState):\n",
    "    next: str\n",
    "\n",
    "\n",
    "def supervisor_node(state: State) -> Command[Literal[*members, '__end__']]:\n",
    "    messages = [\n",
    "                   {'role': 'system', 'content': system_prompt},\n",
    "               ] + state['messages']\n",
    "    response = llm.with_structured_output(Router).invoke(messages)\n",
    "    goto = response['next']\n",
    "    if goto == 'FINISH':\n",
    "        goto = END\n",
    "\n",
    "    return Command(goto=goto, update={'next': goto})"
   ],
   "id": "e34f6a83d4e8044d",
   "outputs": [],
   "execution_count": 9
  },
  {
   "metadata": {},
   "cell_type": "markdown",
   "source": "# Build Graph",
   "id": "18e75aaea099ce21"
  },
  {
   "metadata": {
    "ExecuteTime": {
     "end_time": "2025-01-29T01:47:06.211688Z",
     "start_time": "2025-01-29T01:47:06.204102Z"
    }
   },
   "cell_type": "code",
   "source": [
    "from langchain_core.messages import HumanMessage\n",
    "from langgraph.graph import StateGraph, START, END\n",
    "from langgraph.prebuilt import create_react_agent\n",
    "\n",
    "research_agent = create_react_agent(\n",
    "    llm, tools=[tavily_tool], prompt='You are a researcher. DO NOT do any math.'\n",
    ")\n",
    "\n",
    "\n",
    "def research_node(state: State) -> Command[Literal['supervisor']]:\n",
    "    result = research_agent.invoke(state)\n",
    "    return Command(\n",
    "        update={\n",
    "            'messages': [\n",
    "                HumanMessage(content=result['messages'][-1].content, name='researcher')\n",
    "            ]\n",
    "        },\n",
    "        goto='supervisor',\n",
    "    )\n",
    "\n",
    "\n",
    "# NOTE: THIS PERFORMS ARBITRARY CODE EXECUTION, WHICH CAN BE UNSAFE WHEN NOT SANDBOXED\n",
    "code_agent = create_react_agent(llm, tools=[python_repl_tool])\n",
    "\n",
    "\n",
    "def code_node(state: State) -> Command[Literal['supervisor']]:\n",
    "    result = code_agent.invoke(state)\n",
    "    return Command(\n",
    "        update={\n",
    "            'messages': [\n",
    "                HumanMessage(content=result['messages'][-1].content, name='coder')\n",
    "            ]\n",
    "        },\n",
    "        goto='supervisor',\n",
    "    )\n",
    "\n",
    "\n",
    "builder = StateGraph(State)\n",
    "builder.add_edge(START, 'supervisor')\n",
    "builder.add_node('supervisor', supervisor_node)\n",
    "builder.add_node('researcher', research_node)\n",
    "builder.add_node('coder', code_node)\n",
    "graph = builder.compile()"
   ],
   "id": "127d1a7632a922ab",
   "outputs": [],
   "execution_count": 10
  },
  {
   "metadata": {},
   "cell_type": "markdown",
   "source": "# Graph",
   "id": "a515ad59762cf8fe"
  },
  {
   "metadata": {
    "ExecuteTime": {
     "end_time": "2025-01-29T01:44:01.713871Z",
     "start_time": "2025-01-29T01:43:41.062513Z"
    }
   },
   "cell_type": "code",
   "source": [
    "from IPython.display import display, Image\n",
    "\n",
    "display(Image(graph.get_graph().draw_mermaid_png()))"
   ],
   "id": "eabda5690021426",
   "outputs": [
    {
     "data": {
      "image/png": "[encoded data removed]",
      "text/plain": [
       "<IPython.core.display.Image object>"
      ]
     },
     "metadata": {},
     "output_type": "display_data"
    }
   ],
   "execution_count": 7
  },
  {
   "metadata": {},
   "cell_type": "markdown",
   "source": "# Test",
   "id": "56c3316be4cd8b54"
  },
  {
   "metadata": {
    "ExecuteTime": {
     "end_time": "2025-01-29T01:47:19.219554Z",
     "start_time": "2025-01-29T01:47:10.912615Z"
    }
   },
   "cell_type": "code",
   "source": [
    "for s in graph.stream(\n",
    "        {\"messages\": [(\"user\", \"What's the square root of 42?\")]}, subgraphs=True\n",
    "):\n",
    "    print(s)\n",
    "    print(\"----\")"
   ],
   "id": "e91c512fb1b9e57d",
   "outputs": [
    {
     "name": "stdout",
     "output_type": "stream",
     "text": [
      "((), {'supervisor': {'next': 'researcher'}})\n",
      "----\n",
      "(('researcher:a767976b-baf4-12ae-33da-641ddbe335d7',), {'agent': {'messages': [AIMessage(content=\"I can't calculate the square root, but I can help with other information or concepts related to it. Would you like to know more about square roots or something else?\", additional_kwargs={'refusal': None}, response_metadata={'token_usage': {'completion_tokens': 35, 'prompt_tokens': 98, 'total_tokens': 133, 'completion_tokens_details': {'accepted_prediction_tokens': 0, 'audio_tokens': 0, 'reasoning_tokens': 0, 'rejected_prediction_tokens': 0}, 'prompt_tokens_details': {'audio_tokens': 0, 'cached_tokens': 0}}, 'model_name': 'gpt-4o-mini-2024-07-18', 'system_fingerprint': 'fp_bd83329f63', 'finish_reason': 'stop', 'logprobs': None}, id='run-02e03e5c-f102-440d-b69c-d0112d7f7a8d-0', usage_metadata={'input_tokens': 98, 'output_tokens': 35, 'total_tokens': 133, 'input_token_details': {'audio': 0, 'cache_read': 0}, 'output_token_details': {'audio': 0, 'reasoning': 0}})]}})\n",
      "----\n",
      "((), {'researcher': {'messages': [HumanMessage(content=\"I can't calculate the square root, but I can help with other information or concepts related to it. Would you like to know more about square roots or something else?\", additional_kwargs={}, response_metadata={}, name='researcher')]}})\n",
      "----\n",
      "((), {'supervisor': {'next': 'coder'}})\n",
      "----\n"
     ]
    },
    {
     "name": "stderr",
     "output_type": "stream",
     "text": [
      "Python REPL can execute arbitrary code. Use with caution.\n"
     ]
    },
    {
     "name": "stdout",
     "output_type": "stream",
     "text": [
      "(('coder:5075b611-74ad-6749-40b5-5c489da33f22',), {'agent': {'messages': [AIMessage(content='', additional_kwargs={'tool_calls': [{'id': 'call_iQiatmMxvXdRUurkVRou7upH', 'function': {'arguments': '{\"code\":\"42**0.5\"}', 'name': 'python_repl_tool'}, 'type': 'function'}], 'refusal': None}, response_metadata={'token_usage': {'completion_tokens': 21, 'prompt_tokens': 136, 'total_tokens': 157, 'completion_tokens_details': {'accepted_prediction_tokens': 0, 'audio_tokens': 0, 'reasoning_tokens': 0, 'rejected_prediction_tokens': 0}, 'prompt_tokens_details': {'audio_tokens': 0, 'cached_tokens': 0}}, 'model_name': 'gpt-4o-mini-2024-07-18', 'system_fingerprint': 'fp_72ed7ab54c', 'finish_reason': 'tool_calls', 'logprobs': None}, id='run-2c6691e4-07b8-409b-88cb-5f124e1f92e5-0', tool_calls=[{'name': 'python_repl_tool', 'args': {'code': '42**0.5'}, 'id': 'call_iQiatmMxvXdRUurkVRou7upH', 'type': 'tool_call'}], usage_metadata={'input_tokens': 136, 'output_tokens': 21, 'total_tokens': 157, 'input_token_details': {'audio': 0, 'cache_read': 0}, 'output_token_details': {'audio': 0, 'reasoning': 0}})]}})\n",
      "----\n",
      "(('coder:5075b611-74ad-6749-40b5-5c489da33f22',), {'tools': {'messages': [ToolMessage(content='Successfully executed:\\n```python\\n42**0.5\\n```\\nStdout: ', name='python_repl_tool', id='dc24a255-a242-44dd-9a00-9f5e413208b5', tool_call_id='call_iQiatmMxvXdRUurkVRou7upH')]}})\n",
      "----\n",
      "(('coder:5075b611-74ad-6749-40b5-5c489da33f22',), {'agent': {'messages': [AIMessage(content='The square root of 42 is approximately 6.48.', additional_kwargs={'refusal': None}, response_metadata={'token_usage': {'completion_tokens': 15, 'prompt_tokens': 184, 'total_tokens': 199, 'completion_tokens_details': {'accepted_prediction_tokens': 0, 'audio_tokens': 0, 'reasoning_tokens': 0, 'rejected_prediction_tokens': 0}, 'prompt_tokens_details': {'audio_tokens': 0, 'cached_tokens': 0}}, 'model_name': 'gpt-4o-mini-2024-07-18', 'system_fingerprint': 'fp_72ed7ab54c', 'finish_reason': 'stop', 'logprobs': None}, id='run-ffc860d8-c576-4ef0-a320-7ca4e08c4977-0', usage_metadata={'input_tokens': 184, 'output_tokens': 15, 'total_tokens': 199, 'input_token_details': {'audio': 0, 'cache_read': 0}, 'output_token_details': {'audio': 0, 'reasoning': 0}})]}})\n",
      "----\n",
      "((), {'coder': {'messages': [HumanMessage(content='The square root of 42 is approximately 6.48.', additional_kwargs={}, response_metadata={}, name='coder')]}})\n",
      "----\n",
      "((), {'supervisor': {'next': '__end__'}})\n",
      "----\n"
     ]
    }
   ],
   "execution_count": 11
  }
 ],
 "metadata": {
  "kernelspec": {
   "display_name": "Python 3",
   "language": "python",
   "name": "python3"
  },
  "language_info": {
   "codemirror_mode": {
    "name": "ipython",
    "version": 2
   },
   "file_extension": ".py",
   "mimetype": "text/x-python",
   "name": "python",
   "nbconvert_exporter": "python",
   "pygments_lexer": "ipython2",
   "version": "2.7.6"
  }
 },
 "nbformat": 4,
 "nbformat_minor": 5
}
