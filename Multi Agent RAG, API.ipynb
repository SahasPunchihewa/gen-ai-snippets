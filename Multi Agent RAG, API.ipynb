{
 "cells": [
  {
   "metadata": {},
   "cell_type": "markdown",
   "source": "# Install Dependencies",
   "id": "96e485a95240dab0"
  },
  {
   "cell_type": "code",
   "id": "initial_id",
   "metadata": {
    "collapsed": true,
    "ExecuteTime": {
     "end_time": "2025-02-03T10:34:53.340750Z",
     "start_time": "2025-02-03T10:34:52.855262Z"
    }
   },
   "source": "%pip install langchain_openai==0.3.2 langgraph==0.2.68 langchain-community==0.3.16 langchain-experimental==0.3.4 langchain-core==0.3.32 ipython==8.31.0 pydantic-settings==2.7.1 httpx==0.28.1",
   "outputs": [
    {
     "name": "stdout",
     "output_type": "stream",
     "text": [
      "Requirement already satisfied: langchain_openai==0.3.2 in ./venv/lib/python3.12/site-packages (0.3.2)\r\n",
      "Requirement already satisfied: langgraph==0.2.68 in ./venv/lib/python3.12/site-packages (0.2.68)\r\n",
      "Requirement already satisfied: langchain-community==0.3.16 in ./venv/lib/python3.12/site-packages (0.3.16)\r\n",
      "Requirement already satisfied: langchain-experimental==0.3.4 in ./venv/lib/python3.12/site-packages (0.3.4)\r\n",
      "Requirement already satisfied: langchain-core==0.3.32 in ./venv/lib/python3.12/site-packages (0.3.32)\r\n",
      "Requirement already satisfied: ipython==8.31.0 in ./venv/lib/python3.12/site-packages (8.31.0)\r\n",
      "Requirement already satisfied: pydantic-settings==2.7.1 in ./venv/lib/python3.12/site-packages (2.7.1)\r\n",
      "Requirement already satisfied: httpx==0.28.1 in ./venv/lib/python3.12/site-packages (0.28.1)\r\n",
      "Requirement already satisfied: openai<2.0.0,>=1.58.1 in ./venv/lib/python3.12/site-packages (from langchain_openai==0.3.2) (1.60.0)\r\n",
      "Requirement already satisfied: tiktoken<1,>=0.7 in ./venv/lib/python3.12/site-packages (from langchain_openai==0.3.2) (0.8.0)\r\n",
      "Requirement already satisfied: langgraph-checkpoint<3.0.0,>=2.0.10 in ./venv/lib/python3.12/site-packages (from langgraph==0.2.68) (2.0.10)\r\n",
      "Requirement already satisfied: langgraph-sdk<0.2.0,>=0.1.42 in ./venv/lib/python3.12/site-packages (from langgraph==0.2.68) (0.1.51)\r\n",
      "Requirement already satisfied: PyYAML>=5.3 in ./venv/lib/python3.12/site-packages (from langchain-community==0.3.16) (6.0.2)\r\n",
      "Requirement already satisfied: SQLAlchemy<3,>=1.4 in ./venv/lib/python3.12/site-packages (from langchain-community==0.3.16) (2.0.37)\r\n",
      "Requirement already satisfied: aiohttp<4.0.0,>=3.8.3 in ./venv/lib/python3.12/site-packages (from langchain-community==0.3.16) (3.11.11)\r\n",
      "Requirement already satisfied: dataclasses-json<0.7,>=0.5.7 in ./venv/lib/python3.12/site-packages (from langchain-community==0.3.16) (0.6.7)\r\n",
      "Requirement already satisfied: httpx-sse<0.5.0,>=0.4.0 in ./venv/lib/python3.12/site-packages (from langchain-community==0.3.16) (0.4.0)\r\n",
      "Requirement already satisfied: langchain<0.4.0,>=0.3.16 in ./venv/lib/python3.12/site-packages (from langchain-community==0.3.16) (0.3.16)\r\n",
      "Requirement already satisfied: langsmith<0.4,>=0.1.125 in ./venv/lib/python3.12/site-packages (from langchain-community==0.3.16) (0.3.0)\r\n",
      "Requirement already satisfied: numpy<3,>=1.26.2 in ./venv/lib/python3.12/site-packages (from langchain-community==0.3.16) (1.26.4)\r\n",
      "Requirement already satisfied: requests<3,>=2 in ./venv/lib/python3.12/site-packages (from langchain-community==0.3.16) (2.32.3)\r\n",
      "Requirement already satisfied: tenacity!=8.4.0,<10,>=8.1.0 in ./venv/lib/python3.12/site-packages (from langchain-community==0.3.16) (9.0.0)\r\n",
      "Requirement already satisfied: jsonpatch<2.0,>=1.33 in ./venv/lib/python3.12/site-packages (from langchain-core==0.3.32) (1.33)\r\n",
      "Requirement already satisfied: packaging<25,>=23.2 in ./venv/lib/python3.12/site-packages (from langchain-core==0.3.32) (24.2)\r\n",
      "Requirement already satisfied: pydantic<3.0.0,>=2.7.4 in ./venv/lib/python3.12/site-packages (from langchain-core==0.3.32) (2.10.5)\r\n",
      "Requirement already satisfied: typing-extensions>=4.7 in ./venv/lib/python3.12/site-packages (from langchain-core==0.3.32) (4.12.2)\r\n",
      "Requirement already satisfied: decorator in ./venv/lib/python3.12/site-packages (from ipython==8.31.0) (5.1.1)\r\n",
      "Requirement already satisfied: jedi>=0.16 in ./venv/lib/python3.12/site-packages (from ipython==8.31.0) (0.19.2)\r\n",
      "Requirement already satisfied: matplotlib-inline in ./venv/lib/python3.12/site-packages (from ipython==8.31.0) (0.1.7)\r\n",
      "Requirement already satisfied: pexpect>4.3 in ./venv/lib/python3.12/site-packages (from ipython==8.31.0) (4.9.0)\r\n",
      "Requirement already satisfied: prompt_toolkit<3.1.0,>=3.0.41 in ./venv/lib/python3.12/site-packages (from ipython==8.31.0) (3.0.50)\r\n",
      "Requirement already satisfied: pygments>=2.4.0 in ./venv/lib/python3.12/site-packages (from ipython==8.31.0) (2.19.1)\r\n",
      "Requirement already satisfied: stack_data in ./venv/lib/python3.12/site-packages (from ipython==8.31.0) (0.6.3)\r\n",
      "Requirement already satisfied: traitlets>=5.13.0 in ./venv/lib/python3.12/site-packages (from ipython==8.31.0) (5.14.3)\r\n",
      "Requirement already satisfied: python-dotenv>=0.21.0 in ./venv/lib/python3.12/site-packages (from pydantic-settings==2.7.1) (1.0.1)\r\n",
      "Requirement already satisfied: anyio in ./venv/lib/python3.12/site-packages (from httpx==0.28.1) (4.8.0)\r\n",
      "Requirement already satisfied: certifi in ./venv/lib/python3.12/site-packages (from httpx==0.28.1) (2024.12.14)\r\n",
      "Requirement already satisfied: httpcore==1.* in ./venv/lib/python3.12/site-packages (from httpx==0.28.1) (1.0.7)\r\n",
      "Requirement already satisfied: idna in ./venv/lib/python3.12/site-packages (from httpx==0.28.1) (3.10)\r\n",
      "Requirement already satisfied: h11<0.15,>=0.13 in ./venv/lib/python3.12/site-packages (from httpcore==1.*->httpx==0.28.1) (0.14.0)\r\n",
      "Requirement already satisfied: aiohappyeyeballs>=2.3.0 in ./venv/lib/python3.12/site-packages (from aiohttp<4.0.0,>=3.8.3->langchain-community==0.3.16) (2.4.4)\r\n",
      "Requirement already satisfied: aiosignal>=1.1.2 in ./venv/lib/python3.12/site-packages (from aiohttp<4.0.0,>=3.8.3->langchain-community==0.3.16) (1.3.2)\r\n",
      "Requirement already satisfied: attrs>=17.3.0 in ./venv/lib/python3.12/site-packages (from aiohttp<4.0.0,>=3.8.3->langchain-community==0.3.16) (24.3.0)\r\n",
      "Requirement already satisfied: frozenlist>=1.1.1 in ./venv/lib/python3.12/site-packages (from aiohttp<4.0.0,>=3.8.3->langchain-community==0.3.16) (1.5.0)\r\n",
      "Requirement already satisfied: multidict<7.0,>=4.5 in ./venv/lib/python3.12/site-packages (from aiohttp<4.0.0,>=3.8.3->langchain-community==0.3.16) (6.1.0)\r\n",
      "Requirement already satisfied: propcache>=0.2.0 in ./venv/lib/python3.12/site-packages (from aiohttp<4.0.0,>=3.8.3->langchain-community==0.3.16) (0.2.1)\r\n",
      "Requirement already satisfied: yarl<2.0,>=1.17.0 in ./venv/lib/python3.12/site-packages (from aiohttp<4.0.0,>=3.8.3->langchain-community==0.3.16) (1.18.3)\r\n",
      "Requirement already satisfied: marshmallow<4.0.0,>=3.18.0 in ./venv/lib/python3.12/site-packages (from dataclasses-json<0.7,>=0.5.7->langchain-community==0.3.16) (3.25.1)\r\n",
      "Requirement already satisfied: typing-inspect<1,>=0.4.0 in ./venv/lib/python3.12/site-packages (from dataclasses-json<0.7,>=0.5.7->langchain-community==0.3.16) (0.9.0)\r\n",
      "Requirement already satisfied: parso<0.9.0,>=0.8.4 in ./venv/lib/python3.12/site-packages (from jedi>=0.16->ipython==8.31.0) (0.8.4)\r\n",
      "Requirement already satisfied: jsonpointer>=1.9 in ./venv/lib/python3.12/site-packages (from jsonpatch<2.0,>=1.33->langchain-core==0.3.32) (3.0.0)\r\n",
      "Requirement already satisfied: langchain-text-splitters<0.4.0,>=0.3.3 in ./venv/lib/python3.12/site-packages (from langchain<0.4.0,>=0.3.16->langchain-community==0.3.16) (0.3.5)\r\n",
      "Requirement already satisfied: msgpack<2.0.0,>=1.1.0 in ./venv/lib/python3.12/site-packages (from langgraph-checkpoint<3.0.0,>=2.0.10->langgraph==0.2.68) (1.1.0)\r\n",
      "Requirement already satisfied: orjson>=3.10.1 in ./venv/lib/python3.12/site-packages (from langgraph-sdk<0.2.0,>=0.1.42->langgraph==0.2.68) (3.10.15)\r\n",
      "Requirement already satisfied: requests-toolbelt<2.0.0,>=1.0.0 in ./venv/lib/python3.12/site-packages (from langsmith<0.4,>=0.1.125->langchain-community==0.3.16) (1.0.0)\r\n",
      "Requirement already satisfied: zstandard<0.24.0,>=0.23.0 in ./venv/lib/python3.12/site-packages (from langsmith<0.4,>=0.1.125->langchain-community==0.3.16) (0.23.0)\r\n",
      "Requirement already satisfied: distro<2,>=1.7.0 in ./venv/lib/python3.12/site-packages (from openai<2.0.0,>=1.58.1->langchain_openai==0.3.2) (1.9.0)\r\n",
      "Requirement already satisfied: jiter<1,>=0.4.0 in ./venv/lib/python3.12/site-packages (from openai<2.0.0,>=1.58.1->langchain_openai==0.3.2) (0.8.2)\r\n",
      "Requirement already satisfied: sniffio in ./venv/lib/python3.12/site-packages (from openai<2.0.0,>=1.58.1->langchain_openai==0.3.2) (1.3.1)\r\n",
      "Requirement already satisfied: tqdm>4 in ./venv/lib/python3.12/site-packages (from openai<2.0.0,>=1.58.1->langchain_openai==0.3.2) (4.67.1)\r\n",
      "Requirement already satisfied: ptyprocess>=0.5 in ./venv/lib/python3.12/site-packages (from pexpect>4.3->ipython==8.31.0) (0.7.0)\r\n",
      "Requirement already satisfied: wcwidth in ./venv/lib/python3.12/site-packages (from prompt_toolkit<3.1.0,>=3.0.41->ipython==8.31.0) (0.2.13)\r\n",
      "Requirement already satisfied: annotated-types>=0.6.0 in ./venv/lib/python3.12/site-packages (from pydantic<3.0.0,>=2.7.4->langchain-core==0.3.32) (0.7.0)\r\n",
      "Requirement already satisfied: pydantic-core==2.27.2 in ./venv/lib/python3.12/site-packages (from pydantic<3.0.0,>=2.7.4->langchain-core==0.3.32) (2.27.2)\r\n",
      "Requirement already satisfied: charset-normalizer<4,>=2 in ./venv/lib/python3.12/site-packages (from requests<3,>=2->langchain-community==0.3.16) (3.4.1)\r\n",
      "Requirement already satisfied: urllib3<3,>=1.21.1 in ./venv/lib/python3.12/site-packages (from requests<3,>=2->langchain-community==0.3.16) (2.3.0)\r\n",
      "Requirement already satisfied: regex>=2022.1.18 in ./venv/lib/python3.12/site-packages (from tiktoken<1,>=0.7->langchain_openai==0.3.2) (2024.11.6)\r\n",
      "Requirement already satisfied: executing>=1.2.0 in ./venv/lib/python3.12/site-packages (from stack_data->ipython==8.31.0) (2.2.0)\r\n",
      "Requirement already satisfied: asttokens>=2.1.0 in ./venv/lib/python3.12/site-packages (from stack_data->ipython==8.31.0) (3.0.0)\r\n",
      "Requirement already satisfied: pure-eval in ./venv/lib/python3.12/site-packages (from stack_data->ipython==8.31.0) (0.2.3)\r\n",
      "Requirement already satisfied: mypy-extensions>=0.3.0 in ./venv/lib/python3.12/site-packages (from typing-inspect<1,>=0.4.0->dataclasses-json<0.7,>=0.5.7->langchain-community==0.3.16) (1.0.0)\r\n",
      "Note: you may need to restart the kernel to use updated packages.\n"
     ]
    }
   ],
   "execution_count": 1
  },
  {
   "metadata": {},
   "cell_type": "markdown",
   "source": "# Setup Environment",
   "id": "702385e8db24259"
  },
  {
   "metadata": {
    "ExecuteTime": {
     "end_time": "2025-02-03T16:54:09.866364Z",
     "start_time": "2025-02-03T16:54:09.773455Z"
    }
   },
   "cell_type": "code",
   "source": [
    "import os\n",
    "from langchain_openai import ChatOpenAI, OpenAIEmbeddings\n",
    "from langchain_postgres import PGVector\n",
    "\n",
    "os.environ['OPENAI_API_KEY'] = os.getenv('OPENAI_API_KEY')\n",
    "\n",
    "CONNECTION = os.getenv('CONNECTION')\n",
    "COLLECTION_NAME = os.getenv('COLLECTION_NAME')\n",
    "\n",
    "llm = ChatOpenAI(model='gpt-4o-mini')\n",
    "embeddings = OpenAIEmbeddings(model='text-embedding-3-small')\n",
    "\n",
    "vector_store = PGVector(\n",
    "    embeddings=embeddings,\n",
    "    collection_name=COLLECTION_NAME,\n",
    "    connection=CONNECTION,\n",
    "    use_jsonb=True,\n",
    ")"
   ],
   "id": "6645f71002103c07",
   "outputs": [],
   "execution_count": 46
  },
  {
   "metadata": {},
   "cell_type": "markdown",
   "source": "# Setup Tools",
   "id": "2620438a883a16ef"
  },
  {
   "metadata": {
    "ExecuteTime": {
     "end_time": "2025-02-03T16:51:39.494646Z",
     "start_time": "2025-02-03T16:51:39.457680Z"
    }
   },
   "cell_type": "code",
   "source": [
    "import httpx\n",
    "from typing import Optional, Type\n",
    "\n",
    "from langchain.callbacks.manager import (\n",
    "    AsyncCallbackManagerForToolRun,\n",
    "    CallbackManagerForToolRun,\n",
    ")\n",
    "from langchain.tools import BaseTool\n",
    "from pydantic import BaseModel, Field\n",
    "from pydantic_settings import BaseSettings\n",
    "from langchain_postgres import PGVector\n",
    "from langchain import hub\n",
    "\n",
    "\n",
    "class APIToolSchema(BaseModel):\n",
    "    path: str = Field(default=\"\", description=\"the api path\")\n",
    "    query_params: Optional[dict] = Field(\n",
    "        default=None, description=\"Optional search parameters\"\n",
    "    )\n",
    "\n",
    "\n",
    "class RAGToolSchema(BaseModel):\n",
    "    question: str = Field(default=\"\", description=\"question to perform similarity search in vector store\")\n",
    "\n",
    "\n",
    "class APITool(BaseTool, BaseSettings):\n",
    "    name: str = \"api_tool\"\n",
    "    description: str = \"\"\"Tool that calls GET on <https://mlb-player-api-924437296962.us-central1.run.app/players> apis.\"\"\"\n",
    "    args_schema: Type[APIToolSchema] = APIToolSchema\n",
    "    base_url: str = \"https://mlb-player-api-924437296962.us-central1.run.app/players\"\n",
    "\n",
    "    def _run(\n",
    "            self,\n",
    "            path: str = \"\",\n",
    "            query_params: Optional[dict] = None,\n",
    "            run_manager: Optional[CallbackManagerForToolRun] = None,\n",
    "    ) -> dict:\n",
    "        \"\"\"Run the tool\"\"\"\n",
    "        result = httpx.Client().get(self.base_url)\n",
    "\n",
    "        print(result)\n",
    "        return result.json()\n",
    "\n",
    "    async def _arun(\n",
    "            self,\n",
    "            path: str = \"\",\n",
    "            query_params: Optional[dict] = None,\n",
    "            run_manager: Optional[AsyncCallbackManagerForToolRun] = None,\n",
    "    ) -> dict:\n",
    "        \"\"\"Run the tool asynchronously.\"\"\"\n",
    "\n",
    "        async with httpx.AsyncClient() as client:\n",
    "            result = await client.get(self.base_url)\n",
    "            return result.json()\n",
    "\n",
    "\n",
    "class RAGTool(BaseTool, BaseSettings):\n",
    "    name: str = \"rag_tool\"\n",
    "    description: str = \"\"\"Tool that gets the most similar documents from the vector database.\"\"\"\n",
    "    args_schema: Type[RAGToolSchema] = RAGToolSchema\n",
    "\n",
    "    def __init__(self):\n",
    "        super().__init__()\n",
    "        # self.vector_store = PGVector(\n",
    "        #     embeddings=embeddings,\n",
    "        #     collection_name=collection_name,\n",
    "        #     connection=connection_string,\n",
    "        #     use_jsonb=True,\n",
    "        # )\n",
    "        # self.prompt = hub.pull('rlm/rag-prompt')\n",
    "\n",
    "    def _run(\n",
    "            self,\n",
    "            question: str,\n",
    "            run_manager: Optional[CallbackManagerForToolRun] = None,\n",
    "    ) -> dict:\n",
    "        \"\"\"Run the tool\"\"\"\n",
    "        # retrieved_docs = self.vector_store.similarity_search(question)\n",
    "        # docs_content = '\\n\\n'.join(doc.page_content for doc in retrieved_docs)\n",
    "        # messages = self.prompt.invoke({'question': question, 'context': docs_content})\n",
    "        # response = llm.invoke(messages)\n",
    "        #\n",
    "        # return response.content\n",
    "        return \"\"\n",
    "\n",
    "    async def _arun(\n",
    "            self,\n",
    "            question: str,\n",
    "            run_manager: Optional[AsyncCallbackManagerForToolRun] = None,\n",
    "    ) -> dict:\n",
    "        \"\"\"Run the tool asynchronously.\"\"\"\n",
    "\n",
    "        # retrieved_docs = self.vector_store.similarity_search(question)\n",
    "        # docs_content = '\\n\\n'.join(doc.page_content for doc in retrieved_docs)\n",
    "        # messages = self.prompt.invoke({'question': question, 'context': docs_content})\n",
    "        # response = llm.invoke(messages)\n",
    "        #\n",
    "        # return response.content\n",
    "        return \"\"\n",
    "\n",
    "\n",
    "api_tool = APITool()\n",
    "rag_tool = RAGTool()\n",
    "    # connection_string=CONNECTION, collection_name=COLLECTION_NAME)"
   ],
   "id": "2e71db0e57b9ec53",
   "outputs": [
    {
     "ename": "ValidationError",
     "evalue": "2 validation errors for RAGTool\nvector_store\n  Field required [type=missing, input_value={}, input_type=dict]\n    For further information visit https://errors.pydantic.dev/2.10/v/missing\nprompt\n  Field required [type=missing, input_value={}, input_type=dict]\n    For further information visit https://errors.pydantic.dev/2.10/v/missing",
     "output_type": "error",
     "traceback": [
      "\u001B[0;31m---------------------------------------------------------------------------\u001B[0m",
      "\u001B[0;31mValidationError\u001B[0m                           Traceback (most recent call last)",
      "Cell \u001B[0;32mIn[45], line 108\u001B[0m\n\u001B[1;32m    104\u001B[0m         \u001B[38;5;28;01mreturn\u001B[39;00m \u001B[38;5;124m\"\u001B[39m\u001B[38;5;124m\"\u001B[39m\n\u001B[1;32m    107\u001B[0m api_tool \u001B[38;5;241m=\u001B[39m APITool()\n\u001B[0;32m--> 108\u001B[0m rag_tool \u001B[38;5;241m=\u001B[39m \u001B[43mRAGTool\u001B[49m\u001B[43m(\u001B[49m\u001B[43m)\u001B[49m\n\u001B[1;32m    109\u001B[0m     \u001B[38;5;66;03m# connection_string=CONNECTION, collection_name=COLLECTION_NAME)\u001B[39;00m\n",
      "Cell \u001B[0;32mIn[45], line 68\u001B[0m, in \u001B[0;36mRAGTool.__init__\u001B[0;34m(self, **kwargs)\u001B[0m\n\u001B[1;32m     67\u001B[0m \u001B[38;5;28;01mdef\u001B[39;00m\u001B[38;5;250m \u001B[39m\u001B[38;5;21m__init__\u001B[39m(\u001B[38;5;28mself\u001B[39m, \u001B[38;5;241m*\u001B[39m\u001B[38;5;241m*\u001B[39mkwargs):\n\u001B[0;32m---> 68\u001B[0m     \u001B[38;5;28;43msuper\u001B[39;49m\u001B[43m(\u001B[49m\u001B[43m)\u001B[49m\u001B[38;5;241;43m.\u001B[39;49m\u001B[38;5;21;43m__init__\u001B[39;49m\u001B[43m(\u001B[49m\u001B[38;5;241;43m*\u001B[39;49m\u001B[38;5;241;43m*\u001B[39;49m\u001B[43mkwargs\u001B[49m\u001B[43m)\u001B[49m\n",
      "File \u001B[0;32m~/Desktop/Projects/gen-ai-snippets/venv/lib/python3.12/site-packages/langchain_core/tools/base.py:432\u001B[0m, in \u001B[0;36mBaseTool.__init__\u001B[0;34m(self, **kwargs)\u001B[0m\n\u001B[1;32m    427\u001B[0m     msg \u001B[38;5;241m=\u001B[39m (\n\u001B[1;32m    428\u001B[0m         \u001B[38;5;124mf\u001B[39m\u001B[38;5;124m\"\u001B[39m\u001B[38;5;124margs_schema must be a subclass of pydantic BaseModel. \u001B[39m\u001B[38;5;124m\"\u001B[39m\n\u001B[1;32m    429\u001B[0m         \u001B[38;5;124mf\u001B[39m\u001B[38;5;124m\"\u001B[39m\u001B[38;5;124mGot: \u001B[39m\u001B[38;5;132;01m{\u001B[39;00mkwargs[\u001B[38;5;124m'\u001B[39m\u001B[38;5;124margs_schema\u001B[39m\u001B[38;5;124m'\u001B[39m]\u001B[38;5;132;01m}\u001B[39;00m\u001B[38;5;124m.\u001B[39m\u001B[38;5;124m\"\u001B[39m\n\u001B[1;32m    430\u001B[0m     )\n\u001B[1;32m    431\u001B[0m     \u001B[38;5;28;01mraise\u001B[39;00m \u001B[38;5;167;01mTypeError\u001B[39;00m(msg)\n\u001B[0;32m--> 432\u001B[0m \u001B[38;5;28;43msuper\u001B[39;49m\u001B[43m(\u001B[49m\u001B[43m)\u001B[49m\u001B[38;5;241;43m.\u001B[39;49m\u001B[38;5;21;43m__init__\u001B[39;49m\u001B[43m(\u001B[49m\u001B[38;5;241;43m*\u001B[39;49m\u001B[38;5;241;43m*\u001B[39;49m\u001B[43mkwargs\u001B[49m\u001B[43m)\u001B[49m\n",
      "File \u001B[0;32m~/Desktop/Projects/gen-ai-snippets/venv/lib/python3.12/site-packages/langchain_core/load/serializable.py:125\u001B[0m, in \u001B[0;36mSerializable.__init__\u001B[0;34m(self, *args, **kwargs)\u001B[0m\n\u001B[1;32m    123\u001B[0m \u001B[38;5;28;01mdef\u001B[39;00m\u001B[38;5;250m \u001B[39m\u001B[38;5;21m__init__\u001B[39m(\u001B[38;5;28mself\u001B[39m, \u001B[38;5;241m*\u001B[39margs: Any, \u001B[38;5;241m*\u001B[39m\u001B[38;5;241m*\u001B[39mkwargs: Any) \u001B[38;5;241m-\u001B[39m\u001B[38;5;241m>\u001B[39m \u001B[38;5;28;01mNone\u001B[39;00m:\n\u001B[1;32m    124\u001B[0m \u001B[38;5;250m    \u001B[39m\u001B[38;5;124;03m\"\"\"\"\"\"\u001B[39;00m\n\u001B[0;32m--> 125\u001B[0m     \u001B[38;5;28;43msuper\u001B[39;49m\u001B[43m(\u001B[49m\u001B[43m)\u001B[49m\u001B[38;5;241;43m.\u001B[39;49m\u001B[38;5;21;43m__init__\u001B[39;49m\u001B[43m(\u001B[49m\u001B[38;5;241;43m*\u001B[39;49m\u001B[43margs\u001B[49m\u001B[43m,\u001B[49m\u001B[43m \u001B[49m\u001B[38;5;241;43m*\u001B[39;49m\u001B[38;5;241;43m*\u001B[39;49m\u001B[43mkwargs\u001B[49m\u001B[43m)\u001B[49m\n",
      "File \u001B[0;32m~/Desktop/Projects/gen-ai-snippets/venv/lib/python3.12/site-packages/pydantic_settings/main.py:171\u001B[0m, in \u001B[0;36mBaseSettings.__init__\u001B[0;34m(__pydantic_self__, _case_sensitive, _nested_model_default_partial_update, _env_prefix, _env_file, _env_file_encoding, _env_ignore_empty, _env_nested_delimiter, _env_parse_none_str, _env_parse_enums, _cli_prog_name, _cli_parse_args, _cli_settings_source, _cli_parse_none_str, _cli_hide_none_type, _cli_avoid_json, _cli_enforce_required, _cli_use_class_docs_for_groups, _cli_exit_on_error, _cli_prefix, _cli_flag_prefix_char, _cli_implicit_flags, _cli_ignore_unknown_args, _cli_kebab_case, _secrets_dir, **values)\u001B[0m\n\u001B[1;32m    142\u001B[0m \u001B[38;5;28;01mdef\u001B[39;00m\u001B[38;5;250m \u001B[39m\u001B[38;5;21m__init__\u001B[39m(\n\u001B[1;32m    143\u001B[0m     __pydantic_self__,\n\u001B[1;32m    144\u001B[0m     _case_sensitive: \u001B[38;5;28mbool\u001B[39m \u001B[38;5;241m|\u001B[39m \u001B[38;5;28;01mNone\u001B[39;00m \u001B[38;5;241m=\u001B[39m \u001B[38;5;28;01mNone\u001B[39;00m,\n\u001B[0;32m   (...)\u001B[0m\n\u001B[1;32m    169\u001B[0m ) \u001B[38;5;241m-\u001B[39m\u001B[38;5;241m>\u001B[39m \u001B[38;5;28;01mNone\u001B[39;00m:\n\u001B[1;32m    170\u001B[0m     \u001B[38;5;66;03m# Uses something other than `self` the first arg to allow \"self\" as a settable attribute\u001B[39;00m\n\u001B[0;32m--> 171\u001B[0m     \u001B[38;5;28;43msuper\u001B[39;49m\u001B[43m(\u001B[49m\u001B[43m)\u001B[49m\u001B[38;5;241;43m.\u001B[39;49m\u001B[38;5;21;43m__init__\u001B[39;49m\u001B[43m(\u001B[49m\n\u001B[1;32m    172\u001B[0m \u001B[43m        \u001B[49m\u001B[38;5;241;43m*\u001B[39;49m\u001B[38;5;241;43m*\u001B[39;49m\u001B[43m__pydantic_self__\u001B[49m\u001B[38;5;241;43m.\u001B[39;49m\u001B[43m_settings_build_values\u001B[49m\u001B[43m(\u001B[49m\n\u001B[1;32m    173\u001B[0m \u001B[43m            \u001B[49m\u001B[43mvalues\u001B[49m\u001B[43m,\u001B[49m\n\u001B[1;32m    174\u001B[0m \u001B[43m            \u001B[49m\u001B[43m_case_sensitive\u001B[49m\u001B[38;5;241;43m=\u001B[39;49m\u001B[43m_case_sensitive\u001B[49m\u001B[43m,\u001B[49m\n\u001B[1;32m    175\u001B[0m \u001B[43m            \u001B[49m\u001B[43m_nested_model_default_partial_update\u001B[49m\u001B[38;5;241;43m=\u001B[39;49m\u001B[43m_nested_model_default_partial_update\u001B[49m\u001B[43m,\u001B[49m\n\u001B[1;32m    176\u001B[0m \u001B[43m            \u001B[49m\u001B[43m_env_prefix\u001B[49m\u001B[38;5;241;43m=\u001B[39;49m\u001B[43m_env_prefix\u001B[49m\u001B[43m,\u001B[49m\n\u001B[1;32m    177\u001B[0m \u001B[43m            \u001B[49m\u001B[43m_env_file\u001B[49m\u001B[38;5;241;43m=\u001B[39;49m\u001B[43m_env_file\u001B[49m\u001B[43m,\u001B[49m\n\u001B[1;32m    178\u001B[0m \u001B[43m            \u001B[49m\u001B[43m_env_file_encoding\u001B[49m\u001B[38;5;241;43m=\u001B[39;49m\u001B[43m_env_file_encoding\u001B[49m\u001B[43m,\u001B[49m\n\u001B[1;32m    179\u001B[0m \u001B[43m            \u001B[49m\u001B[43m_env_ignore_empty\u001B[49m\u001B[38;5;241;43m=\u001B[39;49m\u001B[43m_env_ignore_empty\u001B[49m\u001B[43m,\u001B[49m\n\u001B[1;32m    180\u001B[0m \u001B[43m            \u001B[49m\u001B[43m_env_nested_delimiter\u001B[49m\u001B[38;5;241;43m=\u001B[39;49m\u001B[43m_env_nested_delimiter\u001B[49m\u001B[43m,\u001B[49m\n\u001B[1;32m    181\u001B[0m \u001B[43m            \u001B[49m\u001B[43m_env_parse_none_str\u001B[49m\u001B[38;5;241;43m=\u001B[39;49m\u001B[43m_env_parse_none_str\u001B[49m\u001B[43m,\u001B[49m\n\u001B[1;32m    182\u001B[0m \u001B[43m            \u001B[49m\u001B[43m_env_parse_enums\u001B[49m\u001B[38;5;241;43m=\u001B[39;49m\u001B[43m_env_parse_enums\u001B[49m\u001B[43m,\u001B[49m\n\u001B[1;32m    183\u001B[0m \u001B[43m            \u001B[49m\u001B[43m_cli_prog_name\u001B[49m\u001B[38;5;241;43m=\u001B[39;49m\u001B[43m_cli_prog_name\u001B[49m\u001B[43m,\u001B[49m\n\u001B[1;32m    184\u001B[0m \u001B[43m            \u001B[49m\u001B[43m_cli_parse_args\u001B[49m\u001B[38;5;241;43m=\u001B[39;49m\u001B[43m_cli_parse_args\u001B[49m\u001B[43m,\u001B[49m\n\u001B[1;32m    185\u001B[0m \u001B[43m            \u001B[49m\u001B[43m_cli_settings_source\u001B[49m\u001B[38;5;241;43m=\u001B[39;49m\u001B[43m_cli_settings_source\u001B[49m\u001B[43m,\u001B[49m\n\u001B[1;32m    186\u001B[0m \u001B[43m            \u001B[49m\u001B[43m_cli_parse_none_str\u001B[49m\u001B[38;5;241;43m=\u001B[39;49m\u001B[43m_cli_parse_none_str\u001B[49m\u001B[43m,\u001B[49m\n\u001B[1;32m    187\u001B[0m \u001B[43m            \u001B[49m\u001B[43m_cli_hide_none_type\u001B[49m\u001B[38;5;241;43m=\u001B[39;49m\u001B[43m_cli_hide_none_type\u001B[49m\u001B[43m,\u001B[49m\n\u001B[1;32m    188\u001B[0m \u001B[43m            \u001B[49m\u001B[43m_cli_avoid_json\u001B[49m\u001B[38;5;241;43m=\u001B[39;49m\u001B[43m_cli_avoid_json\u001B[49m\u001B[43m,\u001B[49m\n\u001B[1;32m    189\u001B[0m \u001B[43m            \u001B[49m\u001B[43m_cli_enforce_required\u001B[49m\u001B[38;5;241;43m=\u001B[39;49m\u001B[43m_cli_enforce_required\u001B[49m\u001B[43m,\u001B[49m\n\u001B[1;32m    190\u001B[0m \u001B[43m            \u001B[49m\u001B[43m_cli_use_class_docs_for_groups\u001B[49m\u001B[38;5;241;43m=\u001B[39;49m\u001B[43m_cli_use_class_docs_for_groups\u001B[49m\u001B[43m,\u001B[49m\n\u001B[1;32m    191\u001B[0m \u001B[43m            \u001B[49m\u001B[43m_cli_exit_on_error\u001B[49m\u001B[38;5;241;43m=\u001B[39;49m\u001B[43m_cli_exit_on_error\u001B[49m\u001B[43m,\u001B[49m\n\u001B[1;32m    192\u001B[0m \u001B[43m            \u001B[49m\u001B[43m_cli_prefix\u001B[49m\u001B[38;5;241;43m=\u001B[39;49m\u001B[43m_cli_prefix\u001B[49m\u001B[43m,\u001B[49m\n\u001B[1;32m    193\u001B[0m \u001B[43m            \u001B[49m\u001B[43m_cli_flag_prefix_char\u001B[49m\u001B[38;5;241;43m=\u001B[39;49m\u001B[43m_cli_flag_prefix_char\u001B[49m\u001B[43m,\u001B[49m\n\u001B[1;32m    194\u001B[0m \u001B[43m            \u001B[49m\u001B[43m_cli_implicit_flags\u001B[49m\u001B[38;5;241;43m=\u001B[39;49m\u001B[43m_cli_implicit_flags\u001B[49m\u001B[43m,\u001B[49m\n\u001B[1;32m    195\u001B[0m \u001B[43m            \u001B[49m\u001B[43m_cli_ignore_unknown_args\u001B[49m\u001B[38;5;241;43m=\u001B[39;49m\u001B[43m_cli_ignore_unknown_args\u001B[49m\u001B[43m,\u001B[49m\n\u001B[1;32m    196\u001B[0m \u001B[43m            \u001B[49m\u001B[43m_cli_kebab_case\u001B[49m\u001B[38;5;241;43m=\u001B[39;49m\u001B[43m_cli_kebab_case\u001B[49m\u001B[43m,\u001B[49m\n\u001B[1;32m    197\u001B[0m \u001B[43m            \u001B[49m\u001B[43m_secrets_dir\u001B[49m\u001B[38;5;241;43m=\u001B[39;49m\u001B[43m_secrets_dir\u001B[49m\u001B[43m,\u001B[49m\n\u001B[1;32m    198\u001B[0m \u001B[43m        \u001B[49m\u001B[43m)\u001B[49m\n\u001B[1;32m    199\u001B[0m \u001B[43m    \u001B[49m\u001B[43m)\u001B[49m\n",
      "File \u001B[0;32m~/Desktop/Projects/gen-ai-snippets/venv/lib/python3.12/site-packages/pydantic/main.py:214\u001B[0m, in \u001B[0;36mBaseModel.__init__\u001B[0;34m(self, **data)\u001B[0m\n\u001B[1;32m    212\u001B[0m \u001B[38;5;66;03m# `__tracebackhide__` tells pytest and some other tools to omit this function from tracebacks\u001B[39;00m\n\u001B[1;32m    213\u001B[0m __tracebackhide__ \u001B[38;5;241m=\u001B[39m \u001B[38;5;28;01mTrue\u001B[39;00m\n\u001B[0;32m--> 214\u001B[0m validated_self \u001B[38;5;241m=\u001B[39m \u001B[38;5;28;43mself\u001B[39;49m\u001B[38;5;241;43m.\u001B[39;49m\u001B[43m__pydantic_validator__\u001B[49m\u001B[38;5;241;43m.\u001B[39;49m\u001B[43mvalidate_python\u001B[49m\u001B[43m(\u001B[49m\u001B[43mdata\u001B[49m\u001B[43m,\u001B[49m\u001B[43m \u001B[49m\u001B[43mself_instance\u001B[49m\u001B[38;5;241;43m=\u001B[39;49m\u001B[38;5;28;43mself\u001B[39;49m\u001B[43m)\u001B[49m\n\u001B[1;32m    215\u001B[0m \u001B[38;5;28;01mif\u001B[39;00m \u001B[38;5;28mself\u001B[39m \u001B[38;5;129;01mis\u001B[39;00m \u001B[38;5;129;01mnot\u001B[39;00m validated_self:\n\u001B[1;32m    216\u001B[0m     warnings\u001B[38;5;241m.\u001B[39mwarn(\n\u001B[1;32m    217\u001B[0m         \u001B[38;5;124m'\u001B[39m\u001B[38;5;124mA custom validator is returning a value other than `self`.\u001B[39m\u001B[38;5;130;01m\\n\u001B[39;00m\u001B[38;5;124m'\u001B[39m\n\u001B[1;32m    218\u001B[0m         \u001B[38;5;124m\"\u001B[39m\u001B[38;5;124mReturning anything other than `self` from a top level model validator isn\u001B[39m\u001B[38;5;124m'\u001B[39m\u001B[38;5;124mt supported when validating via `__init__`.\u001B[39m\u001B[38;5;130;01m\\n\u001B[39;00m\u001B[38;5;124m\"\u001B[39m\n\u001B[1;32m    219\u001B[0m         \u001B[38;5;124m'\u001B[39m\u001B[38;5;124mSee the `model_validator` docs (https://docs.pydantic.dev/latest/concepts/validators/#model-validators) for more details.\u001B[39m\u001B[38;5;124m'\u001B[39m,\n\u001B[1;32m    220\u001B[0m         stacklevel\u001B[38;5;241m=\u001B[39m\u001B[38;5;241m2\u001B[39m,\n\u001B[1;32m    221\u001B[0m     )\n",
      "\u001B[0;31mValidationError\u001B[0m: 2 validation errors for RAGTool\nvector_store\n  Field required [type=missing, input_value={}, input_type=dict]\n    For further information visit https://errors.pydantic.dev/2.10/v/missing\nprompt\n  Field required [type=missing, input_value={}, input_type=dict]\n    For further information visit https://errors.pydantic.dev/2.10/v/missing"
     ]
    }
   ],
   "execution_count": 45
  },
  {
   "metadata": {
    "ExecuteTime": {
     "end_time": "2025-02-03T13:01:05.879483Z",
     "start_time": "2025-02-03T13:01:05.270190Z"
    }
   },
   "cell_type": "code",
   "source": [
    "players = api_tool.run({})\n",
    "print(players)"
   ],
   "id": "fa36d9d9dd3b806c",
   "outputs": [
    {
     "name": "stdout",
     "output_type": "stream",
     "text": [
      "<Response [200 OK]>\n",
      "[{'id': 1, 'name': 'Juan Soto', 'age': 26, 'contract_start_date': '2024-12-11', 'contract_end_date': '2039-12-10', 'team': 'New York Mets', 'country': 'Dominican Republic', 'salary': '51 million per year'}, {'id': 2, 'name': 'Brent Rooker', 'age': 30, 'contract_start_date': '2025-01-07', 'contract_end_date': '2030-01-06', 'team': 'Oakland Athletics', 'country': 'United States', 'salary': '12 million per year'}, {'id': 3, 'name': 'Blake Snell', 'age': 32, 'contract_start_date': '2025-01-01', 'contract_end_date': '2029-12-31', 'team': 'Los Angeles Dodgers', 'country': 'United States', 'salary': '36.4 million per year'}, {'id': 4, 'name': 'Paul Goldschmidt', 'age': 37, 'contract_start_date': '2024-12-30', 'contract_end_date': '2025-12-29', 'team': 'New York Yankees', 'country': 'United States', 'salary': '12.5 million per year'}, {'id': 5, 'name': 'Reynaldo López', 'age': 31, 'contract_start_date': '2023-11-20', 'contract_end_date': '2026-11-19', 'team': 'Atlanta Braves', 'country': 'Dominican Republic', 'salary': '8 million in 2025, 14 million in 2026'}, {'id': 6, 'name': 'Max Fried', 'age': 30, 'contract_start_date': '2024-12-17', 'contract_end_date': '2032-12-16', 'team': 'New York Yankees', 'country': 'United States', 'salary': '27.25 million per year'}, {'id': 7, 'name': 'Teoscar Hernández', 'age': 32, 'contract_start_date': '2025-01-01', 'contract_end_date': '2028-12-31', 'team': 'Los Angeles Dodgers', 'country': 'Dominican Republic', 'salary': '22 million per year'}, {'id': 8, 'name': 'Luis Severino', 'age': 30, 'contract_start_date': '2025-01-01', 'contract_end_date': '2027-12-31', 'team': 'Oakland Athletics', 'country': 'Dominican Republic', 'salary': '22.33 million per year'}, {'id': 9, 'name': 'Sean Manaea', 'age': 32, 'contract_start_date': '2024-12-27', 'contract_end_date': '2027-12-26', 'team': 'New York Mets', 'country': 'United States', 'salary': '25 million per year'}, {'id': 10, 'name': 'Nathan Eovaldi', 'age': 34, 'contract_start_date': '2024-12-12', 'contract_end_date': '2027-12-11', 'team': 'Texas Rangers', 'country': 'United States', 'salary': '25 million per year'}]\n"
     ]
    }
   ],
   "execution_count": 15
  },
  {
   "metadata": {},
   "cell_type": "markdown",
   "source": "# Testing",
   "id": "5674d9930c84342a"
  },
  {
   "metadata": {
    "ExecuteTime": {
     "end_time": "2025-02-03T10:27:19.315702Z",
     "start_time": "2025-02-03T10:27:19.313555Z"
    }
   },
   "cell_type": "code",
   "source": [
    "def my_decorator(func):\n",
    "    def wrapper():\n",
    "        print(\"Something before the function runs.\")\n",
    "        func()\n",
    "        print(\"Something after the function runs.\")\n",
    "\n",
    "    return wrapper\n",
    "\n",
    "\n",
    "@my_decorator\n",
    "def say_hello():\n",
    "    print(\"Hello!\")\n",
    "\n",
    "\n",
    "say_hello()"
   ],
   "id": "eb125dece3a7dd15",
   "outputs": [
    {
     "name": "stdout",
     "output_type": "stream",
     "text": [
      "Something before the function runs.\n",
      "Hello!\n",
      "Something after the function runs.\n"
     ]
    }
   ],
   "execution_count": 6
  }
 ],
 "metadata": {
  "kernelspec": {
   "display_name": "Python 3",
   "language": "python",
   "name": "python3"
  },
  "language_info": {
   "codemirror_mode": {
    "name": "ipython",
    "version": 2
   },
   "file_extension": ".py",
   "mimetype": "text/x-python",
   "name": "python",
   "nbconvert_exporter": "python",
   "pygments_lexer": "ipython2",
   "version": "2.7.6"
  }
 },
 "nbformat": 4,
 "nbformat_minor": 5
}
