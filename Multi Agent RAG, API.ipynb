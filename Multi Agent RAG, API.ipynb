{
 "cells": [
  {
   "metadata": {},
   "cell_type": "markdown",
   "source": "# Install Dependencies",
   "id": "96e485a95240dab0"
  },
  {
   "cell_type": "code",
   "id": "initial_id",
   "metadata": {
    "collapsed": true,
    "ExecuteTime": {
     "end_time": "2025-02-06T04:40:24.127951Z",
     "start_time": "2025-02-06T04:40:23.499334Z"
    }
   },
   "source": "%pip install langchain_openai==0.3.2 langgraph==0.2.68 langchain-community==0.3.16 langchain-experimental==0.3.4 langchain-core==0.3.32 ipython==8.31.0 pydantic-settings==2.7.1 httpx==0.28.1",
   "outputs": [
    {
     "name": "stdout",
     "output_type": "stream",
     "text": [
      "Requirement already satisfied: langchain_openai==0.3.2 in ./venv/lib/python3.12/site-packages (0.3.2)\r\n",
      "Requirement already satisfied: langgraph==0.2.68 in ./venv/lib/python3.12/site-packages (0.2.68)\r\n",
      "Requirement already satisfied: langchain-community==0.3.16 in ./venv/lib/python3.12/site-packages (0.3.16)\r\n",
      "Requirement already satisfied: langchain-experimental==0.3.4 in ./venv/lib/python3.12/site-packages (0.3.4)\r\n",
      "Requirement already satisfied: langchain-core==0.3.32 in ./venv/lib/python3.12/site-packages (0.3.32)\r\n",
      "Requirement already satisfied: ipython==8.31.0 in ./venv/lib/python3.12/site-packages (8.31.0)\r\n",
      "Requirement already satisfied: pydantic-settings==2.7.1 in ./venv/lib/python3.12/site-packages (2.7.1)\r\n",
      "Requirement already satisfied: httpx==0.28.1 in ./venv/lib/python3.12/site-packages (0.28.1)\r\n",
      "Requirement already satisfied: openai<2.0.0,>=1.58.1 in ./venv/lib/python3.12/site-packages (from langchain_openai==0.3.2) (1.60.0)\r\n",
      "Requirement already satisfied: tiktoken<1,>=0.7 in ./venv/lib/python3.12/site-packages (from langchain_openai==0.3.2) (0.8.0)\r\n",
      "Requirement already satisfied: langgraph-checkpoint<3.0.0,>=2.0.10 in ./venv/lib/python3.12/site-packages (from langgraph==0.2.68) (2.0.10)\r\n",
      "Requirement already satisfied: langgraph-sdk<0.2.0,>=0.1.42 in ./venv/lib/python3.12/site-packages (from langgraph==0.2.68) (0.1.51)\r\n",
      "Requirement already satisfied: PyYAML>=5.3 in ./venv/lib/python3.12/site-packages (from langchain-community==0.3.16) (6.0.2)\r\n",
      "Requirement already satisfied: SQLAlchemy<3,>=1.4 in ./venv/lib/python3.12/site-packages (from langchain-community==0.3.16) (2.0.37)\r\n",
      "Requirement already satisfied: aiohttp<4.0.0,>=3.8.3 in ./venv/lib/python3.12/site-packages (from langchain-community==0.3.16) (3.11.11)\r\n",
      "Requirement already satisfied: dataclasses-json<0.7,>=0.5.7 in ./venv/lib/python3.12/site-packages (from langchain-community==0.3.16) (0.6.7)\r\n",
      "Requirement already satisfied: httpx-sse<0.5.0,>=0.4.0 in ./venv/lib/python3.12/site-packages (from langchain-community==0.3.16) (0.4.0)\r\n",
      "Requirement already satisfied: langchain<0.4.0,>=0.3.16 in ./venv/lib/python3.12/site-packages (from langchain-community==0.3.16) (0.3.16)\r\n",
      "Requirement already satisfied: langsmith<0.4,>=0.1.125 in ./venv/lib/python3.12/site-packages (from langchain-community==0.3.16) (0.3.0)\r\n",
      "Requirement already satisfied: numpy<3,>=1.26.2 in ./venv/lib/python3.12/site-packages (from langchain-community==0.3.16) (1.26.4)\r\n",
      "Requirement already satisfied: requests<3,>=2 in ./venv/lib/python3.12/site-packages (from langchain-community==0.3.16) (2.32.3)\r\n",
      "Requirement already satisfied: tenacity!=8.4.0,<10,>=8.1.0 in ./venv/lib/python3.12/site-packages (from langchain-community==0.3.16) (9.0.0)\r\n",
      "Requirement already satisfied: jsonpatch<2.0,>=1.33 in ./venv/lib/python3.12/site-packages (from langchain-core==0.3.32) (1.33)\r\n",
      "Requirement already satisfied: packaging<25,>=23.2 in ./venv/lib/python3.12/site-packages (from langchain-core==0.3.32) (24.2)\r\n",
      "Requirement already satisfied: pydantic<3.0.0,>=2.7.4 in ./venv/lib/python3.12/site-packages (from langchain-core==0.3.32) (2.10.5)\r\n",
      "Requirement already satisfied: typing-extensions>=4.7 in ./venv/lib/python3.12/site-packages (from langchain-core==0.3.32) (4.12.2)\r\n",
      "Requirement already satisfied: decorator in ./venv/lib/python3.12/site-packages (from ipython==8.31.0) (5.1.1)\r\n",
      "Requirement already satisfied: jedi>=0.16 in ./venv/lib/python3.12/site-packages (from ipython==8.31.0) (0.19.2)\r\n",
      "Requirement already satisfied: matplotlib-inline in ./venv/lib/python3.12/site-packages (from ipython==8.31.0) (0.1.7)\r\n",
      "Requirement already satisfied: pexpect>4.3 in ./venv/lib/python3.12/site-packages (from ipython==8.31.0) (4.9.0)\r\n",
      "Requirement already satisfied: prompt_toolkit<3.1.0,>=3.0.41 in ./venv/lib/python3.12/site-packages (from ipython==8.31.0) (3.0.50)\r\n",
      "Requirement already satisfied: pygments>=2.4.0 in ./venv/lib/python3.12/site-packages (from ipython==8.31.0) (2.19.1)\r\n",
      "Requirement already satisfied: stack_data in ./venv/lib/python3.12/site-packages (from ipython==8.31.0) (0.6.3)\r\n",
      "Requirement already satisfied: traitlets>=5.13.0 in ./venv/lib/python3.12/site-packages (from ipython==8.31.0) (5.14.3)\r\n",
      "Requirement already satisfied: python-dotenv>=0.21.0 in ./venv/lib/python3.12/site-packages (from pydantic-settings==2.7.1) (1.0.1)\r\n",
      "Requirement already satisfied: anyio in ./venv/lib/python3.12/site-packages (from httpx==0.28.1) (4.8.0)\r\n",
      "Requirement already satisfied: certifi in ./venv/lib/python3.12/site-packages (from httpx==0.28.1) (2024.12.14)\r\n",
      "Requirement already satisfied: httpcore==1.* in ./venv/lib/python3.12/site-packages (from httpx==0.28.1) (1.0.7)\r\n",
      "Requirement already satisfied: idna in ./venv/lib/python3.12/site-packages (from httpx==0.28.1) (3.10)\r\n",
      "Requirement already satisfied: h11<0.15,>=0.13 in ./venv/lib/python3.12/site-packages (from httpcore==1.*->httpx==0.28.1) (0.14.0)\r\n",
      "Requirement already satisfied: aiohappyeyeballs>=2.3.0 in ./venv/lib/python3.12/site-packages (from aiohttp<4.0.0,>=3.8.3->langchain-community==0.3.16) (2.4.4)\r\n",
      "Requirement already satisfied: aiosignal>=1.1.2 in ./venv/lib/python3.12/site-packages (from aiohttp<4.0.0,>=3.8.3->langchain-community==0.3.16) (1.3.2)\r\n",
      "Requirement already satisfied: attrs>=17.3.0 in ./venv/lib/python3.12/site-packages (from aiohttp<4.0.0,>=3.8.3->langchain-community==0.3.16) (24.3.0)\r\n",
      "Requirement already satisfied: frozenlist>=1.1.1 in ./venv/lib/python3.12/site-packages (from aiohttp<4.0.0,>=3.8.3->langchain-community==0.3.16) (1.5.0)\r\n",
      "Requirement already satisfied: multidict<7.0,>=4.5 in ./venv/lib/python3.12/site-packages (from aiohttp<4.0.0,>=3.8.3->langchain-community==0.3.16) (6.1.0)\r\n",
      "Requirement already satisfied: propcache>=0.2.0 in ./venv/lib/python3.12/site-packages (from aiohttp<4.0.0,>=3.8.3->langchain-community==0.3.16) (0.2.1)\r\n",
      "Requirement already satisfied: yarl<2.0,>=1.17.0 in ./venv/lib/python3.12/site-packages (from aiohttp<4.0.0,>=3.8.3->langchain-community==0.3.16) (1.18.3)\r\n",
      "Requirement already satisfied: marshmallow<4.0.0,>=3.18.0 in ./venv/lib/python3.12/site-packages (from dataclasses-json<0.7,>=0.5.7->langchain-community==0.3.16) (3.25.1)\r\n",
      "Requirement already satisfied: typing-inspect<1,>=0.4.0 in ./venv/lib/python3.12/site-packages (from dataclasses-json<0.7,>=0.5.7->langchain-community==0.3.16) (0.9.0)\r\n",
      "Requirement already satisfied: parso<0.9.0,>=0.8.4 in ./venv/lib/python3.12/site-packages (from jedi>=0.16->ipython==8.31.0) (0.8.4)\r\n",
      "Requirement already satisfied: jsonpointer>=1.9 in ./venv/lib/python3.12/site-packages (from jsonpatch<2.0,>=1.33->langchain-core==0.3.32) (3.0.0)\r\n",
      "Requirement already satisfied: langchain-text-splitters<0.4.0,>=0.3.3 in ./venv/lib/python3.12/site-packages (from langchain<0.4.0,>=0.3.16->langchain-community==0.3.16) (0.3.5)\r\n",
      "Requirement already satisfied: msgpack<2.0.0,>=1.1.0 in ./venv/lib/python3.12/site-packages (from langgraph-checkpoint<3.0.0,>=2.0.10->langgraph==0.2.68) (1.1.0)\r\n",
      "Requirement already satisfied: orjson>=3.10.1 in ./venv/lib/python3.12/site-packages (from langgraph-sdk<0.2.0,>=0.1.42->langgraph==0.2.68) (3.10.15)\r\n",
      "Requirement already satisfied: requests-toolbelt<2.0.0,>=1.0.0 in ./venv/lib/python3.12/site-packages (from langsmith<0.4,>=0.1.125->langchain-community==0.3.16) (1.0.0)\r\n",
      "Requirement already satisfied: zstandard<0.24.0,>=0.23.0 in ./venv/lib/python3.12/site-packages (from langsmith<0.4,>=0.1.125->langchain-community==0.3.16) (0.23.0)\r\n",
      "Requirement already satisfied: distro<2,>=1.7.0 in ./venv/lib/python3.12/site-packages (from openai<2.0.0,>=1.58.1->langchain_openai==0.3.2) (1.9.0)\r\n",
      "Requirement already satisfied: jiter<1,>=0.4.0 in ./venv/lib/python3.12/site-packages (from openai<2.0.0,>=1.58.1->langchain_openai==0.3.2) (0.8.2)\r\n",
      "Requirement already satisfied: sniffio in ./venv/lib/python3.12/site-packages (from openai<2.0.0,>=1.58.1->langchain_openai==0.3.2) (1.3.1)\r\n",
      "Requirement already satisfied: tqdm>4 in ./venv/lib/python3.12/site-packages (from openai<2.0.0,>=1.58.1->langchain_openai==0.3.2) (4.67.1)\r\n",
      "Requirement already satisfied: ptyprocess>=0.5 in ./venv/lib/python3.12/site-packages (from pexpect>4.3->ipython==8.31.0) (0.7.0)\r\n",
      "Requirement already satisfied: wcwidth in ./venv/lib/python3.12/site-packages (from prompt_toolkit<3.1.0,>=3.0.41->ipython==8.31.0) (0.2.13)\r\n",
      "Requirement already satisfied: annotated-types>=0.6.0 in ./venv/lib/python3.12/site-packages (from pydantic<3.0.0,>=2.7.4->langchain-core==0.3.32) (0.7.0)\r\n",
      "Requirement already satisfied: pydantic-core==2.27.2 in ./venv/lib/python3.12/site-packages (from pydantic<3.0.0,>=2.7.4->langchain-core==0.3.32) (2.27.2)\r\n",
      "Requirement already satisfied: charset-normalizer<4,>=2 in ./venv/lib/python3.12/site-packages (from requests<3,>=2->langchain-community==0.3.16) (3.4.1)\r\n",
      "Requirement already satisfied: urllib3<3,>=1.21.1 in ./venv/lib/python3.12/site-packages (from requests<3,>=2->langchain-community==0.3.16) (2.3.0)\r\n",
      "Requirement already satisfied: regex>=2022.1.18 in ./venv/lib/python3.12/site-packages (from tiktoken<1,>=0.7->langchain_openai==0.3.2) (2024.11.6)\r\n",
      "Requirement already satisfied: executing>=1.2.0 in ./venv/lib/python3.12/site-packages (from stack_data->ipython==8.31.0) (2.2.0)\r\n",
      "Requirement already satisfied: asttokens>=2.1.0 in ./venv/lib/python3.12/site-packages (from stack_data->ipython==8.31.0) (3.0.0)\r\n",
      "Requirement already satisfied: pure-eval in ./venv/lib/python3.12/site-packages (from stack_data->ipython==8.31.0) (0.2.3)\r\n",
      "Requirement already satisfied: mypy-extensions>=0.3.0 in ./venv/lib/python3.12/site-packages (from typing-inspect<1,>=0.4.0->dataclasses-json<0.7,>=0.5.7->langchain-community==0.3.16) (1.0.0)\r\n",
      "Note: you may need to restart the kernel to use updated packages.\n"
     ]
    }
   ],
   "execution_count": 20
  },
  {
   "metadata": {},
   "cell_type": "markdown",
   "source": "# Setup Environment",
   "id": "702385e8db24259"
  },
  {
   "metadata": {
    "ExecuteTime": {
     "end_time": "2025-02-06T05:03:56.722887Z",
     "start_time": "2025-02-06T05:03:56.622047Z"
    }
   },
   "cell_type": "code",
   "source": [
    "import os\n",
    "from langchain_openai import ChatOpenAI, OpenAIEmbeddings\n",
    "from langchain_postgres import PGVector\n",
    "\n",
    "os.environ['OPENAI_API_KEY'] = os.getenv('OPENAI_API_KEY')\n",
    "\n",
    "CONNECTION = os.getenv('CONNECTION')\n",
    "COLLECTION_NAME = os.getenv('COLLECTION_NAME')\n",
    "\n",
    "llm = ChatOpenAI(model='gpt-4o-mini')\n",
    "embeddings = OpenAIEmbeddings(model='text-embedding-3-small')\n",
    "\n",
    "vector_store = PGVector(\n",
    "    embeddings=embeddings,\n",
    "    collection_name=COLLECTION_NAME,\n",
    "    connection=CONNECTION,\n",
    "    use_jsonb=True,\n",
    ")"
   ],
   "id": "6645f71002103c07",
   "outputs": [],
   "execution_count": 28
  },
  {
   "metadata": {},
   "cell_type": "markdown",
   "source": "# Setup Schemas",
   "id": "2620438a883a16ef"
  },
  {
   "metadata": {
    "ExecuteTime": {
     "end_time": "2025-02-06T05:03:58.533655Z",
     "start_time": "2025-02-06T05:03:58.529488Z"
    }
   },
   "cell_type": "code",
   "source": [
    "import httpx\n",
    "from typing import Optional\n",
    "\n",
    "from pydantic import BaseModel, Field\n",
    "\n",
    "\n",
    "class APIToolSchema(BaseModel):\n",
    "    path: str = Field(default='', description='the api path')\n",
    "    query_params: Optional[dict] = Field(\n",
    "        default=None, description='Optional search parameters'\n",
    "    )\n",
    "\n",
    "\n",
    "class RAGToolSchema(BaseModel):\n",
    "    question: str = Field(default='', description='question to perform similarity search in vector store')"
   ],
   "id": "2e71db0e57b9ec53",
   "outputs": [],
   "execution_count": 29
  },
  {
   "metadata": {},
   "cell_type": "markdown",
   "source": "# Setup Tools",
   "id": "e16d38aafd57de76"
  },
  {
   "metadata": {
    "ExecuteTime": {
     "end_time": "2025-02-06T05:04:00.935431Z",
     "start_time": "2025-02-06T05:04:00.216410Z"
    }
   },
   "cell_type": "code",
   "source": [
    "from typing import Type\n",
    "from langchain_core.prompts import ChatPromptTemplate\n",
    "from langchain.tools import BaseTool\n",
    "from langchain.callbacks.manager import (\n",
    "    AsyncCallbackManagerForToolRun,\n",
    "    CallbackManagerForToolRun,\n",
    ")\n",
    "from pydantic_settings import BaseSettings\n",
    "from langchain_postgres import PGVector\n",
    "from langchain import hub\n",
    "\n",
    "\n",
    "class APITool(BaseTool, BaseSettings):\n",
    "    name: str = 'api_tool'\n",
    "    description: str = \"\"\"Tool that calls GET on <https://mlb-player-api-924437296962.us-central1.run.app/players> apis and get uptodate information about players.\"\"\"\n",
    "    args_schema: Type[APIToolSchema] = APIToolSchema\n",
    "    base_url: str = 'https://mlb-player-api-924437296962.us-central1.run.app/players'\n",
    "\n",
    "    def _run(\n",
    "            self,\n",
    "            path: str = \"\",\n",
    "            query_params: Optional[dict] = None,\n",
    "            run_manager: Optional[CallbackManagerForToolRun] = None,\n",
    "    ) -> dict:\n",
    "        \"\"\"Run the tool\"\"\"\n",
    "        result = httpx.Client().get(self.base_url)\n",
    "\n",
    "        print(result)\n",
    "        return result.json()\n",
    "\n",
    "    async def _arun(\n",
    "            self,\n",
    "            path: str = '',\n",
    "            query_params: Optional[dict] = None,\n",
    "            run_manager: Optional[AsyncCallbackManagerForToolRun] = None,\n",
    "    ) -> dict:\n",
    "        \"\"\"Run the tool asynchronously.\"\"\"\n",
    "\n",
    "        async with httpx.AsyncClient() as client:\n",
    "            result = await client.get(self.base_url)\n",
    "            return result.json()\n",
    "\n",
    "\n",
    "class RAGTool(BaseTool, BaseSettings):\n",
    "    name: str = 'rag_tool'\n",
    "    description: str = \"\"\"Tool that gets the most similar documents from the vector database.\"\"\"\n",
    "    args_schema: Type[RAGToolSchema] = RAGToolSchema\n",
    "    prompt: ChatPromptTemplate = hub.pull('rlm/rag-prompt')\n",
    "    vector_store: PGVector | None = None\n",
    "\n",
    "    def __init__(self, connection_string: str, collection_name: str):\n",
    "        super().__init__()\n",
    "        self.vector_store = PGVector(\n",
    "            embeddings=embeddings,\n",
    "            collection_name=collection_name,\n",
    "            connection=connection_string,\n",
    "            use_jsonb=True,\n",
    "        )\n",
    "\n",
    "    def _run(\n",
    "            self,\n",
    "            question: str,\n",
    "            run_manager: Optional[CallbackManagerForToolRun] = None,\n",
    "    ) -> dict:\n",
    "        \"\"\"Run the tool\"\"\"\n",
    "\n",
    "        retrieved_docs = self.vector_store.similarity_search(question)\n",
    "        docs_content = '\\n\\n'.join(doc.page_content for doc in retrieved_docs)\n",
    "        messages = self.prompt.invoke({'question': question, 'context': docs_content})\n",
    "        response = llm.invoke(messages)\n",
    "\n",
    "        return response.content\n",
    "\n",
    "    async def _arun(\n",
    "            self,\n",
    "            question: str,\n",
    "            run_manager: Optional[AsyncCallbackManagerForToolRun] = None,\n",
    "    ) -> dict:\n",
    "        \"\"\"Run the tool asynchronously.\"\"\"\n",
    "\n",
    "        retrieved_docs = self.vector_store.similarity_search(question)\n",
    "        docs_content = '\\n\\n'.join(doc.page_content for doc in retrieved_docs)\n",
    "        messages = self.prompt.invoke({'question': question, 'context': docs_content})\n",
    "        response = llm.invoke(messages)\n",
    "\n",
    "        return response.content\n",
    "\n",
    "\n",
    "api_tool = APITool()\n",
    "rag_tool = RAGTool(connection_string=CONNECTION, collection_name=COLLECTION_NAME)"
   ],
   "id": "657784e48d45c194",
   "outputs": [],
   "execution_count": 30
  },
  {
   "metadata": {},
   "cell_type": "markdown",
   "source": "# Testing Tools",
   "id": "e9222da5fcb921b4"
  },
  {
   "metadata": {
    "ExecuteTime": {
     "end_time": "2025-02-06T05:04:07.605445Z",
     "start_time": "2025-02-06T05:04:04.572973Z"
    }
   },
   "cell_type": "code",
   "source": [
    "rag_output = rag_tool.run({'question': 'ducks'})\n",
    "api_output = api_tool.run({'path': ''})\n",
    "print(api_output)\n",
    "print('\\n---\\n')\n",
    "print(rag_output)"
   ],
   "id": "fa36d9d9dd3b806c",
   "outputs": [
    {
     "name": "stdout",
     "output_type": "stream",
     "text": [
      "<Response [200 OK]>\n",
      "[{'id': 1, 'name': 'Juan Soto', 'age': 26, 'contract_start_date': '2024-12-11', 'contract_end_date': '2039-12-10', 'team': 'New York Mets', 'country': 'Dominican Republic', 'salary': '51 million per year'}, {'id': 2, 'name': 'Brent Rooker', 'age': 30, 'contract_start_date': '2025-01-07', 'contract_end_date': '2030-01-06', 'team': 'Oakland Athletics', 'country': 'United States', 'salary': '12 million per year'}, {'id': 3, 'name': 'Blake Snell', 'age': 32, 'contract_start_date': '2025-01-01', 'contract_end_date': '2029-12-31', 'team': 'Los Angeles Dodgers', 'country': 'United States', 'salary': '36.4 million per year'}, {'id': 4, 'name': 'Paul Goldschmidt', 'age': 37, 'contract_start_date': '2024-12-30', 'contract_end_date': '2025-12-29', 'team': 'New York Yankees', 'country': 'United States', 'salary': '12.5 million per year'}, {'id': 5, 'name': 'Reynaldo López', 'age': 31, 'contract_start_date': '2023-11-20', 'contract_end_date': '2026-11-19', 'team': 'Atlanta Braves', 'country': 'Dominican Republic', 'salary': '8 million in 2025, 14 million in 2026'}, {'id': 6, 'name': 'Max Fried', 'age': 30, 'contract_start_date': '2024-12-17', 'contract_end_date': '2032-12-16', 'team': 'New York Yankees', 'country': 'United States', 'salary': '27.25 million per year'}, {'id': 7, 'name': 'Teoscar Hernández', 'age': 32, 'contract_start_date': '2025-01-01', 'contract_end_date': '2028-12-31', 'team': 'Los Angeles Dodgers', 'country': 'Dominican Republic', 'salary': '22 million per year'}, {'id': 8, 'name': 'Luis Severino', 'age': 30, 'contract_start_date': '2025-01-01', 'contract_end_date': '2027-12-31', 'team': 'Oakland Athletics', 'country': 'Dominican Republic', 'salary': '22.33 million per year'}, {'id': 9, 'name': 'Sean Manaea', 'age': 32, 'contract_start_date': '2024-12-27', 'contract_end_date': '2027-12-26', 'team': 'New York Mets', 'country': 'United States', 'salary': '25 million per year'}, {'id': 10, 'name': 'Nathan Eovaldi', 'age': 34, 'contract_start_date': '2024-12-12', 'contract_end_date': '2027-12-11', 'team': 'Texas Rangers', 'country': 'United States', 'salary': '25 million per year'}]\n",
      "\n",
      "---\n",
      "\n",
      "Ducks are found in the pond.\n"
     ]
    }
   ],
   "execution_count": 31
  },
  {
   "metadata": {},
   "cell_type": "markdown",
   "source": "# Create Agents",
   "id": "5674d9930c84342a"
  },
  {
   "metadata": {
    "ExecuteTime": {
     "end_time": "2025-02-06T06:21:51.269543Z",
     "start_time": "2025-02-06T06:21:51.259186Z"
    }
   },
   "cell_type": "code",
   "source": [
    "from typing import Literal\n",
    "from typing_extensions import TypedDict\n",
    "from langgraph.graph import MessagesState, END\n",
    "from langgraph.types import Command\n",
    "from langchain_core.messages import HumanMessage\n",
    "from langgraph.prebuilt import create_react_agent\n",
    "\n",
    "members = ['sport_agent', 'place_agent']\n",
    "options = members + ['FINISH']\n",
    "system_prompt = (\n",
    "    'You are a supervisor tasked with managing a conversation between the'\n",
    "    f' following workers: {members}. Given the following user request,'\n",
    "    ' respond with the worker to act next. Each worker will perform a'\n",
    "    ' task and respond with their results and status. When finished,'\n",
    "    ' respond with FINISH.'\n",
    ")\n",
    "\n",
    "\n",
    "class Router(TypedDict):\n",
    "    \"\"\"Worker to route to next. If no workers needed, route to FINISH.\"\"\"\n",
    "\n",
    "    next: Literal[*options]\n",
    "\n",
    "\n",
    "class State(MessagesState):\n",
    "    next: str\n",
    "\n",
    "\n",
    "sport_agent = create_react_agent(\n",
    "    llm, tools=[api_tool], prompt='You are a sport agent. answer to questions about players, sports, teams.'\n",
    ")\n",
    "\n",
    "place_agent = create_react_agent(\n",
    "    llm, tools=[rag_tool], prompt='You are a place agent. answer to questions about places and animals.'\n",
    ")\n",
    "\n",
    "def supervisor_node(state: State) -> Command[Literal[*members, '__end__']]:\n",
    "    messages = [\n",
    "                   {'role': 'system', 'content': system_prompt},\n",
    "               ] + state['messages']\n",
    "    response = llm.with_structured_output(Router).invoke(messages)\n",
    "    goto = response['next']\n",
    "    if goto == 'FINISH':\n",
    "        goto = END\n",
    "\n",
    "    return Command(goto=goto, update={'next': goto})\n",
    "\n",
    "\n",
    "\n",
    "def sport_node(state: State) -> Command[Literal['supervisor']]:\n",
    "    result = sport_agent.invoke(state)\n",
    "    return Command(\n",
    "        update={\n",
    "            'messages': [\n",
    "                HumanMessage(content=result['messages'][-1].content, name='sport_agent')\n",
    "            ]\n",
    "        },\n",
    "        goto='supervisor',\n",
    "    )\n",
    "\n",
    "\n",
    "def place_node(state: State) -> Command[Literal['supervisor']]:\n",
    "    result = place_agent.invoke(state)\n",
    "    return Command(\n",
    "        update={\n",
    "            'messages': [\n",
    "                HumanMessage(content=result['messages'][-1].content, name='place_agent')\n",
    "            ]\n",
    "        },\n",
    "        goto='supervisor',\n",
    "    )"
   ],
   "id": "eb125dece3a7dd15",
   "outputs": [],
   "execution_count": 37
  },
  {
   "metadata": {},
   "cell_type": "markdown",
   "source": "# Build Graph",
   "id": "7cda8433edc04cf2"
  },
  {
   "metadata": {
    "ExecuteTime": {
     "end_time": "2025-02-06T06:21:55.775236Z",
     "start_time": "2025-02-06T06:21:55.771832Z"
    }
   },
   "cell_type": "code",
   "source": [
    "from langgraph.constants import START\n",
    "from langgraph.graph import StateGraph\n",
    "\n",
    "builder = StateGraph(State)\n",
    "builder.add_edge(START, 'supervisor')\n",
    "builder.add_node('supervisor', supervisor_node)\n",
    "builder.add_node('sport_agent', sport_node)\n",
    "builder.add_node('place_agent', place_node)\n",
    "graph = builder.compile()"
   ],
   "id": "77538c12d2dd0132",
   "outputs": [],
   "execution_count": 38
  },
  {
   "metadata": {},
   "cell_type": "markdown",
   "source": "# Graph",
   "id": "fd33f7dfd177a518"
  },
  {
   "metadata": {
    "ExecuteTime": {
     "end_time": "2025-02-06T06:21:59.266623Z",
     "start_time": "2025-02-06T06:21:58.066615Z"
    }
   },
   "cell_type": "code",
   "source": [
    "from IPython.display import display, Image\n",
    "\n",
    "display(Image(graph.get_graph().draw_mermaid_png()))"
   ],
   "id": "c21d6bad65afc3f8",
   "outputs": [
    {
     "data": {
      "image/png": "[encoded data removed]",
      "text/plain": [
       "<IPython.core.display.Image object>"
      ]
     },
     "metadata": {},
     "output_type": "display_data"
    }
   ],
   "execution_count": 39
  },
  {
   "metadata": {},
   "cell_type": "markdown",
   "source": "# Testing Agents",
   "id": "e68c48c81a623489"
  },
  {
   "metadata": {
    "ExecuteTime": {
     "end_time": "2025-02-06T06:26:03.985152Z",
     "start_time": "2025-02-06T06:25:53.385995Z"
    }
   },
   "cell_type": "code",
   "source": [
    "for s in graph.stream(\n",
    "        {'messages': [\n",
    "            ('user', \"What's the age of Sean Manaea?\"),\n",
    "        ]}, subgraphs=True\n",
    "):\n",
    "    print(s)\n",
    "    print(\"----\")\n",
    "\n",
    "print('\\n==============================\\n')\n",
    "\n",
    "for s in graph.stream(\n",
    "        {'messages': [\n",
    "            ('user', \"where I can get fresh apples?\")\n",
    "        ]}, subgraphs=True\n",
    "):\n",
    "    print(s)\n",
    "    print(\"----\")"
   ],
   "id": "8f9c44c06d4d52b5",
   "outputs": [
    {
     "name": "stdout",
     "output_type": "stream",
     "text": [
      "((), {'supervisor': {'next': 'sport_agent'}})\n",
      "----\n",
      "(('sport_agent:a60d7356-e3c5-b81d-2e0b-7368be9fac27',), {'agent': {'messages': [AIMessage(content='', additional_kwargs={'tool_calls': [{'id': 'call_tMgg8jASnfT8N51KDCetJ8Am', 'function': {'arguments': '{}', 'name': 'api_tool'}, 'type': 'function'}], 'refusal': None}, response_metadata={'token_usage': {'completion_tokens': 11, 'prompt_tokens': 121, 'total_tokens': 132, 'completion_tokens_details': {'accepted_prediction_tokens': 0, 'audio_tokens': 0, 'reasoning_tokens': 0, 'rejected_prediction_tokens': 0}, 'prompt_tokens_details': {'audio_tokens': 0, 'cached_tokens': 0}}, 'model_name': 'gpt-4o-mini-2024-07-18', 'system_fingerprint': 'fp_72ed7ab54c', 'finish_reason': 'tool_calls', 'logprobs': None}, id='run-6adafee5-ef18-48fc-a2a0-2860e1552037-0', tool_calls=[{'name': 'api_tool', 'args': {}, 'id': 'call_tMgg8jASnfT8N51KDCetJ8Am', 'type': 'tool_call'}], usage_metadata={'input_tokens': 121, 'output_tokens': 11, 'total_tokens': 132, 'input_token_details': {'audio': 0, 'cache_read': 0}, 'output_token_details': {'audio': 0, 'reasoning': 0}})]}})\n",
      "----\n",
      "<Response [200 OK]>\n",
      "(('sport_agent:a60d7356-e3c5-b81d-2e0b-7368be9fac27',), {'tools': {'messages': [ToolMessage(content='[{\"id\": 1, \"name\": \"Juan Soto\", \"age\": 26, \"contract_start_date\": \"2024-12-11\", \"contract_end_date\": \"2039-12-10\", \"team\": \"New York Mets\", \"country\": \"Dominican Republic\", \"salary\": \"51 million per year\"}, {\"id\": 2, \"name\": \"Brent Rooker\", \"age\": 30, \"contract_start_date\": \"2025-01-07\", \"contract_end_date\": \"2030-01-06\", \"team\": \"Oakland Athletics\", \"country\": \"United States\", \"salary\": \"12 million per year\"}, {\"id\": 3, \"name\": \"Blake Snell\", \"age\": 32, \"contract_start_date\": \"2025-01-01\", \"contract_end_date\": \"2029-12-31\", \"team\": \"Los Angeles Dodgers\", \"country\": \"United States\", \"salary\": \"36.4 million per year\"}, {\"id\": 4, \"name\": \"Paul Goldschmidt\", \"age\": 37, \"contract_start_date\": \"2024-12-30\", \"contract_end_date\": \"2025-12-29\", \"team\": \"New York Yankees\", \"country\": \"United States\", \"salary\": \"12.5 million per year\"}, {\"id\": 5, \"name\": \"Reynaldo López\", \"age\": 31, \"contract_start_date\": \"2023-11-20\", \"contract_end_date\": \"2026-11-19\", \"team\": \"Atlanta Braves\", \"country\": \"Dominican Republic\", \"salary\": \"8 million in 2025, 14 million in 2026\"}, {\"id\": 6, \"name\": \"Max Fried\", \"age\": 30, \"contract_start_date\": \"2024-12-17\", \"contract_end_date\": \"2032-12-16\", \"team\": \"New York Yankees\", \"country\": \"United States\", \"salary\": \"27.25 million per year\"}, {\"id\": 7, \"name\": \"Teoscar Hernández\", \"age\": 32, \"contract_start_date\": \"2025-01-01\", \"contract_end_date\": \"2028-12-31\", \"team\": \"Los Angeles Dodgers\", \"country\": \"Dominican Republic\", \"salary\": \"22 million per year\"}, {\"id\": 8, \"name\": \"Luis Severino\", \"age\": 30, \"contract_start_date\": \"2025-01-01\", \"contract_end_date\": \"2027-12-31\", \"team\": \"Oakland Athletics\", \"country\": \"Dominican Republic\", \"salary\": \"22.33 million per year\"}, {\"id\": 9, \"name\": \"Sean Manaea\", \"age\": 32, \"contract_start_date\": \"2024-12-27\", \"contract_end_date\": \"2027-12-26\", \"team\": \"New York Mets\", \"country\": \"United States\", \"salary\": \"25 million per year\"}, {\"id\": 10, \"name\": \"Nathan Eovaldi\", \"age\": 34, \"contract_start_date\": \"2024-12-12\", \"contract_end_date\": \"2027-12-11\", \"team\": \"Texas Rangers\", \"country\": \"United States\", \"salary\": \"25 million per year\"}]', name='api_tool', id='044c896c-57fd-428c-8ce7-2175e43504d6', tool_call_id='call_tMgg8jASnfT8N51KDCetJ8Am')]}})\n",
      "----\n",
      "(('sport_agent:a60d7356-e3c5-b81d-2e0b-7368be9fac27',), {'agent': {'messages': [AIMessage(content='Sean Manaea is currently 32 years old.', additional_kwargs={'refusal': None}, response_metadata={'token_usage': {'completion_tokens': 12, 'prompt_tokens': 865, 'total_tokens': 877, 'completion_tokens_details': {'accepted_prediction_tokens': 0, 'audio_tokens': 0, 'reasoning_tokens': 0, 'rejected_prediction_tokens': 0}, 'prompt_tokens_details': {'audio_tokens': 0, 'cached_tokens': 0}}, 'model_name': 'gpt-4o-mini-2024-07-18', 'system_fingerprint': 'fp_72ed7ab54c', 'finish_reason': 'stop', 'logprobs': None}, id='run-4ab56cf7-76f6-49eb-991c-25346df2cd28-0', usage_metadata={'input_tokens': 865, 'output_tokens': 12, 'total_tokens': 877, 'input_token_details': {'audio': 0, 'cache_read': 0}, 'output_token_details': {'audio': 0, 'reasoning': 0}})]}})\n",
      "----\n",
      "((), {'sport_agent': {'messages': [HumanMessage(content='Sean Manaea is currently 32 years old.', additional_kwargs={}, response_metadata={}, name='sport_agent')]}})\n",
      "----\n",
      "((), {'supervisor': {'next': '__end__'}})\n",
      "----\n",
      "\n",
      "==============================\n",
      "\n",
      "((), {'supervisor': {'next': 'place_agent'}})\n",
      "----\n",
      "(('place_agent:02d7d184-a226-f68e-2f92-6b6aa18c4f47',), {'agent': {'messages': [AIMessage(content='', additional_kwargs={'tool_calls': [{'id': 'call_vJmfkHSn2PmVdAIogspJKvGy', 'function': {'arguments': '{\"question\":\"where to buy fresh apples\"}', 'name': 'rag_tool'}, 'type': 'function'}], 'refusal': None}, response_metadata={'token_usage': {'completion_tokens': 20, 'prompt_tokens': 84, 'total_tokens': 104, 'completion_tokens_details': {'accepted_prediction_tokens': 0, 'audio_tokens': 0, 'reasoning_tokens': 0, 'rejected_prediction_tokens': 0}, 'prompt_tokens_details': {'audio_tokens': 0, 'cached_tokens': 0}}, 'model_name': 'gpt-4o-mini-2024-07-18', 'system_fingerprint': 'fp_72ed7ab54c', 'finish_reason': 'tool_calls', 'logprobs': None}, id='run-547a392a-265a-41b9-a100-013e07a7cd54-0', tool_calls=[{'name': 'rag_tool', 'args': {'question': 'where to buy fresh apples'}, 'id': 'call_vJmfkHSn2PmVdAIogspJKvGy', 'type': 'tool_call'}], usage_metadata={'input_tokens': 84, 'output_tokens': 20, 'total_tokens': 104, 'input_token_details': {'audio': 0, 'cache_read': 0}, 'output_token_details': {'audio': 0, 'reasoning': 0}})]}})\n",
      "----\n",
      "(('place_agent:02d7d184-a226-f68e-2f92-6b6aa18c4f47',), {'tools': {'messages': [ToolMessage(content='You can buy fresh apples at the market. The market also sells fresh oranges.', name='rag_tool', id='1b304d8a-9b71-4ee5-acc5-e231712e2194', tool_call_id='call_vJmfkHSn2PmVdAIogspJKvGy')]}})\n",
      "----\n",
      "(('place_agent:02d7d184-a226-f68e-2f92-6b6aa18c4f47',), {'agent': {'messages': [AIMessage(content='You can get fresh apples at the market, where they typically sell various fruits, including fresh oranges.', additional_kwargs={'refusal': None}, response_metadata={'token_usage': {'completion_tokens': 22, 'prompt_tokens': 127, 'total_tokens': 149, 'completion_tokens_details': {'accepted_prediction_tokens': 0, 'audio_tokens': 0, 'reasoning_tokens': 0, 'rejected_prediction_tokens': 0}, 'prompt_tokens_details': {'audio_tokens': 0, 'cached_tokens': 0}}, 'model_name': 'gpt-4o-mini-2024-07-18', 'system_fingerprint': 'fp_bd83329f63', 'finish_reason': 'stop', 'logprobs': None}, id='run-ea5803f7-6de3-4185-bca0-956ddfc8d5d6-0', usage_metadata={'input_tokens': 127, 'output_tokens': 22, 'total_tokens': 149, 'input_token_details': {'audio': 0, 'cache_read': 0}, 'output_token_details': {'audio': 0, 'reasoning': 0}})]}})\n",
      "----\n",
      "((), {'place_agent': {'messages': [HumanMessage(content='You can get fresh apples at the market, where they typically sell various fruits, including fresh oranges.', additional_kwargs={}, response_metadata={}, name='place_agent')]}})\n",
      "----\n",
      "((), {'supervisor': {'next': 'sport_agent'}})\n",
      "----\n",
      "(('sport_agent:51d851f0-faf2-b93f-6740-54d98fc99fe7',), {'agent': {'messages': [AIMessage(content=\"You can get fresh apples at local grocery stores, farmers' markets, or fruit stands. If you're looking for organic options, check out health food stores or specialty grocery stores. Additionally, you might find fresh apples at orchards if you're near one during the apple-picking season.\", additional_kwargs={'refusal': None}, response_metadata={'token_usage': {'completion_tokens': 58, 'prompt_tokens': 147, 'total_tokens': 205, 'completion_tokens_details': {'accepted_prediction_tokens': 0, 'audio_tokens': 0, 'reasoning_tokens': 0, 'rejected_prediction_tokens': 0}, 'prompt_tokens_details': {'audio_tokens': 0, 'cached_tokens': 0}}, 'model_name': 'gpt-4o-mini-2024-07-18', 'system_fingerprint': 'fp_72ed7ab54c', 'finish_reason': 'stop', 'logprobs': None}, id='run-0e50cf49-d844-418b-b4f7-6cfe5a287959-0', usage_metadata={'input_tokens': 147, 'output_tokens': 58, 'total_tokens': 205, 'input_token_details': {'audio': 0, 'cache_read': 0}, 'output_token_details': {'audio': 0, 'reasoning': 0}})]}})\n",
      "----\n",
      "((), {'sport_agent': {'messages': [HumanMessage(content=\"You can get fresh apples at local grocery stores, farmers' markets, or fruit stands. If you're looking for organic options, check out health food stores or specialty grocery stores. Additionally, you might find fresh apples at orchards if you're near one during the apple-picking season.\", additional_kwargs={}, response_metadata={}, name='sport_agent')]}})\n",
      "----\n",
      "((), {'supervisor': {'next': '__end__'}})\n",
      "----\n"
     ]
    }
   ],
   "execution_count": 44
  }
 ],
 "metadata": {
  "kernelspec": {
   "display_name": "Python 3",
   "language": "python",
   "name": "python3"
  },
  "language_info": {
   "codemirror_mode": {
    "name": "ipython",
    "version": 2
   },
   "file_extension": ".py",
   "mimetype": "text/x-python",
   "name": "python",
   "nbconvert_exporter": "python",
   "pygments_lexer": "ipython2",
   "version": "2.7.6"
  }
 },
 "nbformat": 4,
 "nbformat_minor": 5
}
