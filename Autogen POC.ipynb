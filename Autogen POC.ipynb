{
 "cells": [
  {
   "metadata": {},
   "cell_type": "markdown",
   "source": "# Install dependencies",
   "id": "b7240a6e7919ea17"
  },
  {
   "cell_type": "code",
   "id": "initial_id",
   "metadata": {
    "collapsed": true,
    "ExecuteTime": {
     "end_time": "2025-02-19T06:59:03.370761Z",
     "start_time": "2025-02-19T06:59:03.246988Z"
    }
   },
   "source": "%pip install autogen-ext[openai]==0.4.6 autogen[graphs]==0.7.4 matplotlib==3.10.0 autogen-agentchat[graph]==0.4.6 networkx==3.4.2 httpx==0.28.1",
   "outputs": [
    {
     "name": "stdout",
     "output_type": "stream",
     "text": [
      "zsh:1: no matches found: autogen-ext[openai]==0.4.6\r\n",
      "Note: you may need to restart the kernel to use updated packages.\n"
     ]
    }
   ],
   "execution_count": 1
  },
  {
   "metadata": {},
   "cell_type": "markdown",
   "source": "# Setup Environment",
   "id": "d51b15bb8482bb9a"
  },
  {
   "metadata": {
    "ExecuteTime": {
     "end_time": "2025-02-19T06:59:04.302456Z",
     "start_time": "2025-02-19T06:59:04.300354Z"
    }
   },
   "cell_type": "code",
   "source": [
    "import os\n",
    "\n",
    "os.environ['OPENAI_API_KEY'] = os.getenv('OPENAI_API_KEY')\n",
    "\n",
    "config_list = [{'model': 'gpt-4o-mini', 'api_key': os.environ['OPENAI_API_KEY']}]\n",
    "llm_config = {'config_list': config_list, 'cache_seed': 45}"
   ],
   "id": "25aad18f2cf4fc37",
   "outputs": [],
   "execution_count": 2
  },
  {
   "metadata": {},
   "cell_type": "markdown",
   "source": "# Setup Agents",
   "id": "974a08bcadebf126"
  },
  {
   "metadata": {
    "ExecuteTime": {
     "end_time": "2025-02-19T07:01:31.686788Z",
     "start_time": "2025-02-19T07:01:29.491660Z"
    }
   },
   "cell_type": "code",
   "source": [
    "import json\n",
    "import autogen\n",
    "from autogen.agentchat.contrib.gpt_assistant_agent import GPTAssistantAgent\n",
    "import httpx\n",
    "from autogen.function_utils import get_function_schema\n",
    "\n",
    "\n",
    "def get_players() -> str:\n",
    "    result = httpx.Client().get('http://localhost:8081/players')\n",
    "    return json.dumps(result.json())\n",
    "\n",
    "\n",
    "def get_landmarks() -> str:\n",
    "    result = httpx.Client().get('http://localhost:8081/landmarks')\n",
    "    return json.dumps(result.json())\n",
    "\n",
    "\n",
    "def get_trains() -> str:\n",
    "    result = httpx.Client().get('http://localhost:8081/trains')\n",
    "    return json.dumps(result.json())\n",
    "\n",
    "\n",
    "player_schema = get_function_schema(\n",
    "    get_players,\n",
    "    name=get_players.__name__,\n",
    "    description='Returns real-time data of all players, Team, Country, Salary, etc.',\n",
    ")\n",
    "\n",
    "landmark_schema = get_function_schema(\n",
    "    get_landmarks,\n",
    "    name=get_landmarks.__name__,\n",
    "    description='Returns real-time data of all landmarks places etc.',\n",
    ")\n",
    "\n",
    "train_schema = get_function_schema(\n",
    "    get_trains,\n",
    "    name=get_trains.__name__,\n",
    "    description='Returns real-time data of all train locomotives classified from Class M1 - M11',\n",
    ")\n",
    "\n",
    "sport_agent_config = {\n",
    "    'tools': [\n",
    "        player_schema\n",
    "    ],\n",
    "    'use_tool_output': True\n",
    "}\n",
    "\n",
    "landmark_agent_config = {\n",
    "    'tools': [\n",
    "        landmark_schema\n",
    "    ],\n",
    "    'use_tool_output': True\n",
    "}\n",
    "\n",
    "train_agent_config = {\n",
    "    'tools': [\n",
    "        train_schema\n",
    "    ],\n",
    "    'use_tool_output': True\n",
    "}\n",
    "\n",
    "sport_agent = GPTAssistantAgent(\n",
    "    name='sport_agent',\n",
    "    instructions='I\\'m an sport agent having ability to fetch real time data about people, players, teams, countries, salary, etc.',\n",
    "    llm_config=llm_config,\n",
    "    assistant_config=sport_agent_config,\n",
    ")\n",
    "\n",
    "landmark_agent = GPTAssistantAgent(\n",
    "    name='landmark_agent',\n",
    "    instructions='I\\'m an landmark agent having ability to fetch real time data about places, landmarks.',\n",
    "    llm_config=llm_config,\n",
    "    assistant_config=landmark_agent_config,\n",
    ")\n",
    "\n",
    "train_agent = GPTAssistantAgent(\n",
    "    name='train_agent',\n",
    "    instructions='I\\'m an train agent having ability to fetch real time data about locomotives Classified from Class M1 - M11',\n",
    "    llm_config=llm_config,\n",
    "    assistant_config=train_agent_config,\n",
    ")\n",
    "\n",
    "supervisor = autogen.UserProxyAgent(\n",
    "    name='Supervisor',\n",
    "    system_message=f'''\n",
    "    You are a supervisor tasked with You are a supervisor tasked with managing a conversation between the\n",
    "    following workers: [sport_agent, place_agent, train_agent]. respond with the worker to act next. Each worker will perform a\n",
    "    task and respond with their results and status. When finished, respond with FINISH.\n",
    "    - If the question is about sports, players, or teams, route to `sport_agent`.\n",
    "    - If the question is about places or landmarks, route to `place_agent`.\n",
    "    - If the question is about trains, locomotives, or railway engines, route to `train_agent`.\n",
    "    - If none of these apply, route to `FINISH`.\n",
    "    ''',\n",
    "    human_input_mode='NEVER',\n",
    "    is_termination_msg=lambda x: x.get('content', '') and x.get('content', '').rstrip().endswith('TERMINATE'),\n",
    ")\n",
    "\n",
    "sport_agent.register_function({\n",
    "    'get_players': get_players,\n",
    "})\n",
    "\n",
    "landmark_agent.register_function({\n",
    "    'get_landmarks': get_landmarks,\n",
    "})\n",
    "\n",
    "train_agent.register_function({\n",
    "    'get_trains': get_trains,\n",
    "})"
   ],
   "id": "322f31419029ec23",
   "outputs": [
    {
     "name": "stderr",
     "output_type": "stream",
     "text": [
      "OpenAI client config of GPTAssistantAgent(sport_agent) - model: gpt-4o-mini\n",
      "instructions not match, skip assistant(asst_y6JH3G2KvSj7GSfrhqTQHryJ): I'm an sport agent having ability to fetch real time data about players, teams, countries, salary, etc.\n",
      "Matching assistant found, using the first matching assistant: {'id': 'asst_j865oWWYK82tmuHq2OzwH1TA', 'created_at': 1739882360, 'description': None, 'instructions': \"I'm an sport agent having ability to fetch real time data about people, players, teams, countries, salary, etc.\", 'metadata': {}, 'model': 'gpt-4o-mini', 'name': 'sport_agent', 'object': 'assistant', 'tools': [FunctionTool(function=FunctionDefinition(name='get_players', description='Returns real-time data of all players, Team, Country, Salary, etc.', parameters={'type': 'object', 'properties': {}, 'required': []}, strict=False), type='function')], 'response_format': 'auto', 'temperature': 1.0, 'tool_resources': ToolResources(code_interpreter=None, file_search=None), 'top_p': 1.0}\n",
      "OpenAI client config of GPTAssistantAgent(landmark_agent) - model: gpt-4o-mini\n",
      "Matching assistant found, using the first matching assistant: {'id': 'asst_5mRkLXfiGiErddDWFADlGdiH', 'created_at': 1739864000, 'description': None, 'instructions': \"I'm an landmark agent having ability to fetch real time data about places, landmarks.\", 'metadata': {}, 'model': 'gpt-4o-mini', 'name': 'landmark_agent', 'object': 'assistant', 'tools': [FunctionTool(function=FunctionDefinition(name='get_landmarks', description='Returns real-time data of all landmarks', parameters={'type': 'object', 'properties': {}, 'required': []}, strict=False), type='function')], 'response_format': 'auto', 'temperature': 1.0, 'tool_resources': ToolResources(code_interpreter=None, file_search=None), 'top_p': 1.0}\n",
      "OpenAI client config of GPTAssistantAgent(train_agent) - model: gpt-4o-mini\n",
      "Matching assistant found, using the first matching assistant: {'id': 'asst_jTr8grVxzE8NSPCAQWNC4veS', 'created_at': 1739891928, 'description': None, 'instructions': \"I'm an train agent having ability to fetch real time data about locomotives Classified from Class M1 - M11\", 'metadata': {}, 'model': 'gpt-4o-mini', 'name': 'train_agent', 'object': 'assistant', 'tools': [FunctionTool(function=FunctionDefinition(name='get_trains', description='Returns real-time data of all train locomotives classified from Class M1 - M11', parameters={'type': 'object', 'properties': {}, 'required': []}, strict=False), type='function')], 'response_format': 'auto', 'temperature': 1.0, 'tool_resources': ToolResources(code_interpreter=None, file_search=None), 'top_p': 1.0}\n"
     ]
    }
   ],
   "execution_count": 10
  },
  {
   "metadata": {},
   "cell_type": "markdown",
   "source": "# Create Graph",
   "id": "a741bccf01680910"
  },
  {
   "metadata": {
    "ExecuteTime": {
     "end_time": "2025-02-19T06:59:12.929739Z",
     "start_time": "2025-02-19T06:59:12.591274Z"
    }
   },
   "cell_type": "code",
   "source": [
    "from autogen.graph_utils import visualize_speaker_transitions_dict\n",
    "\n",
    "chat_agents = [supervisor, sport_agent, landmark_agent, train_agent]\n",
    "allowed_speaker_dict = {supervisor: [sport_agent, landmark_agent, train_agent]}\n",
    "\n",
    "visualize_speaker_transitions_dict(allowed_speaker_dict, chat_agents)"
   ],
   "id": "dd1c50d5cc55d94c",
   "outputs": [
    {
     "data": {
      "text/plain": [
       "<Figure size 640x480 with 1 Axes>"
      ],
      "image/png": "[encoded data removed]"
     },
     "metadata": {},
     "output_type": "display_data"
    }
   ],
   "execution_count": 4
  },
  {
   "metadata": {},
   "cell_type": "markdown",
   "source": "# Create Group Chat",
   "id": "686edc18e43caf34"
  },
  {
   "metadata": {
    "ExecuteTime": {
     "end_time": "2025-02-19T07:01:36.519416Z",
     "start_time": "2025-02-19T07:01:36.498903Z"
    }
   },
   "cell_type": "code",
   "source": [
    "from autogen import GroupChat, GroupChatManager\n",
    "\n",
    "group_chat = GroupChat(agents=chat_agents, messages=[], max_round=25, allowed_or_disallowed_speaker_transitions=allowed_speaker_dict, allow_repeat_speaker=None,\n",
    "                       speaker_transitions_type='allowed')\n",
    "\n",
    "chat_manager = GroupChatManager(\n",
    "    groupchat=group_chat,\n",
    "    llm_config=llm_config,\n",
    "    is_termination_msg=lambda x: x.get('content', '') and x.get('content', '').rstrip().endswith('TERMINATE'),\n",
    "    code_execution_config=False,\n",
    ")"
   ],
   "id": "e81590dcdfc1eb7a",
   "outputs": [],
   "execution_count": 11
  },
  {
   "metadata": {},
   "cell_type": "markdown",
   "source": "# Test",
   "id": "1c9b5083e982c875"
  },
  {
   "metadata": {
    "ExecuteTime": {
     "end_time": "2025-02-19T07:01:50.108Z",
     "start_time": "2025-02-19T07:01:38.656697Z"
    }
   },
   "cell_type": "code",
   "source": [
    "supervisor.initiate_chat(\n",
    "    chat_manager,\n",
    "    message='What\\'s the age of Sean Manaea?',\n",
    ")"
   ],
   "id": "e0730ef7859b2237",
   "outputs": [
    {
     "name": "stdout",
     "output_type": "stream",
     "text": [
      "\u001B[33mSupervisor\u001B[0m (to chat_manager):\n",
      "\n",
      "What's the age of Sean Manaea?\n",
      "\n",
      "--------------------------------------------------------------------------------\n",
      "\u001B[32m\n",
      "Next speaker: sport_agent\n",
      "\u001B[0m\n",
      "\u001B[35m\n",
      ">>>>>>>> EXECUTING FUNCTION get_players...\n",
      "Call ID: call_kn88sYfNP5npLEwArlXsbVRs\n",
      "Input arguments: {}\u001B[0m\n",
      "\u001B[33msport_agent\u001B[0m (to chat_manager):\n",
      "\n",
      "Sean Manaea is 32 years old.\n",
      "\n",
      "\n",
      "--------------------------------------------------------------------------------\n"
     ]
    },
    {
     "data": {
      "text/plain": [
       "ChatResult(chat_id=None, chat_history=[{'content': \"What's the age of Sean Manaea?\", 'role': 'assistant', 'name': 'Supervisor'}], summary=\"What's the age of Sean Manaea?\", cost={'usage_including_cached_inference': {'total_cost': 0}, 'usage_excluding_cached_inference': {'total_cost': 0}}, human_input=[])"
      ]
     },
     "execution_count": 12,
     "metadata": {},
     "output_type": "execute_result"
    }
   ],
   "execution_count": 12
  },
  {
   "metadata": {
    "ExecuteTime": {
     "end_time": "2025-02-19T07:02:03.810386Z",
     "start_time": "2025-02-19T07:01:56.502849Z"
    }
   },
   "cell_type": "code",
   "source": [
    "supervisor.initiate_chat(\n",
    "    chat_manager,\n",
    "    message='What\\'s the completion year of Pyramids of Giza',\n",
    ")"
   ],
   "id": "739d5755777c7944",
   "outputs": [
    {
     "name": "stdout",
     "output_type": "stream",
     "text": [
      "\u001B[33mSupervisor\u001B[0m (to chat_manager):\n",
      "\n",
      "What's the completion year of Pyramids of Giza\n",
      "\n",
      "--------------------------------------------------------------------------------\n",
      "\u001B[32m\n",
      "Next speaker: landmark_agent\n",
      "\u001B[0m\n",
      "\u001B[33mlandmark_agent\u001B[0m (to chat_manager):\n",
      "\n",
      "The Pyramids of Giza were completed around 2560 BC. The Great Pyramid of Giza, also known as the Pyramid of Khufu, is the largest of the three and is estimated to have taken about 20 years to build, finished during the reign of Khufu (Cheops).\n",
      "\n",
      "\n",
      "--------------------------------------------------------------------------------\n"
     ]
    },
    {
     "data": {
      "text/plain": [
       "ChatResult(chat_id=None, chat_history=[{'content': \"What's the completion year of Pyramids of Giza\", 'role': 'assistant', 'name': 'Supervisor'}], summary=\"What's the completion year of Pyramids of Giza\", cost={'usage_including_cached_inference': {'total_cost': 0}, 'usage_excluding_cached_inference': {'total_cost': 0}}, human_input=[])"
      ]
     },
     "execution_count": 13,
     "metadata": {},
     "output_type": "execute_result"
    }
   ],
   "execution_count": 13
  },
  {
   "metadata": {
    "ExecuteTime": {
     "end_time": "2025-02-19T07:02:18.757680Z",
     "start_time": "2025-02-19T07:02:06.742259Z"
    }
   },
   "cell_type": "code",
   "source": [
    "supervisor.initiate_chat(\n",
    "    chat_manager,\n",
    "    message='What\\'s the the engine used in M9?',\n",
    ")"
   ],
   "id": "345fba8735a3c1d0",
   "outputs": [
    {
     "name": "stdout",
     "output_type": "stream",
     "text": [
      "\u001B[33mSupervisor\u001B[0m (to chat_manager):\n",
      "\n",
      "What's the the engine used in M9?\n",
      "\n",
      "--------------------------------------------------------------------------------\n",
      "\u001B[32m\n",
      "Next speaker: train_agent\n",
      "\u001B[0m\n",
      "\u001B[35m\n",
      ">>>>>>>> EXECUTING FUNCTION get_trains...\n",
      "Call ID: call_SD6NilYl9lVIoOeRSXXVO1lS\n",
      "Input arguments: {}\u001B[0m\n",
      "\u001B[33mtrain_agent\u001B[0m (to chat_manager):\n",
      "\n",
      "The engine used in the M9 locomotive is the **AD32C**, manufactured by **Alstom** in **France**. The M9 was introduced in the year **2000** and has an axle arrangement of **Co-Co** with a maximum power output of **1800 hp**.\n",
      "\n",
      "\n",
      "--------------------------------------------------------------------------------\n"
     ]
    },
    {
     "data": {
      "text/plain": [
       "ChatResult(chat_id=None, chat_history=[{'content': \"What's the the engine used in M9?\", 'role': 'assistant', 'name': 'Supervisor'}], summary=\"What's the the engine used in M9?\", cost={'usage_including_cached_inference': {'total_cost': 0}, 'usage_excluding_cached_inference': {'total_cost': 0}}, human_input=[])"
      ]
     },
     "execution_count": 14,
     "metadata": {},
     "output_type": "execute_result"
    }
   ],
   "execution_count": 14
  }
 ],
 "metadata": {
  "kernelspec": {
   "display_name": "Python 3",
   "language": "python",
   "name": "python3"
  },
  "language_info": {
   "codemirror_mode": {
    "name": "ipython",
    "version": 2
   },
   "file_extension": ".py",
   "mimetype": "text/x-python",
   "name": "python",
   "nbconvert_exporter": "python",
   "pygments_lexer": "ipython2",
   "version": "2.7.6"
  }
 },
 "nbformat": 4,
 "nbformat_minor": 5
}
