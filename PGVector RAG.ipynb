{
 "cells": [
  {
   "metadata": {},
   "cell_type": "markdown",
   "source": "# Install Dependencies",
   "id": "42042e8ab0f7e1c9"
  },
  {
   "cell_type": "code",
   "id": "initial_id",
   "metadata": {
    "collapsed": true,
    "ExecuteTime": {
     "end_time": "2025-01-29T10:26:13.241435Z",
     "start_time": "2025-01-29T10:26:11.517611Z"
    }
   },
   "source": "%pip install langchain-text-splitters==0.3.5 langchain==0.3.16 langchain_openai==0.3.2 langgraph==0.2.68 langchain-community==0.3.16 langchain-experimental==0.3.4 langchain-core==0.3.32 langchain-postgres==0.0.12 ipython==8.31.0",
   "outputs": [
    {
     "name": "stdout",
     "output_type": "stream",
     "text": [
      "Requirement already satisfied: langchain-text-splitters==0.3.5 in ./venv/lib/python3.12/site-packages (0.3.5)\r\n",
      "Requirement already satisfied: langchain==0.3.16 in ./venv/lib/python3.12/site-packages (0.3.16)\r\n",
      "Requirement already satisfied: langchain_openai==0.3.2 in ./venv/lib/python3.12/site-packages (0.3.2)\r\n",
      "Requirement already satisfied: langgraph==0.2.68 in ./venv/lib/python3.12/site-packages (0.2.68)\r\n",
      "Requirement already satisfied: langchain-community==0.3.16 in ./venv/lib/python3.12/site-packages (0.3.16)\r\n",
      "Requirement already satisfied: langchain-experimental==0.3.4 in ./venv/lib/python3.12/site-packages (0.3.4)\r\n",
      "Requirement already satisfied: langchain-core==0.3.32 in ./venv/lib/python3.12/site-packages (0.3.32)\r\n",
      "Requirement already satisfied: langchain-postgres==0.0.12 in ./venv/lib/python3.12/site-packages (0.0.12)\r\n",
      "Requirement already satisfied: ipython==8.31.0 in ./venv/lib/python3.12/site-packages (8.31.0)\r\n",
      "Requirement already satisfied: PyYAML>=5.3 in ./venv/lib/python3.12/site-packages (from langchain==0.3.16) (6.0.2)\r\n",
      "Requirement already satisfied: SQLAlchemy<3,>=1.4 in ./venv/lib/python3.12/site-packages (from langchain==0.3.16) (2.0.37)\r\n",
      "Requirement already satisfied: aiohttp<4.0.0,>=3.8.3 in ./venv/lib/python3.12/site-packages (from langchain==0.3.16) (3.11.11)\r\n",
      "Requirement already satisfied: langsmith<0.4,>=0.1.17 in ./venv/lib/python3.12/site-packages (from langchain==0.3.16) (0.3.0)\r\n",
      "Requirement already satisfied: numpy<3,>=1.26.2 in ./venv/lib/python3.12/site-packages (from langchain==0.3.16) (1.26.4)\r\n",
      "Requirement already satisfied: pydantic<3.0.0,>=2.7.4 in ./venv/lib/python3.12/site-packages (from langchain==0.3.16) (2.10.5)\r\n",
      "Requirement already satisfied: requests<3,>=2 in ./venv/lib/python3.12/site-packages (from langchain==0.3.16) (2.32.3)\r\n",
      "Requirement already satisfied: tenacity!=8.4.0,<10,>=8.1.0 in ./venv/lib/python3.12/site-packages (from langchain==0.3.16) (9.0.0)\r\n",
      "Requirement already satisfied: openai<2.0.0,>=1.58.1 in ./venv/lib/python3.12/site-packages (from langchain_openai==0.3.2) (1.60.0)\r\n",
      "Requirement already satisfied: tiktoken<1,>=0.7 in ./venv/lib/python3.12/site-packages (from langchain_openai==0.3.2) (0.8.0)\r\n",
      "Requirement already satisfied: langgraph-checkpoint<3.0.0,>=2.0.10 in ./venv/lib/python3.12/site-packages (from langgraph==0.2.68) (2.0.10)\r\n",
      "Requirement already satisfied: langgraph-sdk<0.2.0,>=0.1.42 in ./venv/lib/python3.12/site-packages (from langgraph==0.2.68) (0.1.51)\r\n",
      "Requirement already satisfied: dataclasses-json<0.7,>=0.5.7 in ./venv/lib/python3.12/site-packages (from langchain-community==0.3.16) (0.6.7)\r\n",
      "Requirement already satisfied: httpx-sse<0.5.0,>=0.4.0 in ./venv/lib/python3.12/site-packages (from langchain-community==0.3.16) (0.4.0)\r\n",
      "Requirement already satisfied: pydantic-settings<3.0.0,>=2.4.0 in ./venv/lib/python3.12/site-packages (from langchain-community==0.3.16) (2.7.1)\r\n",
      "Requirement already satisfied: jsonpatch<2.0,>=1.33 in ./venv/lib/python3.12/site-packages (from langchain-core==0.3.32) (1.33)\r\n",
      "Requirement already satisfied: packaging<25,>=23.2 in ./venv/lib/python3.12/site-packages (from langchain-core==0.3.32) (24.2)\r\n",
      "Requirement already satisfied: typing-extensions>=4.7 in ./venv/lib/python3.12/site-packages (from langchain-core==0.3.32) (4.12.2)\r\n",
      "Requirement already satisfied: pgvector<0.3.0,>=0.2.5 in ./venv/lib/python3.12/site-packages (from langchain-postgres==0.0.12) (0.2.5)\r\n",
      "Requirement already satisfied: psycopg<4,>=3 in ./venv/lib/python3.12/site-packages (from langchain-postgres==0.0.12) (3.2.4)\r\n",
      "Requirement already satisfied: psycopg-pool<4.0.0,>=3.2.1 in ./venv/lib/python3.12/site-packages (from langchain-postgres==0.0.12) (3.2.4)\r\n",
      "Requirement already satisfied: decorator in ./venv/lib/python3.12/site-packages (from ipython==8.31.0) (5.1.1)\r\n",
      "Requirement already satisfied: jedi>=0.16 in ./venv/lib/python3.12/site-packages (from ipython==8.31.0) (0.19.2)\r\n",
      "Requirement already satisfied: matplotlib-inline in ./venv/lib/python3.12/site-packages (from ipython==8.31.0) (0.1.7)\r\n",
      "Requirement already satisfied: pexpect>4.3 in ./venv/lib/python3.12/site-packages (from ipython==8.31.0) (4.9.0)\r\n",
      "Requirement already satisfied: prompt_toolkit<3.1.0,>=3.0.41 in ./venv/lib/python3.12/site-packages (from ipython==8.31.0) (3.0.50)\r\n",
      "Requirement already satisfied: pygments>=2.4.0 in ./venv/lib/python3.12/site-packages (from ipython==8.31.0) (2.19.1)\r\n",
      "Requirement already satisfied: stack_data in ./venv/lib/python3.12/site-packages (from ipython==8.31.0) (0.6.3)\r\n",
      "Requirement already satisfied: traitlets>=5.13.0 in ./venv/lib/python3.12/site-packages (from ipython==8.31.0) (5.14.3)\r\n",
      "Requirement already satisfied: aiohappyeyeballs>=2.3.0 in ./venv/lib/python3.12/site-packages (from aiohttp<4.0.0,>=3.8.3->langchain==0.3.16) (2.4.4)\r\n",
      "Requirement already satisfied: aiosignal>=1.1.2 in ./venv/lib/python3.12/site-packages (from aiohttp<4.0.0,>=3.8.3->langchain==0.3.16) (1.3.2)\r\n",
      "Requirement already satisfied: attrs>=17.3.0 in ./venv/lib/python3.12/site-packages (from aiohttp<4.0.0,>=3.8.3->langchain==0.3.16) (24.3.0)\r\n",
      "Requirement already satisfied: frozenlist>=1.1.1 in ./venv/lib/python3.12/site-packages (from aiohttp<4.0.0,>=3.8.3->langchain==0.3.16) (1.5.0)\r\n",
      "Requirement already satisfied: multidict<7.0,>=4.5 in ./venv/lib/python3.12/site-packages (from aiohttp<4.0.0,>=3.8.3->langchain==0.3.16) (6.1.0)\r\n",
      "Requirement already satisfied: propcache>=0.2.0 in ./venv/lib/python3.12/site-packages (from aiohttp<4.0.0,>=3.8.3->langchain==0.3.16) (0.2.1)\r\n",
      "Requirement already satisfied: yarl<2.0,>=1.17.0 in ./venv/lib/python3.12/site-packages (from aiohttp<4.0.0,>=3.8.3->langchain==0.3.16) (1.18.3)\r\n",
      "Requirement already satisfied: marshmallow<4.0.0,>=3.18.0 in ./venv/lib/python3.12/site-packages (from dataclasses-json<0.7,>=0.5.7->langchain-community==0.3.16) (3.25.1)\r\n",
      "Requirement already satisfied: typing-inspect<1,>=0.4.0 in ./venv/lib/python3.12/site-packages (from dataclasses-json<0.7,>=0.5.7->langchain-community==0.3.16) (0.9.0)\r\n",
      "Requirement already satisfied: parso<0.9.0,>=0.8.4 in ./venv/lib/python3.12/site-packages (from jedi>=0.16->ipython==8.31.0) (0.8.4)\r\n",
      "Requirement already satisfied: jsonpointer>=1.9 in ./venv/lib/python3.12/site-packages (from jsonpatch<2.0,>=1.33->langchain-core==0.3.32) (3.0.0)\r\n",
      "Requirement already satisfied: msgpack<2.0.0,>=1.1.0 in ./venv/lib/python3.12/site-packages (from langgraph-checkpoint<3.0.0,>=2.0.10->langgraph==0.2.68) (1.1.0)\r\n",
      "Requirement already satisfied: httpx>=0.25.2 in ./venv/lib/python3.12/site-packages (from langgraph-sdk<0.2.0,>=0.1.42->langgraph==0.2.68) (0.28.1)\r\n",
      "Requirement already satisfied: orjson>=3.10.1 in ./venv/lib/python3.12/site-packages (from langgraph-sdk<0.2.0,>=0.1.42->langgraph==0.2.68) (3.10.15)\r\n",
      "Requirement already satisfied: requests-toolbelt<2.0.0,>=1.0.0 in ./venv/lib/python3.12/site-packages (from langsmith<0.4,>=0.1.17->langchain==0.3.16) (1.0.0)\r\n",
      "Requirement already satisfied: zstandard<0.24.0,>=0.23.0 in ./venv/lib/python3.12/site-packages (from langsmith<0.4,>=0.1.17->langchain==0.3.16) (0.23.0)\r\n",
      "Requirement already satisfied: anyio<5,>=3.5.0 in ./venv/lib/python3.12/site-packages (from openai<2.0.0,>=1.58.1->langchain_openai==0.3.2) (4.8.0)\r\n",
      "Requirement already satisfied: distro<2,>=1.7.0 in ./venv/lib/python3.12/site-packages (from openai<2.0.0,>=1.58.1->langchain_openai==0.3.2) (1.9.0)\r\n",
      "Requirement already satisfied: jiter<1,>=0.4.0 in ./venv/lib/python3.12/site-packages (from openai<2.0.0,>=1.58.1->langchain_openai==0.3.2) (0.8.2)\r\n",
      "Requirement already satisfied: sniffio in ./venv/lib/python3.12/site-packages (from openai<2.0.0,>=1.58.1->langchain_openai==0.3.2) (1.3.1)\r\n",
      "Requirement already satisfied: tqdm>4 in ./venv/lib/python3.12/site-packages (from openai<2.0.0,>=1.58.1->langchain_openai==0.3.2) (4.67.1)\r\n",
      "Requirement already satisfied: ptyprocess>=0.5 in ./venv/lib/python3.12/site-packages (from pexpect>4.3->ipython==8.31.0) (0.7.0)\r\n",
      "Requirement already satisfied: wcwidth in ./venv/lib/python3.12/site-packages (from prompt_toolkit<3.1.0,>=3.0.41->ipython==8.31.0) (0.2.13)\r\n",
      "Requirement already satisfied: annotated-types>=0.6.0 in ./venv/lib/python3.12/site-packages (from pydantic<3.0.0,>=2.7.4->langchain==0.3.16) (0.7.0)\r\n",
      "Requirement already satisfied: pydantic-core==2.27.2 in ./venv/lib/python3.12/site-packages (from pydantic<3.0.0,>=2.7.4->langchain==0.3.16) (2.27.2)\r\n",
      "Requirement already satisfied: python-dotenv>=0.21.0 in ./venv/lib/python3.12/site-packages (from pydantic-settings<3.0.0,>=2.4.0->langchain-community==0.3.16) (1.0.1)\r\n",
      "Requirement already satisfied: charset-normalizer<4,>=2 in ./venv/lib/python3.12/site-packages (from requests<3,>=2->langchain==0.3.16) (3.4.1)\r\n",
      "Requirement already satisfied: idna<4,>=2.5 in ./venv/lib/python3.12/site-packages (from requests<3,>=2->langchain==0.3.16) (3.10)\r\n",
      "Requirement already satisfied: urllib3<3,>=1.21.1 in ./venv/lib/python3.12/site-packages (from requests<3,>=2->langchain==0.3.16) (2.3.0)\r\n",
      "Requirement already satisfied: certifi>=2017.4.17 in ./venv/lib/python3.12/site-packages (from requests<3,>=2->langchain==0.3.16) (2024.12.14)\r\n",
      "Requirement already satisfied: regex>=2022.1.18 in ./venv/lib/python3.12/site-packages (from tiktoken<1,>=0.7->langchain_openai==0.3.2) (2024.11.6)\r\n",
      "Requirement already satisfied: executing>=1.2.0 in ./venv/lib/python3.12/site-packages (from stack_data->ipython==8.31.0) (2.2.0)\r\n",
      "Requirement already satisfied: asttokens>=2.1.0 in ./venv/lib/python3.12/site-packages (from stack_data->ipython==8.31.0) (3.0.0)\r\n",
      "Requirement already satisfied: pure-eval in ./venv/lib/python3.12/site-packages (from stack_data->ipython==8.31.0) (0.2.3)\r\n",
      "Requirement already satisfied: httpcore==1.* in ./venv/lib/python3.12/site-packages (from httpx>=0.25.2->langgraph-sdk<0.2.0,>=0.1.42->langgraph==0.2.68) (1.0.7)\r\n",
      "Requirement already satisfied: h11<0.15,>=0.13 in ./venv/lib/python3.12/site-packages (from httpcore==1.*->httpx>=0.25.2->langgraph-sdk<0.2.0,>=0.1.42->langgraph==0.2.68) (0.14.0)\r\n",
      "Requirement already satisfied: mypy-extensions>=0.3.0 in ./venv/lib/python3.12/site-packages (from typing-inspect<1,>=0.4.0->dataclasses-json<0.7,>=0.5.7->langchain-community==0.3.16) (1.0.0)\r\n",
      "Note: you may need to restart the kernel to use updated packages.\n"
     ]
    }
   ],
   "execution_count": 14
  },
  {
   "metadata": {},
   "cell_type": "markdown",
   "source": "# Setup Environment",
   "id": "2107503b2ba6fd0e"
  },
  {
   "metadata": {
    "ExecuteTime": {
     "end_time": "2025-01-29T08:15:04.438943Z",
     "start_time": "2025-01-29T08:15:04.436213Z"
    }
   },
   "cell_type": "code",
   "source": [
    "import os\n",
    "\n",
    "os.environ['OPENAI_API_KEY'] = os.getenv('OPENAI_API_KEY')\n",
    "os.environ['LANGSMITH_API_KEY'] = os.getenv('LANGSMITH_API_KEY')\n",
    "\n",
    "CONNECTION = os.getenv('CONNECTION')\n",
    "COLLECTION_NAME = os.getenv('COLLECTION_NAME')"
   ],
   "id": "23e0d8861442c80b",
   "outputs": [],
   "execution_count": 3
  },
  {
   "metadata": {},
   "cell_type": "markdown",
   "source": "# Setup RAG",
   "id": "7cfea078243a9d1a"
  },
  {
   "metadata": {
    "ExecuteTime": {
     "end_time": "2025-01-29T08:15:10.655886Z",
     "start_time": "2025-01-29T08:15:09.677370Z"
    }
   },
   "cell_type": "code",
   "source": [
    "from langchain_openai import ChatOpenAI, OpenAIEmbeddings\n",
    "from langchain_postgres import PGVector\n",
    "\n",
    "llm = ChatOpenAI(model='gpt-4o-mini')\n",
    "embeddings = OpenAIEmbeddings(model='text-embedding-3-small')\n",
    "\n",
    "pg_vector_store = PGVector(\n",
    "    embeddings=embeddings,\n",
    "    collection_name=COLLECTION_NAME,\n",
    "    connection=CONNECTION,\n",
    "    use_jsonb=True,\n",
    ")"
   ],
   "id": "14d365bce45755a9",
   "outputs": [],
   "execution_count": 4
  },
  {
   "metadata": {},
   "cell_type": "markdown",
   "source": "# Ingest Test Data",
   "id": "1bf0c185887513ac"
  },
  {
   "metadata": {
    "ExecuteTime": {
     "end_time": "2025-01-29T05:03:28.383228Z",
     "start_time": "2025-01-29T05:03:27.087118Z"
    }
   },
   "cell_type": "code",
   "source": [
    "from langchain_core.documents import Document\n",
    "\n",
    "docs = [\n",
    "    Document(\n",
    "        page_content='there are cats in the pond',\n",
    "        metadata={'id': 1, 'location': 'pond', 'topic': 'animals'},\n",
    "    ),\n",
    "    Document(\n",
    "        page_content='ducks are also found in the pond',\n",
    "        metadata={'id': 2, 'location': 'pond', 'topic': 'animals'},\n",
    "    ),\n",
    "    Document(\n",
    "        page_content='fresh apples are available at the market',\n",
    "        metadata={'id': 3, 'location': 'market', 'topic': 'food'},\n",
    "    ),\n",
    "    Document(\n",
    "        page_content='the market also sells fresh oranges',\n",
    "        metadata={'id': 4, 'location': 'market', 'topic': 'food'},\n",
    "    ),\n",
    "    Document(\n",
    "        page_content='the new art exhibit is fascinating',\n",
    "        metadata={'id': 5, 'location': 'museum', 'topic': 'art'},\n",
    "    ),\n",
    "    Document(\n",
    "        page_content='a sculpture exhibit is also at the museum',\n",
    "        metadata={'id': 6, 'location': 'museum', 'topic': 'art'},\n",
    "    ),\n",
    "    Document(\n",
    "        page_content='a new coffee shop opened on Main Street',\n",
    "        metadata={'id': 7, 'location': 'Main Street', 'topic': 'food'},\n",
    "    ),\n",
    "    Document(\n",
    "        page_content='the book club meets at the library',\n",
    "        metadata={'id': 8, 'location': 'library', 'topic': 'reading'},\n",
    "    ),\n",
    "    Document(\n",
    "        page_content='the library hosts a weekly story time for kids',\n",
    "        metadata={'id': 9, 'location': 'library', 'topic': 'reading'},\n",
    "    ),\n",
    "    Document(\n",
    "        page_content='a cooking class for beginners is offered at the community center',\n",
    "        metadata={'id': 10, 'location': 'community center', 'topic': 'classes'},\n",
    "    ),\n",
    "]\n",
    "\n",
    "pg_vector_store.add_documents(docs, ids=[doc.metadata['id'] for doc in docs])"
   ],
   "id": "90bdcbe2a3710859",
   "outputs": [
    {
     "data": {
      "text/plain": [
       "[1, 2, 3, 4, 5, 6, 7, 8, 9, 10]"
      ]
     },
     "execution_count": 9,
     "metadata": {},
     "output_type": "execute_result"
    }
   ],
   "execution_count": 9
  },
  {
   "metadata": {},
   "cell_type": "markdown",
   "source": "# Test Queries",
   "id": "1f8ef35039b13b07"
  },
  {
   "metadata": {
    "ExecuteTime": {
     "end_time": "2025-01-29T08:16:37.864246Z",
     "start_time": "2025-01-29T08:16:36.378460Z"
    }
   },
   "cell_type": "code",
   "source": [
    "query_filter = {\n",
    "    '$and': [\n",
    "        {'id': {'$in': [1, 5, 2, 9]}},\n",
    "        {'location': {'$in': ['pond', 'market']}},\n",
    "    ]\n",
    "}\n",
    "\n",
    "pg_vector_store.similarity_search(\n",
    "    'ducks',\n",
    "    k=10,\n",
    "    filter=query_filter,\n",
    ")"
   ],
   "id": "9fb8086a2d43440",
   "outputs": [
    {
     "data": {
      "text/plain": [
       "[Document(id='2', metadata={'id': 2, 'topic': 'animals', 'location': 'pond'}, page_content='ducks are also found in the pond'),\n",
       " Document(id='1', metadata={'id': 1, 'topic': 'animals', 'location': 'pond'}, page_content='there are cats in the pond')]"
      ]
     },
     "execution_count": 5,
     "metadata": {},
     "output_type": "execute_result"
    }
   ],
   "execution_count": 5
  },
  {
   "metadata": {},
   "cell_type": "markdown",
   "source": "# Agents Setup",
   "id": "cf576d89def957e8"
  },
  {
   "metadata": {
    "ExecuteTime": {
     "end_time": "2025-01-29T08:16:39.822305Z",
     "start_time": "2025-01-29T08:16:39.787785Z"
    }
   },
   "cell_type": "code",
   "source": [
    "from langgraph.graph import MessagesState\n",
    "\n",
    "\n",
    "class State(MessagesState):\n",
    "    next: str"
   ],
   "id": "1f87c264de8863e",
   "outputs": [],
   "execution_count": 6
  },
  {
   "metadata": {},
   "cell_type": "markdown",
   "source": "# Tool setup",
   "id": "6ca138088053469b"
  },
  {
   "metadata": {
    "ExecuteTime": {
     "end_time": "2025-01-29T10:12:05.688978Z",
     "start_time": "2025-01-29T10:12:04.802457Z"
    }
   },
   "cell_type": "code",
   "source": [
    "from langchain import hub\n",
    "from langchain_core.tools import tool\n",
    "from typing import Annotated\n",
    "\n",
    "prompt = hub.pull('rlm/rag-prompt')\n",
    "\n",
    "\n",
    "def retrieve(question: str):\n",
    "    retrieved_docs = pg_vector_store.similarity_search(question)\n",
    "    return {'context': retrieved_docs}\n",
    "\n",
    "\n",
    "@tool\n",
    "def rag_tool(question: Annotated[str, 'User prompt'], ):\n",
    "    \"\"\"Use this to get chunks\"\"\"\n",
    "    docs_content = '\\n\\n'.join(doc.page_content for doc in question)\n",
    "    messages = prompt.invoke({'question': question, 'context': docs_content})\n",
    "    response = llm.invoke(messages)\n",
    "    return {'answer': response.content}\n",
    "\n",
    "\n",
    "@tool\n",
    "def api_tool(question: Annotated[str, 'User prompt'], ):\n",
    "    \"\"\"Use this to get api result\"\"\"\n",
    "\n",
    "    # API integration here\n",
    "\n",
    "    return {'answer': 'Barista is the new coffee shop opened on Main Street'}"
   ],
   "id": "2b5a974811aa342f",
   "outputs": [],
   "execution_count": 11
  },
  {
   "metadata": {},
   "cell_type": "markdown",
   "source": "# Create Agents",
   "id": "1acca00101ddd0f9"
  },
  {
   "metadata": {
    "ExecuteTime": {
     "end_time": "2025-01-29T10:25:05.976927Z",
     "start_time": "2025-01-29T10:25:05.965485Z"
    }
   },
   "cell_type": "code",
   "source": [
    "from langgraph.prebuilt import create_react_agent\n",
    "from langgraph.types import Command\n",
    "from langchain_core.messages import HumanMessage\n",
    "from langgraph.graph import StateGraph, START, END\n",
    "from typing_extensions import TypedDict\n",
    "from typing import Literal\n",
    "\n",
    "rag_agent = create_react_agent(llm, tools=[rag_tool])\n",
    "api_agent = create_react_agent(llm, tools=[api_tool])\n",
    "\n",
    "members = ['rag', 'api']\n",
    "\n",
    "options = members + ['FINISH']\n",
    "\n",
    "system_prompt = (\n",
    "    'You are a supervisor tasked with managing a conversation between the'\n",
    "    f' following workers: {members}. Given the following user request,'\n",
    "    ' respond with the worker to act next. Each worker will perform a'\n",
    "    ' task and respond with their results and status. When finished,'\n",
    "    ' respond with FINISH.'\n",
    ")\n",
    "\n",
    "class Router(TypedDict):\n",
    "    \"\"\"Worker to route to next. If no workers needed, route to FINISH.\"\"\"\n",
    "\n",
    "    next: Literal[*options]\n",
    "\n",
    "def supervisor_node(state: State) -> Command[Literal[*members, '__end__']]:\n",
    "    messages = [\n",
    "                   {'role': 'system', 'content': system_prompt},\n",
    "               ] + state['messages']\n",
    "    response = llm.with_structured_output(Router).invoke(messages)\n",
    "    goto = response['next']\n",
    "    if goto == 'FINISH':\n",
    "        goto = END\n",
    "\n",
    "    return Command(goto=goto, update={'next': goto})\n",
    "\n",
    "def rag_node(state: State) -> Command[Literal['supervisor']]:\n",
    "    result = rag_agent.invoke(state)\n",
    "    return Command(\n",
    "        update={\n",
    "            'messages': [\n",
    "                HumanMessage(content=result['messages'][-1].content, name='rag')\n",
    "            ]\n",
    "        },\n",
    "        goto='supervisor',\n",
    "    )\n",
    "\n",
    "\n",
    "def api_node(state: State) -> Command[Literal['supervisor']]:\n",
    "    result = api_agent.invoke(state)\n",
    "    return Command(\n",
    "        update={\n",
    "            'messages': [\n",
    "                HumanMessage(content=result['messages'][-1].content, name='api')\n",
    "            ]\n",
    "        },\n",
    "        goto='supervisor',\n",
    "    )\n",
    "\n",
    "builder = StateGraph(State)\n",
    "builder.add_edge(START, 'supervisor')\n",
    "builder.add_node('supervisor', supervisor_node)\n",
    "builder.add_node('rag', rag_node)\n",
    "builder.add_node('api', api_node)\n",
    "graph = builder.compile()"
   ],
   "id": "4809aa55ce2c1da5",
   "outputs": [],
   "execution_count": 13
  },
  {
   "metadata": {},
   "cell_type": "markdown",
   "source": "# Graph",
   "id": "849f8c35ed57a0db"
  },
  {
   "metadata": {},
   "cell_type": "code",
   "outputs": [],
   "execution_count": null,
   "source": [
    "from IPython.display import display, Image\n",
    "\n",
    "display(Image(graph.get_graph().draw_mermaid_png()))"
   ],
   "id": "acf27d7a5cd57f44"
  }
 ],
 "metadata": {
  "kernelspec": {
   "display_name": "Python 3",
   "language": "python",
   "name": "python3"
  },
  "language_info": {
   "codemirror_mode": {
    "name": "ipython",
    "version": 2
   },
   "file_extension": ".py",
   "mimetype": "text/x-python",
   "name": "python",
   "nbconvert_exporter": "python",
   "pygments_lexer": "ipython2",
   "version": "2.7.6"
  }
 },
 "nbformat": 4,
 "nbformat_minor": 5
}
