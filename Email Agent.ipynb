{
 "cells": [
  {
   "metadata": {},
   "cell_type": "markdown",
   "source": "# Read mail",
   "id": "ab85a6c26aab00c7"
  },
  {
   "cell_type": "code",
   "id": "initial_id",
   "metadata": {
    "collapsed": true,
    "ExecuteTime": {
     "end_time": "2025-02-11T09:56:52.399225Z",
     "start_time": "2025-02-11T09:56:50.070523Z"
    }
   },
   "source": [
    "# Importing libraries\n",
    "import imaplib, email\n",
    "\n",
    "user = 'system@kayatech.com'\n",
    "password = 'USER_PASSWORD'\n",
    "imap_url = 'imap.gmail.com'\n",
    "\n",
    "\n",
    "# Function to get email content part i.e its body part\n",
    "def get_body(msg):\n",
    "    if msg.is_multipart():\n",
    "        return get_body(msg.get_payload(0))\n",
    "    else:\n",
    "        return msg.get_payload(None, True)\n",
    "\n",
    "\n",
    "# Function to search for a key value pair\n",
    "def search(key, value, con):\n",
    "    result, data = con.search(None, key, '\"{}\"'.format(value))\n",
    "    return data\n",
    "\n",
    "\n",
    "# Function to get the list of emails under this label\n",
    "def get_emails(result_bytes):\n",
    "    msgs = []  # all the email data are pushed inside an array\n",
    "    for num in result_bytes[0].split():\n",
    "        typ, data = con.fetch(num, '(RFC822)')\n",
    "        msgs.append(data)\n",
    "\n",
    "    return msgs\n",
    "\n",
    "\n",
    "# this is done to make SSL connection with GMAIL\n",
    "con = imaplib.IMAP4_SSL(imap_url)\n",
    "\n",
    "# logging the user in\n",
    "con.login(user, password)\n",
    "\n",
    "# calling function to check for email under this label\n",
    "con.select('Inbox')\n",
    "\n",
    "# fetching emails from this user \"tu**h*****1@gmail.com\"\n",
    "msgs = get_emails(search('FROM', 'MY_ANOTHER_GMAIL_ADDRESS', con))\n",
    "\n",
    "# Uncomment this to see what actually comes as data\n",
    "# print(msgs)\n",
    "\n",
    "\n",
    "# Finding the required content from our msgs\n",
    "# User can make custom changes in this part to\n",
    "# fetch the required content he / she needs\n",
    "\n",
    "# printing them by the order they are displayed in your gmail\n",
    "for msg in msgs[::-1]:\n",
    "    for sent in msg:\n",
    "        if type(sent) is tuple:\n",
    "\n",
    "            # encoding set as utf-8\n",
    "            content = str(sent[1], 'utf-8')\n",
    "            data = str(content)\n",
    "\n",
    "            # Handling errors related to unicodenecode\n",
    "            try:\n",
    "                indexstart = data.find(\"ltr\")\n",
    "                data2 = data[indexstart + 5: len(data)]\n",
    "                indexend = data2.find(\"</div>\")\n",
    "\n",
    "                # printing the required content which we need\n",
    "                # to extract from our email i.e our body\n",
    "                print(data2[0: indexend])\n",
    "\n",
    "            except UnicodeEncodeError as e:\n",
    "                pass\n"
   ],
   "outputs": [
    {
     "ename": "error",
     "evalue": "b'[AUTHENTICATIONFAILED] Invalid credentials (Failure)'",
     "output_type": "error",
     "traceback": [
      "\u001B[0;31m---------------------------------------------------------------------------\u001B[0m",
      "\u001B[0;31merror\u001B[0m                                     Traceback (most recent call last)",
      "Cell \u001B[0;32mIn[6], line 37\u001B[0m\n\u001B[1;32m     34\u001B[0m con \u001B[38;5;241m=\u001B[39m imaplib\u001B[38;5;241m.\u001B[39mIMAP4_SSL(imap_url)\n\u001B[1;32m     36\u001B[0m \u001B[38;5;66;03m# logging the user in\u001B[39;00m\n\u001B[0;32m---> 37\u001B[0m \u001B[43mcon\u001B[49m\u001B[38;5;241;43m.\u001B[39;49m\u001B[43mlogin\u001B[49m\u001B[43m(\u001B[49m\u001B[43muser\u001B[49m\u001B[43m,\u001B[49m\u001B[43m \u001B[49m\u001B[43mpassword\u001B[49m\u001B[43m)\u001B[49m\n\u001B[1;32m     39\u001B[0m \u001B[38;5;66;03m# calling function to check for email under this label\u001B[39;00m\n\u001B[1;32m     40\u001B[0m con\u001B[38;5;241m.\u001B[39mselect(\u001B[38;5;124m'\u001B[39m\u001B[38;5;124mInbox\u001B[39m\u001B[38;5;124m'\u001B[39m)\n",
      "File \u001B[0;32m/Library/Frameworks/Python.framework/Versions/3.12/lib/python3.12/imaplib.py:612\u001B[0m, in \u001B[0;36mIMAP4.login\u001B[0;34m(self, user, password)\u001B[0m\n\u001B[1;32m    610\u001B[0m typ, dat \u001B[38;5;241m=\u001B[39m \u001B[38;5;28mself\u001B[39m\u001B[38;5;241m.\u001B[39m_simple_command(\u001B[38;5;124m'\u001B[39m\u001B[38;5;124mLOGIN\u001B[39m\u001B[38;5;124m'\u001B[39m, user, \u001B[38;5;28mself\u001B[39m\u001B[38;5;241m.\u001B[39m_quote(password))\n\u001B[1;32m    611\u001B[0m \u001B[38;5;28;01mif\u001B[39;00m typ \u001B[38;5;241m!=\u001B[39m \u001B[38;5;124m'\u001B[39m\u001B[38;5;124mOK\u001B[39m\u001B[38;5;124m'\u001B[39m:\n\u001B[0;32m--> 612\u001B[0m     \u001B[38;5;28;01mraise\u001B[39;00m \u001B[38;5;28mself\u001B[39m\u001B[38;5;241m.\u001B[39merror(dat[\u001B[38;5;241m-\u001B[39m\u001B[38;5;241m1\u001B[39m])\n\u001B[1;32m    613\u001B[0m \u001B[38;5;28mself\u001B[39m\u001B[38;5;241m.\u001B[39mstate \u001B[38;5;241m=\u001B[39m \u001B[38;5;124m'\u001B[39m\u001B[38;5;124mAUTH\u001B[39m\u001B[38;5;124m'\u001B[39m\n\u001B[1;32m    614\u001B[0m \u001B[38;5;28;01mreturn\u001B[39;00m typ, dat\n",
      "\u001B[0;31merror\u001B[0m: b'[AUTHENTICATIONFAILED] Invalid credentials (Failure)'"
     ]
    }
   ],
   "execution_count": 6
  },
  {
   "metadata": {},
   "cell_type": "markdown",
   "source": "# Send Mail",
   "id": "dd5ce07cb6f65f0c"
  },
  {
   "metadata": {
    "ExecuteTime": {
     "end_time": "2025-02-11T09:57:05.209488Z",
     "start_time": "2025-02-11T09:57:03.473708Z"
    }
   },
   "cell_type": "code",
   "source": [
    "import smtplib\n",
    "from email.mime.text import MIMEText\n",
    "from email.mime.multipart import MIMEMultipart\n",
    "\n",
    "html = \"\"\"\\\n",
    "        <html>\n",
    "        <head></head>\n",
    "        <body>\n",
    "            <h1> Content here </h1\n",
    "        </body>\n",
    "        </html>\n",
    "        \"\"\"\n",
    "\n",
    "msg = MIMEMultipart('alternative')\n",
    "msg['Subject'] = 'Test Subject'\n",
    "msg['From'] = user\n",
    "msg['To'] = 'sahasp@techprovint.com'\n",
    "body = html\n",
    "\n",
    "part = MIMEText(body, 'html')\n",
    "msg.attach(part)\n",
    "\n",
    "smtp_server = smtplib.SMTP_SSL('smtp.gmail.com', 465)\n",
    "smtp_server.ehlo()\n",
    "smtp_server.login(user, password)\n",
    "recipients = ['sahasp@techprovint.com']\n",
    "smtp_server.sendmail(user, recipients, msg.as_string())\n",
    "smtp_server.close()\n",
    "print(f'Email sent successfully')"
   ],
   "id": "e46d5bd975bd7fd2",
   "outputs": [
    {
     "ename": "SMTPAuthenticationError",
     "evalue": "(535, b'5.7.8 Username and Password not accepted. For more information, go to\\n5.7.8  https://support.google.com/mail/?p=BadCredentials d9443c01a7336-21f3687dddasm93190345ad.203 - gsmtp')",
     "output_type": "error",
     "traceback": [
      "\u001B[0;31m---------------------------------------------------------------------------\u001B[0m",
      "\u001B[0;31mSMTPAuthenticationError\u001B[0m                   Traceback (most recent call last)",
      "Cell \u001B[0;32mIn[7], line 25\u001B[0m\n\u001B[1;32m     23\u001B[0m smtp_server \u001B[38;5;241m=\u001B[39m smtplib\u001B[38;5;241m.\u001B[39mSMTP_SSL(\u001B[38;5;124m'\u001B[39m\u001B[38;5;124msmtp.gmail.com\u001B[39m\u001B[38;5;124m'\u001B[39m, \u001B[38;5;241m465\u001B[39m)\n\u001B[1;32m     24\u001B[0m smtp_server\u001B[38;5;241m.\u001B[39mehlo()\n\u001B[0;32m---> 25\u001B[0m \u001B[43msmtp_server\u001B[49m\u001B[38;5;241;43m.\u001B[39;49m\u001B[43mlogin\u001B[49m\u001B[43m(\u001B[49m\u001B[43muser\u001B[49m\u001B[43m,\u001B[49m\u001B[43m \u001B[49m\u001B[43mpassword\u001B[49m\u001B[43m)\u001B[49m\n\u001B[1;32m     26\u001B[0m recipients \u001B[38;5;241m=\u001B[39m [\u001B[38;5;124m'\u001B[39m\u001B[38;5;124msahasp@techprovint.com\u001B[39m\u001B[38;5;124m'\u001B[39m]\n\u001B[1;32m     27\u001B[0m smtp_server\u001B[38;5;241m.\u001B[39msendmail(user, recipients, msg\u001B[38;5;241m.\u001B[39mas_string())\n",
      "File \u001B[0;32m/Library/Frameworks/Python.framework/Versions/3.12/lib/python3.12/smtplib.py:750\u001B[0m, in \u001B[0;36mSMTP.login\u001B[0;34m(self, user, password, initial_response_ok)\u001B[0m\n\u001B[1;32m    747\u001B[0m         last_exception \u001B[38;5;241m=\u001B[39m e\n\u001B[1;32m    749\u001B[0m \u001B[38;5;66;03m# We could not login successfully.  Return result of last attempt.\u001B[39;00m\n\u001B[0;32m--> 750\u001B[0m \u001B[38;5;28;01mraise\u001B[39;00m last_exception\n",
      "File \u001B[0;32m/Library/Frameworks/Python.framework/Versions/3.12/lib/python3.12/smtplib.py:739\u001B[0m, in \u001B[0;36mSMTP.login\u001B[0;34m(self, user, password, initial_response_ok)\u001B[0m\n\u001B[1;32m    737\u001B[0m method_name \u001B[38;5;241m=\u001B[39m \u001B[38;5;124m'\u001B[39m\u001B[38;5;124mauth_\u001B[39m\u001B[38;5;124m'\u001B[39m \u001B[38;5;241m+\u001B[39m authmethod\u001B[38;5;241m.\u001B[39mlower()\u001B[38;5;241m.\u001B[39mreplace(\u001B[38;5;124m'\u001B[39m\u001B[38;5;124m-\u001B[39m\u001B[38;5;124m'\u001B[39m, \u001B[38;5;124m'\u001B[39m\u001B[38;5;124m_\u001B[39m\u001B[38;5;124m'\u001B[39m)\n\u001B[1;32m    738\u001B[0m \u001B[38;5;28;01mtry\u001B[39;00m:\n\u001B[0;32m--> 739\u001B[0m     (code, resp) \u001B[38;5;241m=\u001B[39m \u001B[38;5;28;43mself\u001B[39;49m\u001B[38;5;241;43m.\u001B[39;49m\u001B[43mauth\u001B[49m\u001B[43m(\u001B[49m\n\u001B[1;32m    740\u001B[0m \u001B[43m        \u001B[49m\u001B[43mauthmethod\u001B[49m\u001B[43m,\u001B[49m\u001B[43m \u001B[49m\u001B[38;5;28;43mgetattr\u001B[39;49m\u001B[43m(\u001B[49m\u001B[38;5;28;43mself\u001B[39;49m\u001B[43m,\u001B[49m\u001B[43m \u001B[49m\u001B[43mmethod_name\u001B[49m\u001B[43m)\u001B[49m\u001B[43m,\u001B[49m\n\u001B[1;32m    741\u001B[0m \u001B[43m        \u001B[49m\u001B[43minitial_response_ok\u001B[49m\u001B[38;5;241;43m=\u001B[39;49m\u001B[43minitial_response_ok\u001B[49m\u001B[43m)\u001B[49m\n\u001B[1;32m    742\u001B[0m     \u001B[38;5;66;03m# 235 == 'Authentication successful'\u001B[39;00m\n\u001B[1;32m    743\u001B[0m     \u001B[38;5;66;03m# 503 == 'Error: already authenticated'\u001B[39;00m\n\u001B[1;32m    744\u001B[0m     \u001B[38;5;28;01mif\u001B[39;00m code \u001B[38;5;129;01min\u001B[39;00m (\u001B[38;5;241m235\u001B[39m, \u001B[38;5;241m503\u001B[39m):\n",
      "File \u001B[0;32m/Library/Frameworks/Python.framework/Versions/3.12/lib/python3.12/smtplib.py:662\u001B[0m, in \u001B[0;36mSMTP.auth\u001B[0;34m(self, mechanism, authobject, initial_response_ok)\u001B[0m\n\u001B[1;32m    660\u001B[0m \u001B[38;5;28;01mif\u001B[39;00m code \u001B[38;5;129;01min\u001B[39;00m (\u001B[38;5;241m235\u001B[39m, \u001B[38;5;241m503\u001B[39m):\n\u001B[1;32m    661\u001B[0m     \u001B[38;5;28;01mreturn\u001B[39;00m (code, resp)\n\u001B[0;32m--> 662\u001B[0m \u001B[38;5;28;01mraise\u001B[39;00m SMTPAuthenticationError(code, resp)\n",
      "\u001B[0;31mSMTPAuthenticationError\u001B[0m: (535, b'5.7.8 Username and Password not accepted. For more information, go to\\n5.7.8  https://support.google.com/mail/?p=BadCredentials d9443c01a7336-21f3687dddasm93190345ad.203 - gsmtp')"
     ]
    }
   ],
   "execution_count": 7
  }
 ],
 "metadata": {
  "kernelspec": {
   "display_name": "Python 3",
   "language": "python",
   "name": "python3"
  },
  "language_info": {
   "codemirror_mode": {
    "name": "ipython",
    "version": 2
   },
   "file_extension": ".py",
   "mimetype": "text/x-python",
   "name": "python",
   "nbconvert_exporter": "python",
   "pygments_lexer": "ipython2",
   "version": "2.7.6"
  }
 },
 "nbformat": 4,
 "nbformat_minor": 5
}
